{
  "nbformat": 4,
  "nbformat_minor": 0,
  "metadata": {
    "kernelspec": {
      "display_name": "Python 3",
      "language": "python",
      "name": "python3"
    },
    "language_info": {
      "codemirror_mode": {
        "name": "ipython",
        "version": 3
      },
      "file_extension": ".py",
      "mimetype": "text/x-python",
      "name": "python",
      "nbconvert_exporter": "python",
      "pygments_lexer": "ipython3",
      "version": "3.7.3"
    },
    "colab": {
      "name": "Assignment-3_Mostofa.ipynb",
      "provenance": [],
      "include_colab_link": true
    }
  },
  "cells": [
    {
      "cell_type": "markdown",
      "metadata": {
        "id": "view-in-github",
        "colab_type": "text"
      },
      "source": [
        "<a href=\"https://colab.research.google.com/github/Mostofa-Najmus-Sakib/Data-Science-CS533/blob/main/Assisgnment3/Assignment_3.ipynb\" target=\"_parent\"><img src=\"https://colab.research.google.com/assets/colab-badge.svg\" alt=\"Open In Colab\"/></a>"
      ]
    },
    {
      "cell_type": "markdown",
      "metadata": {
        "id": "-Vb3Yqxjq_vN"
      },
      "source": [
        "# Assignment 3: Loan Default"
      ]
    },
    {
      "cell_type": "markdown",
      "metadata": {
        "id": "2eBw7uuTq_vZ"
      },
      "source": [
        "## CS 533"
      ]
    },
    {
      "cell_type": "markdown",
      "metadata": {
        "id": "q22aQ1Xlq_ve"
      },
      "source": [
        "### Loading all the libraries"
      ]
    },
    {
      "cell_type": "code",
      "metadata": {
        "id": "ZhBnUIC_q_vh"
      },
      "source": [
        "import pandas as pd\n",
        "import seaborn as sns\n",
        "import numpy as np\n",
        "import matplotlib.pyplot as plt\n",
        "import statsmodels.api as sm\n",
        "import statsmodels.formula.api as smf\n",
        "import sklearn.metrics"
      ],
      "execution_count": null,
      "outputs": []
    },
    {
      "cell_type": "markdown",
      "metadata": {
        "id": "3t6IIVa_q_vm"
      },
      "source": [
        "### Loading the data"
      ]
    },
    {
      "cell_type": "code",
      "metadata": {
        "id": "JcPNuL95q_vo",
        "outputId": "078763d8-8bb3-4d08-c36a-43afcdde1686"
      },
      "source": [
        "Loan_data = pd.read_csv(\"SBAcase.11.13.17.csv\")\n",
        "len(Loan_data)\n",
        "Loan_data.head()"
      ],
      "execution_count": null,
      "outputs": [
        {
          "data": {
            "text/html": [
              "<div>\n",
              "<style scoped>\n",
              "    .dataframe tbody tr th:only-of-type {\n",
              "        vertical-align: middle;\n",
              "    }\n",
              "\n",
              "    .dataframe tbody tr th {\n",
              "        vertical-align: top;\n",
              "    }\n",
              "\n",
              "    .dataframe thead th {\n",
              "        text-align: right;\n",
              "    }\n",
              "</style>\n",
              "<table border=\"1\" class=\"dataframe\">\n",
              "  <thead>\n",
              "    <tr style=\"text-align: right;\">\n",
              "      <th></th>\n",
              "      <th>Selected</th>\n",
              "      <th>LoanNr_ChkDgt</th>\n",
              "      <th>Name</th>\n",
              "      <th>City</th>\n",
              "      <th>State</th>\n",
              "      <th>Zip</th>\n",
              "      <th>Bank</th>\n",
              "      <th>BankState</th>\n",
              "      <th>NAICS</th>\n",
              "      <th>ApprovalDate</th>\n",
              "      <th>...</th>\n",
              "      <th>ChgOffPrinGr</th>\n",
              "      <th>GrAppv</th>\n",
              "      <th>SBA_Appv</th>\n",
              "      <th>New</th>\n",
              "      <th>RealEstate</th>\n",
              "      <th>Portion</th>\n",
              "      <th>Recession</th>\n",
              "      <th>daysterm</th>\n",
              "      <th>xx</th>\n",
              "      <th>Default</th>\n",
              "    </tr>\n",
              "  </thead>\n",
              "  <tbody>\n",
              "    <tr>\n",
              "      <th>0</th>\n",
              "      <td>0</td>\n",
              "      <td>1004285007</td>\n",
              "      <td>SIMPLEX OFFICE SOLUTIONS</td>\n",
              "      <td>ANAHEIM</td>\n",
              "      <td>CA</td>\n",
              "      <td>92801</td>\n",
              "      <td>CALIFORNIA BANK &amp; TRUST</td>\n",
              "      <td>CA</td>\n",
              "      <td>532420</td>\n",
              "      <td>15074</td>\n",
              "      <td>...</td>\n",
              "      <td>0</td>\n",
              "      <td>30000</td>\n",
              "      <td>15000</td>\n",
              "      <td>0</td>\n",
              "      <td>0</td>\n",
              "      <td>0.5</td>\n",
              "      <td>0</td>\n",
              "      <td>1080</td>\n",
              "      <td>16175.0</td>\n",
              "      <td>0</td>\n",
              "    </tr>\n",
              "    <tr>\n",
              "      <th>1</th>\n",
              "      <td>1</td>\n",
              "      <td>1004535010</td>\n",
              "      <td>DREAM HOME REALTY</td>\n",
              "      <td>TORRANCE</td>\n",
              "      <td>CA</td>\n",
              "      <td>90505</td>\n",
              "      <td>CALIFORNIA BANK &amp; TRUST</td>\n",
              "      <td>CA</td>\n",
              "      <td>531210</td>\n",
              "      <td>15130</td>\n",
              "      <td>...</td>\n",
              "      <td>0</td>\n",
              "      <td>30000</td>\n",
              "      <td>15000</td>\n",
              "      <td>0</td>\n",
              "      <td>0</td>\n",
              "      <td>0.5</td>\n",
              "      <td>1</td>\n",
              "      <td>1680</td>\n",
              "      <td>17658.0</td>\n",
              "      <td>0</td>\n",
              "    </tr>\n",
              "    <tr>\n",
              "      <th>2</th>\n",
              "      <td>0</td>\n",
              "      <td>1005005006</td>\n",
              "      <td>Winset, Inc. dba Bankers Hill</td>\n",
              "      <td>SAN DIEGO</td>\n",
              "      <td>CA</td>\n",
              "      <td>92103</td>\n",
              "      <td>CALIFORNIA BANK &amp; TRUST</td>\n",
              "      <td>CA</td>\n",
              "      <td>531210</td>\n",
              "      <td>15188</td>\n",
              "      <td>...</td>\n",
              "      <td>0</td>\n",
              "      <td>30000</td>\n",
              "      <td>15000</td>\n",
              "      <td>0</td>\n",
              "      <td>0</td>\n",
              "      <td>0.5</td>\n",
              "      <td>0</td>\n",
              "      <td>1080</td>\n",
              "      <td>16298.0</td>\n",
              "      <td>0</td>\n",
              "    </tr>\n",
              "    <tr>\n",
              "      <th>3</th>\n",
              "      <td>1</td>\n",
              "      <td>1005535001</td>\n",
              "      <td>Shiva Management</td>\n",
              "      <td>SAN DIEGO</td>\n",
              "      <td>CA</td>\n",
              "      <td>92108</td>\n",
              "      <td>CALIFORNIA BANK &amp; TRUST</td>\n",
              "      <td>CA</td>\n",
              "      <td>531312</td>\n",
              "      <td>15719</td>\n",
              "      <td>...</td>\n",
              "      <td>0</td>\n",
              "      <td>50000</td>\n",
              "      <td>25000</td>\n",
              "      <td>0</td>\n",
              "      <td>0</td>\n",
              "      <td>0.5</td>\n",
              "      <td>0</td>\n",
              "      <td>1080</td>\n",
              "      <td>16816.0</td>\n",
              "      <td>0</td>\n",
              "    </tr>\n",
              "    <tr>\n",
              "      <th>4</th>\n",
              "      <td>1</td>\n",
              "      <td>1005996006</td>\n",
              "      <td>GOLD CROWN HOME LOANS, INC</td>\n",
              "      <td>LOS ANGELES</td>\n",
              "      <td>CA</td>\n",
              "      <td>91345</td>\n",
              "      <td>SBA - EDF ENFORCEMENT ACTION</td>\n",
              "      <td>CO</td>\n",
              "      <td>531390</td>\n",
              "      <td>16840</td>\n",
              "      <td>...</td>\n",
              "      <td>0</td>\n",
              "      <td>343000</td>\n",
              "      <td>343000</td>\n",
              "      <td>0</td>\n",
              "      <td>1</td>\n",
              "      <td>1.0</td>\n",
              "      <td>0</td>\n",
              "      <td>7200</td>\n",
              "      <td>24103.0</td>\n",
              "      <td>0</td>\n",
              "    </tr>\n",
              "  </tbody>\n",
              "</table>\n",
              "<p>5 rows × 35 columns</p>\n",
              "</div>"
            ],
            "text/plain": [
              "   Selected  LoanNr_ChkDgt                           Name         City State  \\\n",
              "0         0     1004285007       SIMPLEX OFFICE SOLUTIONS      ANAHEIM    CA   \n",
              "1         1     1004535010              DREAM HOME REALTY     TORRANCE    CA   \n",
              "2         0     1005005006  Winset, Inc. dba Bankers Hill    SAN DIEGO    CA   \n",
              "3         1     1005535001               Shiva Management    SAN DIEGO    CA   \n",
              "4         1     1005996006     GOLD CROWN HOME LOANS, INC  LOS ANGELES    CA   \n",
              "\n",
              "     Zip                          Bank BankState   NAICS  ApprovalDate  ...  \\\n",
              "0  92801       CALIFORNIA BANK & TRUST        CA  532420         15074  ...   \n",
              "1  90505       CALIFORNIA BANK & TRUST        CA  531210         15130  ...   \n",
              "2  92103       CALIFORNIA BANK & TRUST        CA  531210         15188  ...   \n",
              "3  92108       CALIFORNIA BANK & TRUST        CA  531312         15719  ...   \n",
              "4  91345  SBA - EDF ENFORCEMENT ACTION        CO  531390         16840  ...   \n",
              "\n",
              "   ChgOffPrinGr  GrAppv  SBA_Appv  New  RealEstate  Portion  Recession  \\\n",
              "0             0   30000     15000    0           0      0.5          0   \n",
              "1             0   30000     15000    0           0      0.5          1   \n",
              "2             0   30000     15000    0           0      0.5          0   \n",
              "3             0   50000     25000    0           0      0.5          0   \n",
              "4             0  343000    343000    0           1      1.0          0   \n",
              "\n",
              "   daysterm       xx Default  \n",
              "0      1080  16175.0       0  \n",
              "1      1680  17658.0       0  \n",
              "2      1080  16298.0       0  \n",
              "3      1080  16816.0       0  \n",
              "4      7200  24103.0       0  \n",
              "\n",
              "[5 rows x 35 columns]"
            ]
          },
          "execution_count": 66,
          "metadata": {},
          "output_type": "execute_result"
        }
      ]
    },
    {
      "cell_type": "markdown",
      "metadata": {
        "id": "yPBSvJNDq_vp"
      },
      "source": [
        "# Ques 1 "
      ]
    },
    {
      "cell_type": "markdown",
      "metadata": {
        "id": "5kIJ41aaq_vr"
      },
      "source": [
        "Split your data into training and test sets. Select 25% of the data for testing.\n"
      ]
    },
    {
      "cell_type": "code",
      "metadata": {
        "id": "dhn3Un_sq_vs"
      },
      "source": [
        "test_data = Loan_data.sample(frac=0.25)"
      ],
      "execution_count": null,
      "outputs": []
    },
    {
      "cell_type": "markdown",
      "metadata": {
        "id": "1bpL2iTIq_vs"
      },
      "source": [
        "Since we fixed 25% as test the other 75% would be training data"
      ]
    },
    {
      "cell_type": "code",
      "metadata": {
        "id": "pd6KyBcDq_vt",
        "outputId": "9b97232f-5892-4b03-8126-f064de672afb"
      },
      "source": [
        "train_data_mask = pd.Series(True, index=Loan_data.index)\n",
        "train_data_mask[test_data.index] = False\n",
        "train_data = Loan_data[train_data_mask]\n",
        "train_data.head()"
      ],
      "execution_count": null,
      "outputs": [
        {
          "data": {
            "text/html": [
              "<div>\n",
              "<style scoped>\n",
              "    .dataframe tbody tr th:only-of-type {\n",
              "        vertical-align: middle;\n",
              "    }\n",
              "\n",
              "    .dataframe tbody tr th {\n",
              "        vertical-align: top;\n",
              "    }\n",
              "\n",
              "    .dataframe thead th {\n",
              "        text-align: right;\n",
              "    }\n",
              "</style>\n",
              "<table border=\"1\" class=\"dataframe\">\n",
              "  <thead>\n",
              "    <tr style=\"text-align: right;\">\n",
              "      <th></th>\n",
              "      <th>Selected</th>\n",
              "      <th>LoanNr_ChkDgt</th>\n",
              "      <th>Name</th>\n",
              "      <th>City</th>\n",
              "      <th>State</th>\n",
              "      <th>Zip</th>\n",
              "      <th>Bank</th>\n",
              "      <th>BankState</th>\n",
              "      <th>NAICS</th>\n",
              "      <th>ApprovalDate</th>\n",
              "      <th>...</th>\n",
              "      <th>ChgOffPrinGr</th>\n",
              "      <th>GrAppv</th>\n",
              "      <th>SBA_Appv</th>\n",
              "      <th>New</th>\n",
              "      <th>RealEstate</th>\n",
              "      <th>Portion</th>\n",
              "      <th>Recession</th>\n",
              "      <th>daysterm</th>\n",
              "      <th>xx</th>\n",
              "      <th>Default</th>\n",
              "    </tr>\n",
              "  </thead>\n",
              "  <tbody>\n",
              "    <tr>\n",
              "      <th>0</th>\n",
              "      <td>0</td>\n",
              "      <td>1004285007</td>\n",
              "      <td>SIMPLEX OFFICE SOLUTIONS</td>\n",
              "      <td>ANAHEIM</td>\n",
              "      <td>CA</td>\n",
              "      <td>92801</td>\n",
              "      <td>CALIFORNIA BANK &amp; TRUST</td>\n",
              "      <td>CA</td>\n",
              "      <td>532420</td>\n",
              "      <td>15074</td>\n",
              "      <td>...</td>\n",
              "      <td>0</td>\n",
              "      <td>30000</td>\n",
              "      <td>15000</td>\n",
              "      <td>0</td>\n",
              "      <td>0</td>\n",
              "      <td>0.5</td>\n",
              "      <td>0</td>\n",
              "      <td>1080</td>\n",
              "      <td>16175.0</td>\n",
              "      <td>0</td>\n",
              "    </tr>\n",
              "    <tr>\n",
              "      <th>1</th>\n",
              "      <td>1</td>\n",
              "      <td>1004535010</td>\n",
              "      <td>DREAM HOME REALTY</td>\n",
              "      <td>TORRANCE</td>\n",
              "      <td>CA</td>\n",
              "      <td>90505</td>\n",
              "      <td>CALIFORNIA BANK &amp; TRUST</td>\n",
              "      <td>CA</td>\n",
              "      <td>531210</td>\n",
              "      <td>15130</td>\n",
              "      <td>...</td>\n",
              "      <td>0</td>\n",
              "      <td>30000</td>\n",
              "      <td>15000</td>\n",
              "      <td>0</td>\n",
              "      <td>0</td>\n",
              "      <td>0.5</td>\n",
              "      <td>1</td>\n",
              "      <td>1680</td>\n",
              "      <td>17658.0</td>\n",
              "      <td>0</td>\n",
              "    </tr>\n",
              "    <tr>\n",
              "      <th>2</th>\n",
              "      <td>0</td>\n",
              "      <td>1005005006</td>\n",
              "      <td>Winset, Inc. dba Bankers Hill</td>\n",
              "      <td>SAN DIEGO</td>\n",
              "      <td>CA</td>\n",
              "      <td>92103</td>\n",
              "      <td>CALIFORNIA BANK &amp; TRUST</td>\n",
              "      <td>CA</td>\n",
              "      <td>531210</td>\n",
              "      <td>15188</td>\n",
              "      <td>...</td>\n",
              "      <td>0</td>\n",
              "      <td>30000</td>\n",
              "      <td>15000</td>\n",
              "      <td>0</td>\n",
              "      <td>0</td>\n",
              "      <td>0.5</td>\n",
              "      <td>0</td>\n",
              "      <td>1080</td>\n",
              "      <td>16298.0</td>\n",
              "      <td>0</td>\n",
              "    </tr>\n",
              "    <tr>\n",
              "      <th>3</th>\n",
              "      <td>1</td>\n",
              "      <td>1005535001</td>\n",
              "      <td>Shiva Management</td>\n",
              "      <td>SAN DIEGO</td>\n",
              "      <td>CA</td>\n",
              "      <td>92108</td>\n",
              "      <td>CALIFORNIA BANK &amp; TRUST</td>\n",
              "      <td>CA</td>\n",
              "      <td>531312</td>\n",
              "      <td>15719</td>\n",
              "      <td>...</td>\n",
              "      <td>0</td>\n",
              "      <td>50000</td>\n",
              "      <td>25000</td>\n",
              "      <td>0</td>\n",
              "      <td>0</td>\n",
              "      <td>0.5</td>\n",
              "      <td>0</td>\n",
              "      <td>1080</td>\n",
              "      <td>16816.0</td>\n",
              "      <td>0</td>\n",
              "    </tr>\n",
              "    <tr>\n",
              "      <th>4</th>\n",
              "      <td>1</td>\n",
              "      <td>1005996006</td>\n",
              "      <td>GOLD CROWN HOME LOANS, INC</td>\n",
              "      <td>LOS ANGELES</td>\n",
              "      <td>CA</td>\n",
              "      <td>91345</td>\n",
              "      <td>SBA - EDF ENFORCEMENT ACTION</td>\n",
              "      <td>CO</td>\n",
              "      <td>531390</td>\n",
              "      <td>16840</td>\n",
              "      <td>...</td>\n",
              "      <td>0</td>\n",
              "      <td>343000</td>\n",
              "      <td>343000</td>\n",
              "      <td>0</td>\n",
              "      <td>1</td>\n",
              "      <td>1.0</td>\n",
              "      <td>0</td>\n",
              "      <td>7200</td>\n",
              "      <td>24103.0</td>\n",
              "      <td>0</td>\n",
              "    </tr>\n",
              "  </tbody>\n",
              "</table>\n",
              "<p>5 rows × 35 columns</p>\n",
              "</div>"
            ],
            "text/plain": [
              "   Selected  LoanNr_ChkDgt                           Name         City State  \\\n",
              "0         0     1004285007       SIMPLEX OFFICE SOLUTIONS      ANAHEIM    CA   \n",
              "1         1     1004535010              DREAM HOME REALTY     TORRANCE    CA   \n",
              "2         0     1005005006  Winset, Inc. dba Bankers Hill    SAN DIEGO    CA   \n",
              "3         1     1005535001               Shiva Management    SAN DIEGO    CA   \n",
              "4         1     1005996006     GOLD CROWN HOME LOANS, INC  LOS ANGELES    CA   \n",
              "\n",
              "     Zip                          Bank BankState   NAICS  ApprovalDate  ...  \\\n",
              "0  92801       CALIFORNIA BANK & TRUST        CA  532420         15074  ...   \n",
              "1  90505       CALIFORNIA BANK & TRUST        CA  531210         15130  ...   \n",
              "2  92103       CALIFORNIA BANK & TRUST        CA  531210         15188  ...   \n",
              "3  92108       CALIFORNIA BANK & TRUST        CA  531312         15719  ...   \n",
              "4  91345  SBA - EDF ENFORCEMENT ACTION        CO  531390         16840  ...   \n",
              "\n",
              "   ChgOffPrinGr  GrAppv  SBA_Appv  New  RealEstate  Portion  Recession  \\\n",
              "0             0   30000     15000    0           0      0.5          0   \n",
              "1             0   30000     15000    0           0      0.5          1   \n",
              "2             0   30000     15000    0           0      0.5          0   \n",
              "3             0   50000     25000    0           0      0.5          0   \n",
              "4             0  343000    343000    0           1      1.0          0   \n",
              "\n",
              "   daysterm       xx Default  \n",
              "0      1080  16175.0       0  \n",
              "1      1680  17658.0       0  \n",
              "2      1080  16298.0       0  \n",
              "3      1080  16816.0       0  \n",
              "4      7200  24103.0       0  \n",
              "\n",
              "[5 rows x 35 columns]"
            ]
          },
          "execution_count": 68,
          "metadata": {},
          "output_type": "execute_result"
        }
      ]
    },
    {
      "cell_type": "markdown",
      "metadata": {
        "id": "rSvU4_8kq_vu"
      },
      "source": [
        "# Ques 2"
      ]
    },
    {
      "cell_type": "markdown",
      "metadata": {
        "id": "4k9WabdTq_vu"
      },
      "source": [
        "Train a logistic regression model to predict default using New, RealEstate, Portion, and Recession.\n",
        "    a. Look at the summary output. Is there a variable that we should think about dropping?\n",
        "    b. If so, drop it!\n"
      ]
    },
    {
      "cell_type": "code",
      "metadata": {
        "id": "1jtaRjufq_vv",
        "outputId": "b55369d3-1055-4665-fffe-c6ad152e4435"
      },
      "source": [
        "mod = smf.glm('Default ~ New + RealEstate + Portion + Recession', train_data, family=sm.families.Binomial()).fit()\n",
        "mod.summary()"
      ],
      "execution_count": null,
      "outputs": [
        {
          "data": {
            "text/html": [
              "<table class=\"simpletable\">\n",
              "<caption>Generalized Linear Model Regression Results</caption>\n",
              "<tr>\n",
              "  <th>Dep. Variable:</th>        <td>Default</td>     <th>  No. Observations:  </th>  <td>  1576</td> \n",
              "</tr>\n",
              "<tr>\n",
              "  <th>Model:</th>                  <td>GLM</td>       <th>  Df Residuals:      </th>  <td>  1571</td> \n",
              "</tr>\n",
              "<tr>\n",
              "  <th>Model Family:</th>        <td>Binomial</td>     <th>  Df Model:          </th>  <td>     4</td> \n",
              "</tr>\n",
              "<tr>\n",
              "  <th>Link Function:</th>         <td>logit</td>      <th>  Scale:             </th> <td>  1.0000</td>\n",
              "</tr>\n",
              "<tr>\n",
              "  <th>Method:</th>                <td>IRLS</td>       <th>  Log-Likelihood:    </th> <td> -815.30</td>\n",
              "</tr>\n",
              "<tr>\n",
              "  <th>Date:</th>            <td>Sat, 26 Oct 2019</td> <th>  Deviance:          </th> <td>  1630.6</td>\n",
              "</tr>\n",
              "<tr>\n",
              "  <th>Time:</th>                <td>23:04:31</td>     <th>  Pearson chi2:      </th> <td>1.49e+03</td>\n",
              "</tr>\n",
              "<tr>\n",
              "  <th>No. Iterations:</th>          <td>6</td>        <th>                     </th>     <td> </td>   \n",
              "</tr>\n",
              "<tr>\n",
              "  <th>Covariance Type:</th>     <td>nonrobust</td>    <th>                     </th>     <td> </td>   \n",
              "</tr>\n",
              "</table>\n",
              "<table class=\"simpletable\">\n",
              "<tr>\n",
              "       <td></td>         <th>coef</th>     <th>std err</th>      <th>z</th>      <th>P>|z|</th>  <th>[0.025</th>    <th>0.975]</th>  \n",
              "</tr>\n",
              "<tr>\n",
              "  <th>Intercept</th>  <td>    1.5354</td> <td>    0.264</td> <td>    5.826</td> <td> 0.000</td> <td>    1.019</td> <td>    2.052</td>\n",
              "</tr>\n",
              "<tr>\n",
              "  <th>New</th>        <td>   -0.0815</td> <td>    0.165</td> <td>   -0.493</td> <td> 0.622</td> <td>   -0.405</td> <td>    0.242</td>\n",
              "</tr>\n",
              "<tr>\n",
              "  <th>RealEstate</th> <td>   -1.8152</td> <td>    0.259</td> <td>   -7.010</td> <td> 0.000</td> <td>   -2.323</td> <td>   -1.308</td>\n",
              "</tr>\n",
              "<tr>\n",
              "  <th>Portion</th>    <td>   -3.2540</td> <td>    0.448</td> <td>   -7.265</td> <td> 0.000</td> <td>   -4.132</td> <td>   -2.376</td>\n",
              "</tr>\n",
              "<tr>\n",
              "  <th>Recession</th>  <td>    0.4859</td> <td>    0.210</td> <td>    2.316</td> <td> 0.021</td> <td>    0.075</td> <td>    0.897</td>\n",
              "</tr>\n",
              "</table>"
            ],
            "text/plain": [
              "<class 'statsmodels.iolib.summary.Summary'>\n",
              "\"\"\"\n",
              "                 Generalized Linear Model Regression Results                  \n",
              "==============================================================================\n",
              "Dep. Variable:                Default   No. Observations:                 1576\n",
              "Model:                            GLM   Df Residuals:                     1571\n",
              "Model Family:                Binomial   Df Model:                            4\n",
              "Link Function:                  logit   Scale:                          1.0000\n",
              "Method:                          IRLS   Log-Likelihood:                -815.30\n",
              "Date:                Sat, 26 Oct 2019   Deviance:                       1630.6\n",
              "Time:                        23:04:31   Pearson chi2:                 1.49e+03\n",
              "No. Iterations:                     6                                         \n",
              "Covariance Type:            nonrobust                                         \n",
              "==============================================================================\n",
              "                 coef    std err          z      P>|z|      [0.025      0.975]\n",
              "------------------------------------------------------------------------------\n",
              "Intercept      1.5354      0.264      5.826      0.000       1.019       2.052\n",
              "New           -0.0815      0.165     -0.493      0.622      -0.405       0.242\n",
              "RealEstate    -1.8152      0.259     -7.010      0.000      -2.323      -1.308\n",
              "Portion       -3.2540      0.448     -7.265      0.000      -4.132      -2.376\n",
              "Recession      0.4859      0.210      2.316      0.021       0.075       0.897\n",
              "==============================================================================\n",
              "\"\"\""
            ]
          },
          "execution_count": 69,
          "metadata": {},
          "output_type": "execute_result"
        }
      ]
    },
    {
      "cell_type": "markdown",
      "metadata": {
        "id": "I2XD-GMOq_vw"
      },
      "source": [
        "Is there a variable that we should think about dropping?"
      ]
    },
    {
      "cell_type": "markdown",
      "metadata": {
        "id": "6oDifbJVq_vx"
      },
      "source": [
        "The p value gives us a idea about which variable to keep and which to discard. \n",
        "\n",
        "New and Recession variable has p value more than 0.05 which makes them insignificant, so i am dropping both of them"
      ]
    },
    {
      "cell_type": "markdown",
      "metadata": {
        "id": "0Bkcj-i-q_vy"
      },
      "source": [
        "The model after dropping \"New\" and \"Recession\""
      ]
    },
    {
      "cell_type": "code",
      "metadata": {
        "id": "nLIo2Xtxq_vy",
        "outputId": "6f4a36ac-8aa1-485c-a632-5b02f85cde7a"
      },
      "source": [
        "mod = smf.glm('Default ~  RealEstate + Portion ', train_data, family=sm.families.Binomial()).fit()\n",
        "mod.summary()"
      ],
      "execution_count": null,
      "outputs": [
        {
          "data": {
            "text/html": [
              "<table class=\"simpletable\">\n",
              "<caption>Generalized Linear Model Regression Results</caption>\n",
              "<tr>\n",
              "  <th>Dep. Variable:</th>        <td>Default</td>     <th>  No. Observations:  </th>  <td>  1576</td> \n",
              "</tr>\n",
              "<tr>\n",
              "  <th>Model:</th>                  <td>GLM</td>       <th>  Df Residuals:      </th>  <td>  1573</td> \n",
              "</tr>\n",
              "<tr>\n",
              "  <th>Model Family:</th>        <td>Binomial</td>     <th>  Df Model:          </th>  <td>     2</td> \n",
              "</tr>\n",
              "<tr>\n",
              "  <th>Link Function:</th>         <td>logit</td>      <th>  Scale:             </th> <td>  1.0000</td>\n",
              "</tr>\n",
              "<tr>\n",
              "  <th>Method:</th>                <td>IRLS</td>       <th>  Log-Likelihood:    </th> <td> -818.13</td>\n",
              "</tr>\n",
              "<tr>\n",
              "  <th>Date:</th>            <td>Sat, 26 Oct 2019</td> <th>  Deviance:          </th> <td>  1636.3</td>\n",
              "</tr>\n",
              "<tr>\n",
              "  <th>Time:</th>                <td>23:04:33</td>     <th>  Pearson chi2:      </th> <td>1.48e+03</td>\n",
              "</tr>\n",
              "<tr>\n",
              "  <th>No. Iterations:</th>          <td>6</td>        <th>                     </th>     <td> </td>   \n",
              "</tr>\n",
              "<tr>\n",
              "  <th>Covariance Type:</th>     <td>nonrobust</td>    <th>                     </th>     <td> </td>   \n",
              "</tr>\n",
              "</table>\n",
              "<table class=\"simpletable\">\n",
              "<tr>\n",
              "       <td></td>         <th>coef</th>     <th>std err</th>      <th>z</th>      <th>P>|z|</th>  <th>[0.025</th>    <th>0.975]</th>  \n",
              "</tr>\n",
              "<tr>\n",
              "  <th>Intercept</th>  <td>    1.5943</td> <td>    0.262</td> <td>    6.094</td> <td> 0.000</td> <td>    1.082</td> <td>    2.107</td>\n",
              "</tr>\n",
              "<tr>\n",
              "  <th>RealEstate</th> <td>   -1.8438</td> <td>    0.256</td> <td>   -7.214</td> <td> 0.000</td> <td>   -2.345</td> <td>   -1.343</td>\n",
              "</tr>\n",
              "<tr>\n",
              "  <th>Portion</th>    <td>   -3.2984</td> <td>    0.440</td> <td>   -7.488</td> <td> 0.000</td> <td>   -4.162</td> <td>   -2.435</td>\n",
              "</tr>\n",
              "</table>"
            ],
            "text/plain": [
              "<class 'statsmodels.iolib.summary.Summary'>\n",
              "\"\"\"\n",
              "                 Generalized Linear Model Regression Results                  \n",
              "==============================================================================\n",
              "Dep. Variable:                Default   No. Observations:                 1576\n",
              "Model:                            GLM   Df Residuals:                     1573\n",
              "Model Family:                Binomial   Df Model:                            2\n",
              "Link Function:                  logit   Scale:                          1.0000\n",
              "Method:                          IRLS   Log-Likelihood:                -818.13\n",
              "Date:                Sat, 26 Oct 2019   Deviance:                       1636.3\n",
              "Time:                        23:04:33   Pearson chi2:                 1.48e+03\n",
              "No. Iterations:                     6                                         \n",
              "Covariance Type:            nonrobust                                         \n",
              "==============================================================================\n",
              "                 coef    std err          z      P>|z|      [0.025      0.975]\n",
              "------------------------------------------------------------------------------\n",
              "Intercept      1.5943      0.262      6.094      0.000       1.082       2.107\n",
              "RealEstate    -1.8438      0.256     -7.214      0.000      -2.345      -1.343\n",
              "Portion       -3.2984      0.440     -7.488      0.000      -4.162      -2.435\n",
              "==============================================================================\n",
              "\"\"\""
            ]
          },
          "execution_count": 70,
          "metadata": {},
          "output_type": "execute_result"
        }
      ]
    },
    {
      "cell_type": "markdown",
      "metadata": {
        "id": "0Fbl3Cofq_v0"
      },
      "source": [
        "Prediction for test data"
      ]
    },
    {
      "cell_type": "code",
      "metadata": {
        "id": "SId3Zudnq_v0",
        "outputId": "6f43771b-5179-42fe-a353-a9805247660f"
      },
      "source": [
        "test_data['predict'] = mod.predict(test_data)\n",
        "test_data.head()"
      ],
      "execution_count": null,
      "outputs": [
        {
          "data": {
            "text/html": [
              "<div>\n",
              "<style scoped>\n",
              "    .dataframe tbody tr th:only-of-type {\n",
              "        vertical-align: middle;\n",
              "    }\n",
              "\n",
              "    .dataframe tbody tr th {\n",
              "        vertical-align: top;\n",
              "    }\n",
              "\n",
              "    .dataframe thead th {\n",
              "        text-align: right;\n",
              "    }\n",
              "</style>\n",
              "<table border=\"1\" class=\"dataframe\">\n",
              "  <thead>\n",
              "    <tr style=\"text-align: right;\">\n",
              "      <th></th>\n",
              "      <th>Selected</th>\n",
              "      <th>LoanNr_ChkDgt</th>\n",
              "      <th>Name</th>\n",
              "      <th>City</th>\n",
              "      <th>State</th>\n",
              "      <th>Zip</th>\n",
              "      <th>Bank</th>\n",
              "      <th>BankState</th>\n",
              "      <th>NAICS</th>\n",
              "      <th>ApprovalDate</th>\n",
              "      <th>...</th>\n",
              "      <th>GrAppv</th>\n",
              "      <th>SBA_Appv</th>\n",
              "      <th>New</th>\n",
              "      <th>RealEstate</th>\n",
              "      <th>Portion</th>\n",
              "      <th>Recession</th>\n",
              "      <th>daysterm</th>\n",
              "      <th>xx</th>\n",
              "      <th>Default</th>\n",
              "      <th>predict</th>\n",
              "    </tr>\n",
              "  </thead>\n",
              "  <tbody>\n",
              "    <tr>\n",
              "      <th>940</th>\n",
              "      <td>1</td>\n",
              "      <td>3075065007</td>\n",
              "      <td>ARCO PROPERTIES INC</td>\n",
              "      <td>TORRANCE</td>\n",
              "      <td>CA</td>\n",
              "      <td>90503</td>\n",
              "      <td>SUPERIOR FINANCIAL GROUP, LLC</td>\n",
              "      <td>CA</td>\n",
              "      <td>531311</td>\n",
              "      <td>17654</td>\n",
              "      <td>...</td>\n",
              "      <td>20000</td>\n",
              "      <td>17000</td>\n",
              "      <td>0</td>\n",
              "      <td>0</td>\n",
              "      <td>0.85</td>\n",
              "      <td>0</td>\n",
              "      <td>3450</td>\n",
              "      <td>21133.0</td>\n",
              "      <td>1</td>\n",
              "      <td>0.229822</td>\n",
              "    </tr>\n",
              "    <tr>\n",
              "      <th>121</th>\n",
              "      <td>0</td>\n",
              "      <td>1390235000</td>\n",
              "      <td>Pine Idyllwild LLC</td>\n",
              "      <td>IDYLLWILD</td>\n",
              "      <td>CA</td>\n",
              "      <td>92549</td>\n",
              "      <td>BANK OF AMERICA NATL ASSOC</td>\n",
              "      <td>NC</td>\n",
              "      <td>531312</td>\n",
              "      <td>16644</td>\n",
              "      <td>...</td>\n",
              "      <td>10000</td>\n",
              "      <td>5000</td>\n",
              "      <td>1</td>\n",
              "      <td>0</td>\n",
              "      <td>0.50</td>\n",
              "      <td>0</td>\n",
              "      <td>2520</td>\n",
              "      <td>19260.0</td>\n",
              "      <td>0</td>\n",
              "      <td>0.486281</td>\n",
              "    </tr>\n",
              "    <tr>\n",
              "      <th>679</th>\n",
              "      <td>1</td>\n",
              "      <td>2621305000</td>\n",
              "      <td>MJM Financial, Inc.</td>\n",
              "      <td>SAN DIEGO</td>\n",
              "      <td>CA</td>\n",
              "      <td>92108</td>\n",
              "      <td>BANK OF AMERICA NATL ASSOC</td>\n",
              "      <td>NC</td>\n",
              "      <td>531210</td>\n",
              "      <td>17385</td>\n",
              "      <td>...</td>\n",
              "      <td>35000</td>\n",
              "      <td>17500</td>\n",
              "      <td>0</td>\n",
              "      <td>0</td>\n",
              "      <td>0.50</td>\n",
              "      <td>0</td>\n",
              "      <td>1890</td>\n",
              "      <td>19299.0</td>\n",
              "      <td>1</td>\n",
              "      <td>0.486281</td>\n",
              "    </tr>\n",
              "    <tr>\n",
              "      <th>1516</th>\n",
              "      <td>1</td>\n",
              "      <td>6329144005</td>\n",
              "      <td>VARIEDADES AMANDA</td>\n",
              "      <td>LOS ANGELES</td>\n",
              "      <td>CA</td>\n",
              "      <td>90057</td>\n",
              "      <td>BANK OF AMERICA NATL ASSOC</td>\n",
              "      <td>NC</td>\n",
              "      <td>532299</td>\n",
              "      <td>15844</td>\n",
              "      <td>...</td>\n",
              "      <td>5000</td>\n",
              "      <td>2500</td>\n",
              "      <td>0</td>\n",
              "      <td>0</td>\n",
              "      <td>0.50</td>\n",
              "      <td>1</td>\n",
              "      <td>1650</td>\n",
              "      <td>17536.0</td>\n",
              "      <td>1</td>\n",
              "      <td>0.486281</td>\n",
              "    </tr>\n",
              "    <tr>\n",
              "      <th>1922</th>\n",
              "      <td>1</td>\n",
              "      <td>8735334008</td>\n",
              "      <td>MARIA TERESITA SANTOS</td>\n",
              "      <td>DALY CITY</td>\n",
              "      <td>CA</td>\n",
              "      <td>94014</td>\n",
              "      <td>VALLEY COMMUNITY BANK</td>\n",
              "      <td>CA</td>\n",
              "      <td>531210</td>\n",
              "      <td>16520</td>\n",
              "      <td>...</td>\n",
              "      <td>589000</td>\n",
              "      <td>441750</td>\n",
              "      <td>0</td>\n",
              "      <td>1</td>\n",
              "      <td>0.75</td>\n",
              "      <td>0</td>\n",
              "      <td>8010</td>\n",
              "      <td>24566.0</td>\n",
              "      <td>0</td>\n",
              "      <td>0.061614</td>\n",
              "    </tr>\n",
              "  </tbody>\n",
              "</table>\n",
              "<p>5 rows × 36 columns</p>\n",
              "</div>"
            ],
            "text/plain": [
              "      Selected  LoanNr_ChkDgt                   Name         City State  \\\n",
              "940          1     3075065007    ARCO PROPERTIES INC     TORRANCE    CA   \n",
              "121          0     1390235000     Pine Idyllwild LLC    IDYLLWILD    CA   \n",
              "679          1     2621305000    MJM Financial, Inc.    SAN DIEGO    CA   \n",
              "1516         1     6329144005      VARIEDADES AMANDA  LOS ANGELES    CA   \n",
              "1922         1     8735334008  MARIA TERESITA SANTOS    DALY CITY    CA   \n",
              "\n",
              "        Zip                           Bank BankState   NAICS  ApprovalDate  \\\n",
              "940   90503  SUPERIOR FINANCIAL GROUP, LLC        CA  531311         17654   \n",
              "121   92549     BANK OF AMERICA NATL ASSOC        NC  531312         16644   \n",
              "679   92108     BANK OF AMERICA NATL ASSOC        NC  531210         17385   \n",
              "1516  90057     BANK OF AMERICA NATL ASSOC        NC  532299         15844   \n",
              "1922  94014          VALLEY COMMUNITY BANK        CA  531210         16520   \n",
              "\n",
              "      ...  GrAppv  SBA_Appv  New  RealEstate  Portion  Recession  daysterm  \\\n",
              "940   ...   20000     17000    0           0     0.85          0      3450   \n",
              "121   ...   10000      5000    1           0     0.50          0      2520   \n",
              "679   ...   35000     17500    0           0     0.50          0      1890   \n",
              "1516  ...    5000      2500    0           0     0.50          1      1650   \n",
              "1922  ...  589000    441750    0           1     0.75          0      8010   \n",
              "\n",
              "           xx Default   predict  \n",
              "940   21133.0       1  0.229822  \n",
              "121   19260.0       0  0.486281  \n",
              "679   19299.0       1  0.486281  \n",
              "1516  17536.0       1  0.486281  \n",
              "1922  24566.0       0  0.061614  \n",
              "\n",
              "[5 rows x 36 columns]"
            ]
          },
          "execution_count": 71,
          "metadata": {},
          "output_type": "execute_result"
        }
      ]
    },
    {
      "cell_type": "markdown",
      "metadata": {
        "id": "TX9GY0lAq_v1"
      },
      "source": [
        "Plotting for prediction"
      ]
    },
    {
      "cell_type": "code",
      "metadata": {
        "id": "IseM02J8q_v2",
        "outputId": "8e96a4c8-cf86-4e94-b937-fbdae05ef8c6"
      },
      "source": [
        "sns.distplot(test_data['predict'])"
      ],
      "execution_count": null,
      "outputs": [
        {
          "data": {
            "text/plain": [
              "<matplotlib.axes._subplots.AxesSubplot at 0x1ea20f94cf8>"
            ]
          },
          "execution_count": 72,
          "metadata": {},
          "output_type": "execute_result"
        },
        {
          "data": {
            "image/png": "[encoded data removed]",
            "text/plain": [
              "<Figure size 432x288 with 1 Axes>"
            ]
          },
          "metadata": {
            "needs_background": "light"
          },
          "output_type": "display_data"
        }
      ]
    },
    {
      "cell_type": "markdown",
      "metadata": {
        "id": "cLNY_rgtq_v3"
      },
      "source": [
        "# Ques 3"
      ]
    },
    {
      "cell_type": "markdown",
      "metadata": {
        "id": "Z6OhopLjq_v3"
      },
      "source": [
        "Classify the test loans using a threshold of 0.5 (classify as High Risk - a 1 - if the logistic regression’s estimated probability of default is at least 0.5). What is the accuracy of your model?\n"
      ]
    },
    {
      "cell_type": "code",
      "metadata": {
        "id": "cO0sHbejq_v4",
        "outputId": "a74af1a3-75b2-41f4-e5d5-de79fa911eb5"
      },
      "source": [
        "test_data['High_Risk'] = test_data['predict'] >= 0.5\n",
        "test_data.head()"
      ],
      "execution_count": null,
      "outputs": [
        {
          "data": {
            "text/html": [
              "<div>\n",
              "<style scoped>\n",
              "    .dataframe tbody tr th:only-of-type {\n",
              "        vertical-align: middle;\n",
              "    }\n",
              "\n",
              "    .dataframe tbody tr th {\n",
              "        vertical-align: top;\n",
              "    }\n",
              "\n",
              "    .dataframe thead th {\n",
              "        text-align: right;\n",
              "    }\n",
              "</style>\n",
              "<table border=\"1\" class=\"dataframe\">\n",
              "  <thead>\n",
              "    <tr style=\"text-align: right;\">\n",
              "      <th></th>\n",
              "      <th>Selected</th>\n",
              "      <th>LoanNr_ChkDgt</th>\n",
              "      <th>Name</th>\n",
              "      <th>City</th>\n",
              "      <th>State</th>\n",
              "      <th>Zip</th>\n",
              "      <th>Bank</th>\n",
              "      <th>BankState</th>\n",
              "      <th>NAICS</th>\n",
              "      <th>ApprovalDate</th>\n",
              "      <th>...</th>\n",
              "      <th>SBA_Appv</th>\n",
              "      <th>New</th>\n",
              "      <th>RealEstate</th>\n",
              "      <th>Portion</th>\n",
              "      <th>Recession</th>\n",
              "      <th>daysterm</th>\n",
              "      <th>xx</th>\n",
              "      <th>Default</th>\n",
              "      <th>predict</th>\n",
              "      <th>High_Risk</th>\n",
              "    </tr>\n",
              "  </thead>\n",
              "  <tbody>\n",
              "    <tr>\n",
              "      <th>940</th>\n",
              "      <td>1</td>\n",
              "      <td>3075065007</td>\n",
              "      <td>ARCO PROPERTIES INC</td>\n",
              "      <td>TORRANCE</td>\n",
              "      <td>CA</td>\n",
              "      <td>90503</td>\n",
              "      <td>SUPERIOR FINANCIAL GROUP, LLC</td>\n",
              "      <td>CA</td>\n",
              "      <td>531311</td>\n",
              "      <td>17654</td>\n",
              "      <td>...</td>\n",
              "      <td>17000</td>\n",
              "      <td>0</td>\n",
              "      <td>0</td>\n",
              "      <td>0.85</td>\n",
              "      <td>0</td>\n",
              "      <td>3450</td>\n",
              "      <td>21133.0</td>\n",
              "      <td>1</td>\n",
              "      <td>0.229822</td>\n",
              "      <td>False</td>\n",
              "    </tr>\n",
              "    <tr>\n",
              "      <th>121</th>\n",
              "      <td>0</td>\n",
              "      <td>1390235000</td>\n",
              "      <td>Pine Idyllwild LLC</td>\n",
              "      <td>IDYLLWILD</td>\n",
              "      <td>CA</td>\n",
              "      <td>92549</td>\n",
              "      <td>BANK OF AMERICA NATL ASSOC</td>\n",
              "      <td>NC</td>\n",
              "      <td>531312</td>\n",
              "      <td>16644</td>\n",
              "      <td>...</td>\n",
              "      <td>5000</td>\n",
              "      <td>1</td>\n",
              "      <td>0</td>\n",
              "      <td>0.50</td>\n",
              "      <td>0</td>\n",
              "      <td>2520</td>\n",
              "      <td>19260.0</td>\n",
              "      <td>0</td>\n",
              "      <td>0.486281</td>\n",
              "      <td>False</td>\n",
              "    </tr>\n",
              "    <tr>\n",
              "      <th>679</th>\n",
              "      <td>1</td>\n",
              "      <td>2621305000</td>\n",
              "      <td>MJM Financial, Inc.</td>\n",
              "      <td>SAN DIEGO</td>\n",
              "      <td>CA</td>\n",
              "      <td>92108</td>\n",
              "      <td>BANK OF AMERICA NATL ASSOC</td>\n",
              "      <td>NC</td>\n",
              "      <td>531210</td>\n",
              "      <td>17385</td>\n",
              "      <td>...</td>\n",
              "      <td>17500</td>\n",
              "      <td>0</td>\n",
              "      <td>0</td>\n",
              "      <td>0.50</td>\n",
              "      <td>0</td>\n",
              "      <td>1890</td>\n",
              "      <td>19299.0</td>\n",
              "      <td>1</td>\n",
              "      <td>0.486281</td>\n",
              "      <td>False</td>\n",
              "    </tr>\n",
              "    <tr>\n",
              "      <th>1516</th>\n",
              "      <td>1</td>\n",
              "      <td>6329144005</td>\n",
              "      <td>VARIEDADES AMANDA</td>\n",
              "      <td>LOS ANGELES</td>\n",
              "      <td>CA</td>\n",
              "      <td>90057</td>\n",
              "      <td>BANK OF AMERICA NATL ASSOC</td>\n",
              "      <td>NC</td>\n",
              "      <td>532299</td>\n",
              "      <td>15844</td>\n",
              "      <td>...</td>\n",
              "      <td>2500</td>\n",
              "      <td>0</td>\n",
              "      <td>0</td>\n",
              "      <td>0.50</td>\n",
              "      <td>1</td>\n",
              "      <td>1650</td>\n",
              "      <td>17536.0</td>\n",
              "      <td>1</td>\n",
              "      <td>0.486281</td>\n",
              "      <td>False</td>\n",
              "    </tr>\n",
              "    <tr>\n",
              "      <th>1922</th>\n",
              "      <td>1</td>\n",
              "      <td>8735334008</td>\n",
              "      <td>MARIA TERESITA SANTOS</td>\n",
              "      <td>DALY CITY</td>\n",
              "      <td>CA</td>\n",
              "      <td>94014</td>\n",
              "      <td>VALLEY COMMUNITY BANK</td>\n",
              "      <td>CA</td>\n",
              "      <td>531210</td>\n",
              "      <td>16520</td>\n",
              "      <td>...</td>\n",
              "      <td>441750</td>\n",
              "      <td>0</td>\n",
              "      <td>1</td>\n",
              "      <td>0.75</td>\n",
              "      <td>0</td>\n",
              "      <td>8010</td>\n",
              "      <td>24566.0</td>\n",
              "      <td>0</td>\n",
              "      <td>0.061614</td>\n",
              "      <td>False</td>\n",
              "    </tr>\n",
              "  </tbody>\n",
              "</table>\n",
              "<p>5 rows × 37 columns</p>\n",
              "</div>"
            ],
            "text/plain": [
              "      Selected  LoanNr_ChkDgt                   Name         City State  \\\n",
              "940          1     3075065007    ARCO PROPERTIES INC     TORRANCE    CA   \n",
              "121          0     1390235000     Pine Idyllwild LLC    IDYLLWILD    CA   \n",
              "679          1     2621305000    MJM Financial, Inc.    SAN DIEGO    CA   \n",
              "1516         1     6329144005      VARIEDADES AMANDA  LOS ANGELES    CA   \n",
              "1922         1     8735334008  MARIA TERESITA SANTOS    DALY CITY    CA   \n",
              "\n",
              "        Zip                           Bank BankState   NAICS  ApprovalDate  \\\n",
              "940   90503  SUPERIOR FINANCIAL GROUP, LLC        CA  531311         17654   \n",
              "121   92549     BANK OF AMERICA NATL ASSOC        NC  531312         16644   \n",
              "679   92108     BANK OF AMERICA NATL ASSOC        NC  531210         17385   \n",
              "1516  90057     BANK OF AMERICA NATL ASSOC        NC  532299         15844   \n",
              "1922  94014          VALLEY COMMUNITY BANK        CA  531210         16520   \n",
              "\n",
              "      ...  SBA_Appv  New  RealEstate  Portion  Recession  daysterm       xx  \\\n",
              "940   ...     17000    0           0     0.85          0      3450  21133.0   \n",
              "121   ...      5000    1           0     0.50          0      2520  19260.0   \n",
              "679   ...     17500    0           0     0.50          0      1890  19299.0   \n",
              "1516  ...      2500    0           0     0.50          1      1650  17536.0   \n",
              "1922  ...    441750    0           1     0.75          0      8010  24566.0   \n",
              "\n",
              "      Default   predict High_Risk  \n",
              "940         1  0.229822     False  \n",
              "121         0  0.486281     False  \n",
              "679         1  0.486281     False  \n",
              "1516        1  0.486281     False  \n",
              "1922        0  0.061614     False  \n",
              "\n",
              "[5 rows x 37 columns]"
            ]
          },
          "execution_count": 73,
          "metadata": {},
          "output_type": "execute_result"
        }
      ]
    },
    {
      "cell_type": "markdown",
      "metadata": {
        "id": "Kogm92lPq_v5"
      },
      "source": [
        "The accuracy of the model prediction"
      ]
    },
    {
      "cell_type": "code",
      "metadata": {
        "id": "J7Y52BtVq_v5",
        "outputId": "47f1d6ef-73c5-4493-bfcc-84c87ad9be66"
      },
      "source": [
        "(test_data['Default'] == test_data['High_Risk']).mean()"
      ],
      "execution_count": null,
      "outputs": [
        {
          "data": {
            "text/plain": [
              "0.6349809885931559"
            ]
          },
          "execution_count": 101,
          "metadata": {},
          "output_type": "execute_result"
        }
      ]
    },
    {
      "cell_type": "markdown",
      "metadata": {
        "id": "Sv5eWh72q_v6"
      },
      "source": [
        "# Ques 4"
      ]
    },
    {
      "cell_type": "markdown",
      "metadata": {
        "id": "LuFRHuhWq_v6"
      },
      "source": [
        "What is the accuracy of the majority class classifier? From the training data, determine whether default or not-default is the more common outcome. Use that outcome as the classification for all data in the test data (for example, if defaults are more common than not defaulting in the training data, then classify all test instances as high-risk).\n"
      ]
    },
    {
      "cell_type": "code",
      "metadata": {
        "id": "P5RuW2i9q_v6",
        "outputId": "ad4cd691-41a1-4d3c-fcd8-10c1e2d481dc"
      },
      "source": [
        "#lets calcaulte for the default outcome\n",
        "default_no = train_data[train_data['Default']==1]['Default'].count() \n",
        "default_no"
      ],
      "execution_count": null,
      "outputs": [
        {
          "data": {
            "text/plain": [
              "488"
            ]
          },
          "execution_count": 102,
          "metadata": {},
          "output_type": "execute_result"
        }
      ]
    },
    {
      "cell_type": "code",
      "metadata": {
        "id": "BX0UrLi9q_v7",
        "outputId": "0f2e3cbd-c2e9-481d-d0b8-0f58a62e8a69"
      },
      "source": [
        "#lets calcaulte for the not-default outcome\n",
        "not_default_no = train_data[train_data['Default']==0]['Default'].count()\n",
        "not_default_no"
      ],
      "execution_count": null,
      "outputs": [
        {
          "data": {
            "text/plain": [
              "1088"
            ]
          },
          "execution_count": 103,
          "metadata": {},
          "output_type": "execute_result"
        }
      ]
    },
    {
      "cell_type": "markdown",
      "metadata": {
        "id": "nEZPvojmq_v8"
      },
      "source": [
        "From the analysis above it seems that not default is the more common outcome, so lets calculate accuracy based on not defualts"
      ]
    },
    {
      "cell_type": "code",
      "metadata": {
        "id": "tfFezbq1q_v8",
        "outputId": "dfda32b6-24eb-426c-fc27-7d4d17d871e4"
      },
      "source": [
        "test_data['Low_Risk'] = test_data['predict'] < 0.5\n",
        "test_data.head()"
      ],
      "execution_count": null,
      "outputs": [
        {
          "data": {
            "text/html": [
              "<div>\n",
              "<style scoped>\n",
              "    .dataframe tbody tr th:only-of-type {\n",
              "        vertical-align: middle;\n",
              "    }\n",
              "\n",
              "    .dataframe tbody tr th {\n",
              "        vertical-align: top;\n",
              "    }\n",
              "\n",
              "    .dataframe thead th {\n",
              "        text-align: right;\n",
              "    }\n",
              "</style>\n",
              "<table border=\"1\" class=\"dataframe\">\n",
              "  <thead>\n",
              "    <tr style=\"text-align: right;\">\n",
              "      <th></th>\n",
              "      <th>Selected</th>\n",
              "      <th>LoanNr_ChkDgt</th>\n",
              "      <th>Name</th>\n",
              "      <th>City</th>\n",
              "      <th>State</th>\n",
              "      <th>Zip</th>\n",
              "      <th>Bank</th>\n",
              "      <th>BankState</th>\n",
              "      <th>NAICS</th>\n",
              "      <th>ApprovalDate</th>\n",
              "      <th>...</th>\n",
              "      <th>Portion</th>\n",
              "      <th>Recession</th>\n",
              "      <th>daysterm</th>\n",
              "      <th>xx</th>\n",
              "      <th>Default</th>\n",
              "      <th>predict</th>\n",
              "      <th>High_Risk</th>\n",
              "      <th>Low_Risk</th>\n",
              "      <th>test_classification</th>\n",
              "      <th>High_Risk_2</th>\n",
              "    </tr>\n",
              "  </thead>\n",
              "  <tbody>\n",
              "    <tr>\n",
              "      <th>940</th>\n",
              "      <td>1</td>\n",
              "      <td>3075065007</td>\n",
              "      <td>ARCO PROPERTIES INC</td>\n",
              "      <td>TORRANCE</td>\n",
              "      <td>CA</td>\n",
              "      <td>90503</td>\n",
              "      <td>SUPERIOR FINANCIAL GROUP, LLC</td>\n",
              "      <td>CA</td>\n",
              "      <td>531311</td>\n",
              "      <td>17654</td>\n",
              "      <td>...</td>\n",
              "      <td>0.85</td>\n",
              "      <td>0</td>\n",
              "      <td>3450</td>\n",
              "      <td>21133.0</td>\n",
              "      <td>1</td>\n",
              "      <td>0.096287</td>\n",
              "      <td>False</td>\n",
              "      <td>True</td>\n",
              "      <td>False</td>\n",
              "      <td>False</td>\n",
              "    </tr>\n",
              "    <tr>\n",
              "      <th>121</th>\n",
              "      <td>0</td>\n",
              "      <td>1390235000</td>\n",
              "      <td>Pine Idyllwild LLC</td>\n",
              "      <td>IDYLLWILD</td>\n",
              "      <td>CA</td>\n",
              "      <td>92549</td>\n",
              "      <td>BANK OF AMERICA NATL ASSOC</td>\n",
              "      <td>NC</td>\n",
              "      <td>531312</td>\n",
              "      <td>16644</td>\n",
              "      <td>...</td>\n",
              "      <td>0.50</td>\n",
              "      <td>0</td>\n",
              "      <td>2520</td>\n",
              "      <td>19260.0</td>\n",
              "      <td>0</td>\n",
              "      <td>0.281476</td>\n",
              "      <td>False</td>\n",
              "      <td>True</td>\n",
              "      <td>True</td>\n",
              "      <td>False</td>\n",
              "    </tr>\n",
              "    <tr>\n",
              "      <th>679</th>\n",
              "      <td>1</td>\n",
              "      <td>2621305000</td>\n",
              "      <td>MJM Financial, Inc.</td>\n",
              "      <td>SAN DIEGO</td>\n",
              "      <td>CA</td>\n",
              "      <td>92108</td>\n",
              "      <td>BANK OF AMERICA NATL ASSOC</td>\n",
              "      <td>NC</td>\n",
              "      <td>531210</td>\n",
              "      <td>17385</td>\n",
              "      <td>...</td>\n",
              "      <td>0.50</td>\n",
              "      <td>0</td>\n",
              "      <td>1890</td>\n",
              "      <td>19299.0</td>\n",
              "      <td>1</td>\n",
              "      <td>0.486220</td>\n",
              "      <td>False</td>\n",
              "      <td>True</td>\n",
              "      <td>False</td>\n",
              "      <td>False</td>\n",
              "    </tr>\n",
              "    <tr>\n",
              "      <th>1516</th>\n",
              "      <td>1</td>\n",
              "      <td>6329144005</td>\n",
              "      <td>VARIEDADES AMANDA</td>\n",
              "      <td>LOS ANGELES</td>\n",
              "      <td>CA</td>\n",
              "      <td>90057</td>\n",
              "      <td>BANK OF AMERICA NATL ASSOC</td>\n",
              "      <td>NC</td>\n",
              "      <td>532299</td>\n",
              "      <td>15844</td>\n",
              "      <td>...</td>\n",
              "      <td>0.50</td>\n",
              "      <td>1</td>\n",
              "      <td>1650</td>\n",
              "      <td>17536.0</td>\n",
              "      <td>1</td>\n",
              "      <td>0.569760</td>\n",
              "      <td>False</td>\n",
              "      <td>False</td>\n",
              "      <td>False</td>\n",
              "      <td>True</td>\n",
              "    </tr>\n",
              "    <tr>\n",
              "      <th>1922</th>\n",
              "      <td>1</td>\n",
              "      <td>8735334008</td>\n",
              "      <td>MARIA TERESITA SANTOS</td>\n",
              "      <td>DALY CITY</td>\n",
              "      <td>CA</td>\n",
              "      <td>94014</td>\n",
              "      <td>VALLEY COMMUNITY BANK</td>\n",
              "      <td>CA</td>\n",
              "      <td>531210</td>\n",
              "      <td>16520</td>\n",
              "      <td>...</td>\n",
              "      <td>0.75</td>\n",
              "      <td>0</td>\n",
              "      <td>8010</td>\n",
              "      <td>24566.0</td>\n",
              "      <td>0</td>\n",
              "      <td>0.031673</td>\n",
              "      <td>False</td>\n",
              "      <td>True</td>\n",
              "      <td>True</td>\n",
              "      <td>False</td>\n",
              "    </tr>\n",
              "  </tbody>\n",
              "</table>\n",
              "<p>5 rows × 40 columns</p>\n",
              "</div>"
            ],
            "text/plain": [
              "      Selected  LoanNr_ChkDgt                   Name         City State  \\\n",
              "940          1     3075065007    ARCO PROPERTIES INC     TORRANCE    CA   \n",
              "121          0     1390235000     Pine Idyllwild LLC    IDYLLWILD    CA   \n",
              "679          1     2621305000    MJM Financial, Inc.    SAN DIEGO    CA   \n",
              "1516         1     6329144005      VARIEDADES AMANDA  LOS ANGELES    CA   \n",
              "1922         1     8735334008  MARIA TERESITA SANTOS    DALY CITY    CA   \n",
              "\n",
              "        Zip                           Bank BankState   NAICS  ApprovalDate  \\\n",
              "940   90503  SUPERIOR FINANCIAL GROUP, LLC        CA  531311         17654   \n",
              "121   92549     BANK OF AMERICA NATL ASSOC        NC  531312         16644   \n",
              "679   92108     BANK OF AMERICA NATL ASSOC        NC  531210         17385   \n",
              "1516  90057     BANK OF AMERICA NATL ASSOC        NC  532299         15844   \n",
              "1922  94014          VALLEY COMMUNITY BANK        CA  531210         16520   \n",
              "\n",
              "      ...  Portion  Recession  daysterm       xx  Default   predict  \\\n",
              "940   ...     0.85          0      3450  21133.0        1  0.096287   \n",
              "121   ...     0.50          0      2520  19260.0        0  0.281476   \n",
              "679   ...     0.50          0      1890  19299.0        1  0.486220   \n",
              "1516  ...     0.50          1      1650  17536.0        1  0.569760   \n",
              "1922  ...     0.75          0      8010  24566.0        0  0.031673   \n",
              "\n",
              "      High_Risk  Low_Risk test_classification High_Risk_2  \n",
              "940       False      True               False       False  \n",
              "121       False      True                True       False  \n",
              "679       False      True               False       False  \n",
              "1516      False     False               False        True  \n",
              "1922      False      True                True       False  \n",
              "\n",
              "[5 rows x 40 columns]"
            ]
          },
          "execution_count": 104,
          "metadata": {},
          "output_type": "execute_result"
        }
      ]
    },
    {
      "cell_type": "markdown",
      "metadata": {
        "id": "hiYU2VV0q_v8"
      },
      "source": [
        "Since not-defaults are more common than defaulting in the training data, lets classify all test instances as high-risk, to do that an extra column is added where true negatives are 1and the rest are 0, finally the accuracy is caluclated"
      ]
    },
    {
      "cell_type": "code",
      "metadata": {
        "id": "zpFa2NsTq_v9",
        "outputId": "8edf44af-c1b6-4a13-d279-8218ab1f62f0"
      },
      "source": [
        "test_data['test_classification'] = (test_data['Default'] == 0) & (test_data['Low_Risk'] == True)\n",
        "Major_accuracy = (test_data['test_classification'].sum())/(test_data['Default'].count())\n",
        "print('Accuracy of the majority class classifier: ', Major_accuracy)"
      ],
      "execution_count": null,
      "outputs": [
        {
          "name": "stdout",
          "output_type": "stream",
          "text": [
            "Accuracy of the majority class classifier:  0.5665399239543726\n"
          ]
        }
      ]
    },
    {
      "cell_type": "markdown",
      "metadata": {
        "id": "IpLyw1J_q_v9"
      },
      "source": [
        "# Ques 5"
      ]
    },
    {
      "cell_type": "markdown",
      "metadata": {
        "id": "UpnAqzRTq_v-"
      },
      "source": [
        "What does the relationship between the majority class accuracy and your classifier’s accuracy tell you about classification?\n"
      ]
    },
    {
      "cell_type": "markdown",
      "metadata": {
        "id": "Duzd6IEcq_v-"
      },
      "source": [
        "The majority class accuracy was lower compared to the classifiers accuracy"
      ]
    },
    {
      "cell_type": "markdown",
      "metadata": {
        "id": "P2oV7WyLq_v_"
      },
      "source": [
        "# Ques 6"
      ]
    },
    {
      "cell_type": "markdown",
      "metadata": {
        "id": "z6IHZ5Xmq_v_"
      },
      "source": [
        "Show the confusion matrix for your classifier. The confusion matrix is a 2x2 table: the columns are the true outcome (default or not) and the rows are the classifier decision (high or low risk); the value in each cell is the number of data points in that combination (e..g. ‘Classified as low-risk but defaulted’ or ‘Classified as low-risk and did not default’)."
      ]
    },
    {
      "cell_type": "code",
      "metadata": {
        "id": "FATuQIGXq_wA",
        "outputId": "26f47f39-edf0-4b09-c818-52786f5a2fad"
      },
      "source": [
        "df = pd.DataFrame(test_data, columns=['Default','High_Risk'])\n",
        "confusion_matrix = pd.crosstab(df['Default'], df['High_Risk'], rownames=['Actual'], colnames=['Predicted'])\n",
        "confusion_matrix"
      ],
      "execution_count": null,
      "outputs": [
        {
          "data": {
            "text/html": [
              "<div>\n",
              "<style scoped>\n",
              "    .dataframe tbody tr th:only-of-type {\n",
              "        vertical-align: middle;\n",
              "    }\n",
              "\n",
              "    .dataframe tbody tr th {\n",
              "        vertical-align: top;\n",
              "    }\n",
              "\n",
              "    .dataframe thead th {\n",
              "        text-align: right;\n",
              "    }\n",
              "</style>\n",
              "<table border=\"1\" class=\"dataframe\">\n",
              "  <thead>\n",
              "    <tr style=\"text-align: right;\">\n",
              "      <th>Predicted</th>\n",
              "      <th>False</th>\n",
              "      <th>True</th>\n",
              "    </tr>\n",
              "    <tr>\n",
              "      <th>Actual</th>\n",
              "      <th></th>\n",
              "      <th></th>\n",
              "    </tr>\n",
              "  </thead>\n",
              "  <tbody>\n",
              "    <tr>\n",
              "      <th>0</th>\n",
              "      <td>327</td>\n",
              "      <td>1</td>\n",
              "    </tr>\n",
              "    <tr>\n",
              "      <th>1</th>\n",
              "      <td>198</td>\n",
              "      <td>0</td>\n",
              "    </tr>\n",
              "  </tbody>\n",
              "</table>\n",
              "</div>"
            ],
            "text/plain": [
              "Predicted  False  True \n",
              "Actual                 \n",
              "0            327      1\n",
              "1            198      0"
            ]
          },
          "execution_count": 79,
          "metadata": {},
          "output_type": "execute_result"
        }
      ]
    },
    {
      "cell_type": "code",
      "metadata": {
        "id": "H6eUZKzSq_wA",
        "outputId": "f5901e05-86e7-485f-b5ef-a7e4e6a55b42"
      },
      "source": [
        "fig, axis = plt.subplots(figsize=(10, 5))\n",
        "sns.heatmap(confusion_matrix, annot=True, fmt=\"d\", linewidths=4, ax=axis)\n",
        "\n",
        "#sns.heatmap(confusion_matrix, annot=True)"
      ],
      "execution_count": null,
      "outputs": [
        {
          "data": {
            "text/plain": [
              "<matplotlib.axes._subplots.AxesSubplot at 0x1ea20f83780>"
            ]
          },
          "execution_count": 80,
          "metadata": {},
          "output_type": "execute_result"
        },
        {
          "data": {
            "image/png": "[encoded data removed]",
            "text/plain": [
              "<Figure size 720x360 with 2 Axes>"
            ]
          },
          "metadata": {
            "needs_background": "light"
          },
          "output_type": "display_data"
        }
      ]
    },
    {
      "cell_type": "markdown",
      "metadata": {
        "id": "zfLcsFYEq_wB"
      },
      "source": [
        "# Ques 7"
      ]
    },
    {
      "cell_type": "markdown",
      "metadata": {
        "id": "IjULCskuq_wC"
      },
      "source": [
        "Accuracy counts false positives and false negatives as equal errors; however, in reality, they do not have the same cost. Compute the cost of your classifier by assigning a cost of 5 to false negatives (classified as low-risk but defaulted), 1 to false positives (classified as high-risk and did not default), and 0 to correct classifications. What is the cost of your classifier with a threshold of 0.5?\n"
      ]
    },
    {
      "cell_type": "code",
      "metadata": {
        "id": "K3Tng0L2q_wD",
        "outputId": "91ec91fd-af99-4ce8-a51b-3dae96bbaa4e"
      },
      "source": [
        "#Lets calculate the cost\n",
        "cost = confusion_matrix.loc[0,1]*1+confusion_matrix.loc[1,0]*5 \n",
        "cost "
      ],
      "execution_count": null,
      "outputs": [
        {
          "data": {
            "text/plain": [
              "991"
            ]
          },
          "execution_count": 81,
          "metadata": {},
          "output_type": "execute_result"
        }
      ]
    },
    {
      "cell_type": "markdown",
      "metadata": {
        "id": "KoVkwDUTq_wD"
      },
      "source": [
        "# Ques 8"
      ]
    },
    {
      "cell_type": "markdown",
      "metadata": {
        "id": "6_tRtQiIq_wE"
      },
      "source": [
        "How does the accuracy change as you change the threshold? Make a plot that has threshold on the x-axis and the accuracy at that threshold on the y-axis.\n"
      ]
    },
    {
      "cell_type": "markdown",
      "metadata": {
        "id": "gwAp2U4-q_wE"
      },
      "source": [
        "Defing a function to create the accuracy"
      ]
    },
    {
      "cell_type": "code",
      "metadata": {
        "id": "9YuLCji4q_wE"
      },
      "source": [
        "def accuracy(thresh):\n",
        "    dec = test_data['predict'] > thresh\n",
        "    return (dec == test_data['Default']).mean()"
      ],
      "execution_count": null,
      "outputs": []
    },
    {
      "cell_type": "markdown",
      "metadata": {
        "id": "naT6h9Ncq_wF"
      },
      "source": [
        "Lets create a thresold range to calculate the accurcay"
      ]
    },
    {
      "cell_type": "code",
      "metadata": {
        "id": "kzxaiYxvq_wF",
        "outputId": "76c91c4c-d90a-4390-8af6-4272bf5fabd1"
      },
      "source": [
        "thresholds = np.arange(0, 1, 0.05)\n",
        "thresholds"
      ],
      "execution_count": null,
      "outputs": [
        {
          "data": {
            "text/plain": [
              "array([0.  , 0.05, 0.1 , 0.15, 0.2 , 0.25, 0.3 , 0.35, 0.4 , 0.45, 0.5 ,\n",
              "       0.55, 0.6 , 0.65, 0.7 , 0.75, 0.8 , 0.85, 0.9 , 0.95])"
            ]
          },
          "execution_count": 83,
          "metadata": {},
          "output_type": "execute_result"
        }
      ]
    },
    {
      "cell_type": "markdown",
      "metadata": {
        "id": "rNy_6rLJq_wF"
      },
      "source": [
        "A final dataframe to store thresold and their corresponding accuracy"
      ]
    },
    {
      "cell_type": "code",
      "metadata": {
        "id": "KdWxVU1Bq_wG",
        "outputId": "472a898a-423b-4509-efd9-53b3b1dcb2e4"
      },
      "source": [
        "acc_curve = pd.DataFrame({'threshold': thresholds})\n",
        "acc_curve['accuracy'] = acc_curve['threshold'].apply(accuracy)\n",
        "acc_curve.head()"
      ],
      "execution_count": null,
      "outputs": [
        {
          "data": {
            "text/html": [
              "<div>\n",
              "<style scoped>\n",
              "    .dataframe tbody tr th:only-of-type {\n",
              "        vertical-align: middle;\n",
              "    }\n",
              "\n",
              "    .dataframe tbody tr th {\n",
              "        vertical-align: top;\n",
              "    }\n",
              "\n",
              "    .dataframe thead th {\n",
              "        text-align: right;\n",
              "    }\n",
              "</style>\n",
              "<table border=\"1\" class=\"dataframe\">\n",
              "  <thead>\n",
              "    <tr style=\"text-align: right;\">\n",
              "      <th></th>\n",
              "      <th>threshold</th>\n",
              "      <th>accuracy</th>\n",
              "    </tr>\n",
              "  </thead>\n",
              "  <tbody>\n",
              "    <tr>\n",
              "      <th>0</th>\n",
              "      <td>0.00</td>\n",
              "      <td>0.376426</td>\n",
              "    </tr>\n",
              "    <tr>\n",
              "      <th>1</th>\n",
              "      <td>0.05</td>\n",
              "      <td>0.513308</td>\n",
              "    </tr>\n",
              "    <tr>\n",
              "      <th>2</th>\n",
              "      <td>0.10</td>\n",
              "      <td>0.596958</td>\n",
              "    </tr>\n",
              "    <tr>\n",
              "      <th>3</th>\n",
              "      <td>0.15</td>\n",
              "      <td>0.598859</td>\n",
              "    </tr>\n",
              "    <tr>\n",
              "      <th>4</th>\n",
              "      <td>0.20</td>\n",
              "      <td>0.598859</td>\n",
              "    </tr>\n",
              "  </tbody>\n",
              "</table>\n",
              "</div>"
            ],
            "text/plain": [
              "   threshold  accuracy\n",
              "0       0.00  0.376426\n",
              "1       0.05  0.513308\n",
              "2       0.10  0.596958\n",
              "3       0.15  0.598859\n",
              "4       0.20  0.598859"
            ]
          },
          "execution_count": 84,
          "metadata": {},
          "output_type": "execute_result"
        }
      ]
    },
    {
      "cell_type": "markdown",
      "metadata": {
        "id": "NDoDPRPRq_wG"
      },
      "source": [
        "Accuracy plot with corresponding thresold"
      ]
    },
    {
      "cell_type": "code",
      "metadata": {
        "id": "12zxqk3sq_wG",
        "outputId": "4240c82e-0171-419b-914b-cb03002b4025"
      },
      "source": [
        "sns.lineplot('threshold', 'accuracy', data=acc_curve)"
      ],
      "execution_count": null,
      "outputs": [
        {
          "data": {
            "text/plain": [
              "<matplotlib.axes._subplots.AxesSubplot at 0x1ea20fa4630>"
            ]
          },
          "execution_count": 85,
          "metadata": {},
          "output_type": "execute_result"
        },
        {
          "data": {
            "image/png": "[encoded data removed]",
            "text/plain": [
              "<Figure size 432x288 with 1 Axes>"
            ]
          },
          "metadata": {
            "needs_background": "light"
          },
          "output_type": "display_data"
        }
      ]
    },
    {
      "cell_type": "markdown",
      "metadata": {
        "id": "SMSTHRM4q_wH"
      },
      "source": [
        "The highest accuracy was around 0.5"
      ]
    },
    {
      "cell_type": "markdown",
      "metadata": {
        "id": "MF_3nANvq_wH"
      },
      "source": [
        "# Ques 9"
      ]
    },
    {
      "cell_type": "markdown",
      "metadata": {
        "id": "d8LcoioYq_wH"
      },
      "source": [
        "How does cost change with the threshold?\n"
      ]
    },
    {
      "cell_type": "markdown",
      "metadata": {
        "id": "ujUdclHOq_wH"
      },
      "source": [
        "Lets define a function to caclaute cost"
      ]
    },
    {
      "cell_type": "code",
      "metadata": {
        "id": "7eDzIOMsq_wH"
      },
      "source": [
        "def cost(thresh):\n",
        "    \n",
        "    test_data['High_Risk'] = test_data['predict'] >= thresh\n",
        "    df = pd.DataFrame(test_data, columns=['Default','High_Risk'])\n",
        "    confusion_matrix = pd.crosstab(df['Default'], df['High_Risk'], rownames=['Actual'], colnames=['Predicted'])\n",
        "    #lets put the requied values from confuion matrix in a variable\n",
        "    x1 = confusion_matrix.loc[0,1]\n",
        "    x2 = confusion_matrix.loc[1,0]\n",
        "    cost = (x1*1 + x2*5) # calculation of cost based on the confusion matrix\n",
        "    return cost\n"
      ],
      "execution_count": null,
      "outputs": []
    },
    {
      "cell_type": "code",
      "metadata": {
        "id": "KXYkFQGVq_wI",
        "outputId": "62a76a8b-7ad3-4ef9-f931-38124597a9ee"
      },
      "source": [
        "test_data['predict'].describe()\n",
        "test_data['predict'].max()"
      ],
      "execution_count": null,
      "outputs": [
        {
          "data": {
            "text/plain": [
              "0.6491795698761063"
            ]
          },
          "execution_count": 87,
          "metadata": {},
          "output_type": "execute_result"
        }
      ]
    },
    {
      "cell_type": "markdown",
      "metadata": {
        "id": "G8Tcu1cNq_wI"
      },
      "source": [
        "Unlike calculating accuracy the cost cannot be calculated at all the data points from 0 to 1, because the maxm predicted value is much less than 1, sothis time we will create thresold from minm to maxm value of predict variable"
      ]
    },
    {
      "cell_type": "code",
      "metadata": {
        "id": "Lko94l0eq_wI",
        "outputId": "b1a6d823-50dc-4f83-f835-289a84813973"
      },
      "source": [
        "thresholds = np.arange((test_data['predict'].min()+0.01), test_data['predict'].max(), 0.05)\n",
        "acc_curve = pd.DataFrame({'threshold': thresholds})\n",
        "acc_curve['cost'] = acc_curve['threshold'].apply(cost)\n",
        "acc_curve.head()"
      ],
      "execution_count": null,
      "outputs": [
        {
          "data": {
            "text/html": [
              "<div>\n",
              "<style scoped>\n",
              "    .dataframe tbody tr th:only-of-type {\n",
              "        vertical-align: middle;\n",
              "    }\n",
              "\n",
              "    .dataframe tbody tr th {\n",
              "        vertical-align: top;\n",
              "    }\n",
              "\n",
              "    .dataframe thead th {\n",
              "        text-align: right;\n",
              "    }\n",
              "</style>\n",
              "<table border=\"1\" class=\"dataframe\">\n",
              "  <thead>\n",
              "    <tr style=\"text-align: right;\">\n",
              "      <th></th>\n",
              "      <th>threshold</th>\n",
              "      <th>cost</th>\n",
              "    </tr>\n",
              "  </thead>\n",
              "  <tbody>\n",
              "    <tr>\n",
              "      <th>0</th>\n",
              "      <td>0.037981</td>\n",
              "      <td>265</td>\n",
              "    </tr>\n",
              "    <tr>\n",
              "      <th>1</th>\n",
              "      <td>0.087981</td>\n",
              "      <td>232</td>\n",
              "    </tr>\n",
              "    <tr>\n",
              "      <th>2</th>\n",
              "      <td>0.137981</td>\n",
              "      <td>231</td>\n",
              "    </tr>\n",
              "    <tr>\n",
              "      <th>3</th>\n",
              "      <td>0.187981</td>\n",
              "      <td>231</td>\n",
              "    </tr>\n",
              "    <tr>\n",
              "      <th>4</th>\n",
              "      <td>0.237981</td>\n",
              "      <td>358</td>\n",
              "    </tr>\n",
              "  </tbody>\n",
              "</table>\n",
              "</div>"
            ],
            "text/plain": [
              "   threshold  cost\n",
              "0   0.037981   265\n",
              "1   0.087981   232\n",
              "2   0.137981   231\n",
              "3   0.187981   231\n",
              "4   0.237981   358"
            ]
          },
          "execution_count": 88,
          "metadata": {},
          "output_type": "execute_result"
        }
      ]
    },
    {
      "cell_type": "code",
      "metadata": {
        "id": "1YWvPvXcq_wJ",
        "outputId": "3555bf44-9f14-46a2-d429-7730be6f9c47"
      },
      "source": [
        "sns.lineplot('threshold', 'cost', data=acc_curve)"
      ],
      "execution_count": null,
      "outputs": [
        {
          "data": {
            "text/plain": [
              "<matplotlib.axes._subplots.AxesSubplot at 0x1ea210057b8>"
            ]
          },
          "execution_count": 89,
          "metadata": {},
          "output_type": "execute_result"
        },
        {
          "data": {
            "image/png": "[encoded data removed]",
            "text/plain": [
              "<Figure size 432x288 with 1 Axes>"
            ]
          },
          "metadata": {
            "needs_background": "light"
          },
          "output_type": "display_data"
        }
      ]
    },
    {
      "cell_type": "markdown",
      "metadata": {
        "id": "VCPrkh7-q_wJ"
      },
      "source": [
        "The highest cost was at a thresold of 0.5 just like the accuracy"
      ]
    },
    {
      "cell_type": "markdown",
      "metadata": {
        "id": "DHfu7ZMKq_wJ"
      },
      "source": [
        "# Ques 10"
      ]
    },
    {
      "cell_type": "markdown",
      "metadata": {
        "id": "FDbJNv1Hq_wJ"
      },
      "source": [
        "Try 2 additional predictor variables, and see if they improve your model’s accuracy and/or cost on the test data.\n"
      ]
    },
    {
      "cell_type": "code",
      "metadata": {
        "id": "_0cL0vikq_wK",
        "outputId": "2ff0e0b1-826b-4b20-e4e0-2f845c29ab02"
      },
      "source": [
        "train_data.head()"
      ],
      "execution_count": null,
      "outputs": [
        {
          "data": {
            "text/html": [
              "<div>\n",
              "<style scoped>\n",
              "    .dataframe tbody tr th:only-of-type {\n",
              "        vertical-align: middle;\n",
              "    }\n",
              "\n",
              "    .dataframe tbody tr th {\n",
              "        vertical-align: top;\n",
              "    }\n",
              "\n",
              "    .dataframe thead th {\n",
              "        text-align: right;\n",
              "    }\n",
              "</style>\n",
              "<table border=\"1\" class=\"dataframe\">\n",
              "  <thead>\n",
              "    <tr style=\"text-align: right;\">\n",
              "      <th></th>\n",
              "      <th>Selected</th>\n",
              "      <th>LoanNr_ChkDgt</th>\n",
              "      <th>Name</th>\n",
              "      <th>City</th>\n",
              "      <th>State</th>\n",
              "      <th>Zip</th>\n",
              "      <th>Bank</th>\n",
              "      <th>BankState</th>\n",
              "      <th>NAICS</th>\n",
              "      <th>ApprovalDate</th>\n",
              "      <th>...</th>\n",
              "      <th>ChgOffPrinGr</th>\n",
              "      <th>GrAppv</th>\n",
              "      <th>SBA_Appv</th>\n",
              "      <th>New</th>\n",
              "      <th>RealEstate</th>\n",
              "      <th>Portion</th>\n",
              "      <th>Recession</th>\n",
              "      <th>daysterm</th>\n",
              "      <th>xx</th>\n",
              "      <th>Default</th>\n",
              "    </tr>\n",
              "  </thead>\n",
              "  <tbody>\n",
              "    <tr>\n",
              "      <th>0</th>\n",
              "      <td>0</td>\n",
              "      <td>1004285007</td>\n",
              "      <td>SIMPLEX OFFICE SOLUTIONS</td>\n",
              "      <td>ANAHEIM</td>\n",
              "      <td>CA</td>\n",
              "      <td>92801</td>\n",
              "      <td>CALIFORNIA BANK &amp; TRUST</td>\n",
              "      <td>CA</td>\n",
              "      <td>532420</td>\n",
              "      <td>15074</td>\n",
              "      <td>...</td>\n",
              "      <td>0</td>\n",
              "      <td>30000</td>\n",
              "      <td>15000</td>\n",
              "      <td>0</td>\n",
              "      <td>0</td>\n",
              "      <td>0.5</td>\n",
              "      <td>0</td>\n",
              "      <td>1080</td>\n",
              "      <td>16175.0</td>\n",
              "      <td>0</td>\n",
              "    </tr>\n",
              "    <tr>\n",
              "      <th>1</th>\n",
              "      <td>1</td>\n",
              "      <td>1004535010</td>\n",
              "      <td>DREAM HOME REALTY</td>\n",
              "      <td>TORRANCE</td>\n",
              "      <td>CA</td>\n",
              "      <td>90505</td>\n",
              "      <td>CALIFORNIA BANK &amp; TRUST</td>\n",
              "      <td>CA</td>\n",
              "      <td>531210</td>\n",
              "      <td>15130</td>\n",
              "      <td>...</td>\n",
              "      <td>0</td>\n",
              "      <td>30000</td>\n",
              "      <td>15000</td>\n",
              "      <td>0</td>\n",
              "      <td>0</td>\n",
              "      <td>0.5</td>\n",
              "      <td>1</td>\n",
              "      <td>1680</td>\n",
              "      <td>17658.0</td>\n",
              "      <td>0</td>\n",
              "    </tr>\n",
              "    <tr>\n",
              "      <th>2</th>\n",
              "      <td>0</td>\n",
              "      <td>1005005006</td>\n",
              "      <td>Winset, Inc. dba Bankers Hill</td>\n",
              "      <td>SAN DIEGO</td>\n",
              "      <td>CA</td>\n",
              "      <td>92103</td>\n",
              "      <td>CALIFORNIA BANK &amp; TRUST</td>\n",
              "      <td>CA</td>\n",
              "      <td>531210</td>\n",
              "      <td>15188</td>\n",
              "      <td>...</td>\n",
              "      <td>0</td>\n",
              "      <td>30000</td>\n",
              "      <td>15000</td>\n",
              "      <td>0</td>\n",
              "      <td>0</td>\n",
              "      <td>0.5</td>\n",
              "      <td>0</td>\n",
              "      <td>1080</td>\n",
              "      <td>16298.0</td>\n",
              "      <td>0</td>\n",
              "    </tr>\n",
              "    <tr>\n",
              "      <th>3</th>\n",
              "      <td>1</td>\n",
              "      <td>1005535001</td>\n",
              "      <td>Shiva Management</td>\n",
              "      <td>SAN DIEGO</td>\n",
              "      <td>CA</td>\n",
              "      <td>92108</td>\n",
              "      <td>CALIFORNIA BANK &amp; TRUST</td>\n",
              "      <td>CA</td>\n",
              "      <td>531312</td>\n",
              "      <td>15719</td>\n",
              "      <td>...</td>\n",
              "      <td>0</td>\n",
              "      <td>50000</td>\n",
              "      <td>25000</td>\n",
              "      <td>0</td>\n",
              "      <td>0</td>\n",
              "      <td>0.5</td>\n",
              "      <td>0</td>\n",
              "      <td>1080</td>\n",
              "      <td>16816.0</td>\n",
              "      <td>0</td>\n",
              "    </tr>\n",
              "    <tr>\n",
              "      <th>4</th>\n",
              "      <td>1</td>\n",
              "      <td>1005996006</td>\n",
              "      <td>GOLD CROWN HOME LOANS, INC</td>\n",
              "      <td>LOS ANGELES</td>\n",
              "      <td>CA</td>\n",
              "      <td>91345</td>\n",
              "      <td>SBA - EDF ENFORCEMENT ACTION</td>\n",
              "      <td>CO</td>\n",
              "      <td>531390</td>\n",
              "      <td>16840</td>\n",
              "      <td>...</td>\n",
              "      <td>0</td>\n",
              "      <td>343000</td>\n",
              "      <td>343000</td>\n",
              "      <td>0</td>\n",
              "      <td>1</td>\n",
              "      <td>1.0</td>\n",
              "      <td>0</td>\n",
              "      <td>7200</td>\n",
              "      <td>24103.0</td>\n",
              "      <td>0</td>\n",
              "    </tr>\n",
              "  </tbody>\n",
              "</table>\n",
              "<p>5 rows × 35 columns</p>\n",
              "</div>"
            ],
            "text/plain": [
              "   Selected  LoanNr_ChkDgt                           Name         City State  \\\n",
              "0         0     1004285007       SIMPLEX OFFICE SOLUTIONS      ANAHEIM    CA   \n",
              "1         1     1004535010              DREAM HOME REALTY     TORRANCE    CA   \n",
              "2         0     1005005006  Winset, Inc. dba Bankers Hill    SAN DIEGO    CA   \n",
              "3         1     1005535001               Shiva Management    SAN DIEGO    CA   \n",
              "4         1     1005996006     GOLD CROWN HOME LOANS, INC  LOS ANGELES    CA   \n",
              "\n",
              "     Zip                          Bank BankState   NAICS  ApprovalDate  ...  \\\n",
              "0  92801       CALIFORNIA BANK & TRUST        CA  532420         15074  ...   \n",
              "1  90505       CALIFORNIA BANK & TRUST        CA  531210         15130  ...   \n",
              "2  92103       CALIFORNIA BANK & TRUST        CA  531210         15188  ...   \n",
              "3  92108       CALIFORNIA BANK & TRUST        CA  531312         15719  ...   \n",
              "4  91345  SBA - EDF ENFORCEMENT ACTION        CO  531390         16840  ...   \n",
              "\n",
              "   ChgOffPrinGr  GrAppv  SBA_Appv  New  RealEstate  Portion  Recession  \\\n",
              "0             0   30000     15000    0           0      0.5          0   \n",
              "1             0   30000     15000    0           0      0.5          1   \n",
              "2             0   30000     15000    0           0      0.5          0   \n",
              "3             0   50000     25000    0           0      0.5          0   \n",
              "4             0  343000    343000    0           1      1.0          0   \n",
              "\n",
              "   daysterm       xx Default  \n",
              "0      1080  16175.0       0  \n",
              "1      1680  17658.0       0  \n",
              "2      1080  16298.0       0  \n",
              "3      1080  16816.0       0  \n",
              "4      7200  24103.0       0  \n",
              "\n",
              "[5 rows x 35 columns]"
            ]
          },
          "execution_count": 90,
          "metadata": {},
          "output_type": "execute_result"
        }
      ]
    },
    {
      "cell_type": "markdown",
      "metadata": {
        "id": "fctgBmy3q_wK"
      },
      "source": [
        "Lets add extra 2 variables with the previous significant ones (ResalEstate, Portion). This time adding daysterm and DisbursementGross. "
      ]
    },
    {
      "cell_type": "code",
      "metadata": {
        "id": "WhCPjiHZq_wK",
        "outputId": "20d47e98-e20a-4d66-a733-c54ec817d839"
      },
      "source": [
        "mod2 = smf.glm('Default ~ daysterm   + RealEstate + Portion + DisbursementGross  ', train_data, family=sm.families.Binomial()).fit()\n",
        "mod2.summary()"
      ],
      "execution_count": null,
      "outputs": [
        {
          "data": {
            "text/html": [
              "<table class=\"simpletable\">\n",
              "<caption>Generalized Linear Model Regression Results</caption>\n",
              "<tr>\n",
              "  <th>Dep. Variable:</th>        <td>Default</td>     <th>  No. Observations:  </th>  <td>  1576</td> \n",
              "</tr>\n",
              "<tr>\n",
              "  <th>Model:</th>                  <td>GLM</td>       <th>  Df Residuals:      </th>  <td>  1571</td> \n",
              "</tr>\n",
              "<tr>\n",
              "  <th>Model Family:</th>        <td>Binomial</td>     <th>  Df Model:          </th>  <td>     4</td> \n",
              "</tr>\n",
              "<tr>\n",
              "  <th>Link Function:</th>         <td>logit</td>      <th>  Scale:             </th> <td>  1.0000</td>\n",
              "</tr>\n",
              "<tr>\n",
              "  <th>Method:</th>                <td>IRLS</td>       <th>  Log-Likelihood:    </th> <td> -689.66</td>\n",
              "</tr>\n",
              "<tr>\n",
              "  <th>Date:</th>            <td>Sat, 26 Oct 2019</td> <th>  Deviance:          </th> <td>  1379.3</td>\n",
              "</tr>\n",
              "<tr>\n",
              "  <th>Time:</th>                <td>23:05:11</td>     <th>  Pearson chi2:      </th> <td>7.27e+03</td>\n",
              "</tr>\n",
              "<tr>\n",
              "  <th>No. Iterations:</th>          <td>6</td>        <th>                     </th>     <td> </td>   \n",
              "</tr>\n",
              "<tr>\n",
              "  <th>Covariance Type:</th>     <td>nonrobust</td>    <th>                     </th>     <td> </td>   \n",
              "</tr>\n",
              "</table>\n",
              "<table class=\"simpletable\">\n",
              "<tr>\n",
              "          <td></td>             <th>coef</th>     <th>std err</th>      <th>z</th>      <th>P>|z|</th>  <th>[0.025</th>    <th>0.975]</th>  \n",
              "</tr>\n",
              "<tr>\n",
              "  <th>Intercept</th>         <td>    2.9976</td> <td>    0.325</td> <td>    9.236</td> <td> 0.000</td> <td>    2.362</td> <td>    3.634</td>\n",
              "</tr>\n",
              "<tr>\n",
              "  <th>daysterm</th>          <td>   -0.0014</td> <td>    0.000</td> <td>  -13.456</td> <td> 0.000</td> <td>   -0.002</td> <td>   -0.001</td>\n",
              "</tr>\n",
              "<tr>\n",
              "  <th>RealEstate</th>        <td>    5.2554</td> <td>    0.584</td> <td>    8.997</td> <td> 0.000</td> <td>    4.111</td> <td>    6.400</td>\n",
              "</tr>\n",
              "<tr>\n",
              "  <th>Portion</th>           <td>   -0.8696</td> <td>    0.520</td> <td>   -1.671</td> <td> 0.095</td> <td>   -1.890</td> <td>    0.150</td>\n",
              "</tr>\n",
              "<tr>\n",
              "  <th>DisbursementGross</th> <td> 1.832e-07</td> <td> 3.47e-07</td> <td>    0.528</td> <td> 0.598</td> <td>-4.97e-07</td> <td> 8.64e-07</td>\n",
              "</tr>\n",
              "</table>"
            ],
            "text/plain": [
              "<class 'statsmodels.iolib.summary.Summary'>\n",
              "\"\"\"\n",
              "                 Generalized Linear Model Regression Results                  \n",
              "==============================================================================\n",
              "Dep. Variable:                Default   No. Observations:                 1576\n",
              "Model:                            GLM   Df Residuals:                     1571\n",
              "Model Family:                Binomial   Df Model:                            4\n",
              "Link Function:                  logit   Scale:                          1.0000\n",
              "Method:                          IRLS   Log-Likelihood:                -689.66\n",
              "Date:                Sat, 26 Oct 2019   Deviance:                       1379.3\n",
              "Time:                        23:05:11   Pearson chi2:                 7.27e+03\n",
              "No. Iterations:                     6                                         \n",
              "Covariance Type:            nonrobust                                         \n",
              "=====================================================================================\n",
              "                        coef    std err          z      P>|z|      [0.025      0.975]\n",
              "-------------------------------------------------------------------------------------\n",
              "Intercept             2.9976      0.325      9.236      0.000       2.362       3.634\n",
              "daysterm             -0.0014      0.000    -13.456      0.000      -0.002      -0.001\n",
              "RealEstate            5.2554      0.584      8.997      0.000       4.111       6.400\n",
              "Portion              -0.8696      0.520     -1.671      0.095      -1.890       0.150\n",
              "DisbursementGross  1.832e-07   3.47e-07      0.528      0.598   -4.97e-07    8.64e-07\n",
              "=====================================================================================\n",
              "\"\"\""
            ]
          },
          "execution_count": 91,
          "metadata": {},
          "output_type": "execute_result"
        }
      ]
    },
    {
      "cell_type": "markdown",
      "metadata": {
        "id": "2fTmI8aOq_wK"
      },
      "source": [
        "Portion and DisbursementGross both becomes insignificant, so lets drop them and only keep daysterm and RealEstate"
      ]
    },
    {
      "cell_type": "code",
      "metadata": {
        "id": "DiIPK8qPq_wL",
        "outputId": "cdab576f-2508-44cc-fa26-8ac16a6a4164"
      },
      "source": [
        "mod2 = smf.glm('Default ~ daysterm   + RealEstate ', train_data, family=sm.families.Binomial()).fit()\n",
        "mod2.summary()"
      ],
      "execution_count": null,
      "outputs": [
        {
          "data": {
            "text/html": [
              "<table class=\"simpletable\">\n",
              "<caption>Generalized Linear Model Regression Results</caption>\n",
              "<tr>\n",
              "  <th>Dep. Variable:</th>        <td>Default</td>     <th>  No. Observations:  </th>  <td>  1576</td> \n",
              "</tr>\n",
              "<tr>\n",
              "  <th>Model:</th>                  <td>GLM</td>       <th>  Df Residuals:      </th>  <td>  1573</td> \n",
              "</tr>\n",
              "<tr>\n",
              "  <th>Model Family:</th>        <td>Binomial</td>     <th>  Df Model:          </th>  <td>     2</td> \n",
              "</tr>\n",
              "<tr>\n",
              "  <th>Link Function:</th>         <td>logit</td>      <th>  Scale:             </th> <td>  1.0000</td>\n",
              "</tr>\n",
              "<tr>\n",
              "  <th>Method:</th>                <td>IRLS</td>       <th>  Log-Likelihood:    </th> <td> -691.10</td>\n",
              "</tr>\n",
              "<tr>\n",
              "  <th>Date:</th>            <td>Sat, 26 Oct 2019</td> <th>  Deviance:          </th> <td>  1382.2</td>\n",
              "</tr>\n",
              "<tr>\n",
              "  <th>Time:</th>                <td>23:05:12</td>     <th>  Pearson chi2:      </th> <td>8.25e+03</td>\n",
              "</tr>\n",
              "<tr>\n",
              "  <th>No. Iterations:</th>          <td>6</td>        <th>                     </th>     <td> </td>   \n",
              "</tr>\n",
              "<tr>\n",
              "  <th>Covariance Type:</th>     <td>nonrobust</td>    <th>                     </th>     <td> </td>   \n",
              "</tr>\n",
              "</table>\n",
              "<table class=\"simpletable\">\n",
              "<tr>\n",
              "       <td></td>         <th>coef</th>     <th>std err</th>      <th>z</th>      <th>P>|z|</th>  <th>[0.025</th>    <th>0.975]</th>  \n",
              "</tr>\n",
              "<tr>\n",
              "  <th>Intercept</th>  <td>    2.5909</td> <td>    0.210</td> <td>   12.320</td> <td> 0.000</td> <td>    2.179</td> <td>    3.003</td>\n",
              "</tr>\n",
              "<tr>\n",
              "  <th>daysterm</th>   <td>   -0.0014</td> <td> 9.71e-05</td> <td>  -14.412</td> <td> 0.000</td> <td>   -0.002</td> <td>   -0.001</td>\n",
              "</tr>\n",
              "<tr>\n",
              "  <th>RealEstate</th> <td>    5.2032</td> <td>    0.572</td> <td>    9.089</td> <td> 0.000</td> <td>    4.081</td> <td>    6.325</td>\n",
              "</tr>\n",
              "</table>"
            ],
            "text/plain": [
              "<class 'statsmodels.iolib.summary.Summary'>\n",
              "\"\"\"\n",
              "                 Generalized Linear Model Regression Results                  \n",
              "==============================================================================\n",
              "Dep. Variable:                Default   No. Observations:                 1576\n",
              "Model:                            GLM   Df Residuals:                     1573\n",
              "Model Family:                Binomial   Df Model:                            2\n",
              "Link Function:                  logit   Scale:                          1.0000\n",
              "Method:                          IRLS   Log-Likelihood:                -691.10\n",
              "Date:                Sat, 26 Oct 2019   Deviance:                       1382.2\n",
              "Time:                        23:05:12   Pearson chi2:                 8.25e+03\n",
              "No. Iterations:                     6                                         \n",
              "Covariance Type:            nonrobust                                         \n",
              "==============================================================================\n",
              "                 coef    std err          z      P>|z|      [0.025      0.975]\n",
              "------------------------------------------------------------------------------\n",
              "Intercept      2.5909      0.210     12.320      0.000       2.179       3.003\n",
              "daysterm      -0.0014   9.71e-05    -14.412      0.000      -0.002      -0.001\n",
              "RealEstate     5.2032      0.572      9.089      0.000       4.081       6.325\n",
              "==============================================================================\n",
              "\"\"\""
            ]
          },
          "execution_count": 92,
          "metadata": {},
          "output_type": "execute_result"
        }
      ]
    },
    {
      "cell_type": "markdown",
      "metadata": {
        "id": "l99ypoAmq_wL"
      },
      "source": [
        "So this two variable becomes significant"
      ]
    },
    {
      "cell_type": "markdown",
      "metadata": {
        "id": "O0O8gIq1q_wL"
      },
      "source": [
        "Now lets predict for thsi new model"
      ]
    },
    {
      "cell_type": "code",
      "metadata": {
        "id": "IZ8BA-2oq_wL",
        "outputId": "a8c5682f-fa71-4804-983a-cf17643c5f25"
      },
      "source": [
        "test_data['predict'] = mod2.predict(test_data)\n",
        "test_data.head()\n",
        "sns.distplot(test_data['predict'])"
      ],
      "execution_count": null,
      "outputs": [
        {
          "data": {
            "text/plain": [
              "<matplotlib.axes._subplots.AxesSubplot at 0x1ea21064ef0>"
            ]
          },
          "execution_count": 93,
          "metadata": {},
          "output_type": "execute_result"
        },
        {
          "data": {
            "image/png": "[encoded data removed]",
            "text/plain": [
              "<Figure size 432x288 with 1 Axes>"
            ]
          },
          "metadata": {
            "needs_background": "light"
          },
          "output_type": "display_data"
        }
      ]
    },
    {
      "cell_type": "markdown",
      "metadata": {
        "id": "HUqEIc0pq_wM"
      },
      "source": [
        "Lets create the confusion matrix for this model"
      ]
    },
    {
      "cell_type": "code",
      "metadata": {
        "id": "lhewiwvlq_wM",
        "outputId": "7566637f-e5da-4c41-8356-4b3822bf9bb0"
      },
      "source": [
        "test_data['High_Risk_2'] = test_data['predict'] >= 0.5\n",
        "df = pd.DataFrame(test_data, columns=['Default','High_Risk_2'])\n",
        "confusion_matrix = pd.crosstab(df['Default'], df['High_Risk_2'], rownames=['Actual'], colnames=['Predicted'])\n",
        "confusion_matrix"
      ],
      "execution_count": null,
      "outputs": [
        {
          "data": {
            "text/html": [
              "<div>\n",
              "<style scoped>\n",
              "    .dataframe tbody tr th:only-of-type {\n",
              "        vertical-align: middle;\n",
              "    }\n",
              "\n",
              "    .dataframe tbody tr th {\n",
              "        vertical-align: top;\n",
              "    }\n",
              "\n",
              "    .dataframe thead th {\n",
              "        text-align: right;\n",
              "    }\n",
              "</style>\n",
              "<table border=\"1\" class=\"dataframe\">\n",
              "  <thead>\n",
              "    <tr style=\"text-align: right;\">\n",
              "      <th>Predicted</th>\n",
              "      <th>False</th>\n",
              "      <th>True</th>\n",
              "    </tr>\n",
              "    <tr>\n",
              "      <th>Actual</th>\n",
              "      <th></th>\n",
              "      <th></th>\n",
              "    </tr>\n",
              "  </thead>\n",
              "  <tbody>\n",
              "    <tr>\n",
              "      <th>0</th>\n",
              "      <td>298</td>\n",
              "      <td>30</td>\n",
              "    </tr>\n",
              "    <tr>\n",
              "      <th>1</th>\n",
              "      <td>67</td>\n",
              "      <td>131</td>\n",
              "    </tr>\n",
              "  </tbody>\n",
              "</table>\n",
              "</div>"
            ],
            "text/plain": [
              "Predicted  False  True \n",
              "Actual                 \n",
              "0            298     30\n",
              "1             67    131"
            ]
          },
          "execution_count": 94,
          "metadata": {},
          "output_type": "execute_result"
        }
      ]
    },
    {
      "cell_type": "code",
      "metadata": {
        "id": "4sF7DRjsq_wM",
        "outputId": "d1e398f9-e2ef-4152-ca16-314896c912ca"
      },
      "source": [
        "fig, axis = plt.subplots(figsize=(10, 5))\n",
        "sns.heatmap(confusion_matrix, annot=True, fmt=\"d\", linewidths=4, ax=axis)\n"
      ],
      "execution_count": null,
      "outputs": [
        {
          "data": {
            "text/plain": [
              "<matplotlib.axes._subplots.AxesSubplot at 0x1ea210ee0f0>"
            ]
          },
          "execution_count": 95,
          "metadata": {},
          "output_type": "execute_result"
        },
        {
          "data": {
            "image/png": "[encoded data removed]",
            "text/plain": [
              "<Figure size 720x360 with 2 Axes>"
            ]
          },
          "metadata": {
            "needs_background": "light"
          },
          "output_type": "display_data"
        }
      ]
    },
    {
      "cell_type": "markdown",
      "metadata": {
        "id": "GoiG8pOAq_wN"
      },
      "source": [
        "Ploting accuracy per threosld like the previous model"
      ]
    },
    {
      "cell_type": "code",
      "metadata": {
        "id": "O3N7ErnOq_wN",
        "outputId": "5ed1aee9-0e9b-4378-fdab-1ee7510e3523"
      },
      "source": [
        "thresholds = np.arange(0, 1, 0.05)\n",
        "thresholds\n",
        "acc_curve = pd.DataFrame({'threshold': thresholds})\n",
        "acc_curve['accuracy'] = acc_curve['threshold'].apply(accuracy)\n",
        "acc_curve.head()"
      ],
      "execution_count": null,
      "outputs": [
        {
          "data": {
            "text/html": [
              "<div>\n",
              "<style scoped>\n",
              "    .dataframe tbody tr th:only-of-type {\n",
              "        vertical-align: middle;\n",
              "    }\n",
              "\n",
              "    .dataframe tbody tr th {\n",
              "        vertical-align: top;\n",
              "    }\n",
              "\n",
              "    .dataframe thead th {\n",
              "        text-align: right;\n",
              "    }\n",
              "</style>\n",
              "<table border=\"1\" class=\"dataframe\">\n",
              "  <thead>\n",
              "    <tr style=\"text-align: right;\">\n",
              "      <th></th>\n",
              "      <th>threshold</th>\n",
              "      <th>accuracy</th>\n",
              "    </tr>\n",
              "  </thead>\n",
              "  <tbody>\n",
              "    <tr>\n",
              "      <th>0</th>\n",
              "      <td>0.00</td>\n",
              "      <td>0.376426</td>\n",
              "    </tr>\n",
              "    <tr>\n",
              "      <th>1</th>\n",
              "      <td>0.05</td>\n",
              "      <td>0.469582</td>\n",
              "    </tr>\n",
              "    <tr>\n",
              "      <th>2</th>\n",
              "      <td>0.10</td>\n",
              "      <td>0.676806</td>\n",
              "    </tr>\n",
              "    <tr>\n",
              "      <th>3</th>\n",
              "      <td>0.15</td>\n",
              "      <td>0.671103</td>\n",
              "    </tr>\n",
              "    <tr>\n",
              "      <th>4</th>\n",
              "      <td>0.20</td>\n",
              "      <td>0.671103</td>\n",
              "    </tr>\n",
              "  </tbody>\n",
              "</table>\n",
              "</div>"
            ],
            "text/plain": [
              "   threshold  accuracy\n",
              "0       0.00  0.376426\n",
              "1       0.05  0.469582\n",
              "2       0.10  0.676806\n",
              "3       0.15  0.671103\n",
              "4       0.20  0.671103"
            ]
          },
          "execution_count": 96,
          "metadata": {},
          "output_type": "execute_result"
        }
      ]
    },
    {
      "cell_type": "code",
      "metadata": {
        "id": "AWJ-B3k5q_wO",
        "outputId": "22c9ea39-a1be-4e88-c1b4-4013f49b35b0"
      },
      "source": [
        "sns.lineplot('threshold', 'accuracy', data=acc_curve)"
      ],
      "execution_count": null,
      "outputs": [
        {
          "data": {
            "text/plain": [
              "<matplotlib.axes._subplots.AxesSubplot at 0x1ea2118f278>"
            ]
          },
          "execution_count": 97,
          "metadata": {},
          "output_type": "execute_result"
        },
        {
          "data": {
            "image/png": "[encoded data removed]",
            "text/plain": [
              "<Figure size 432x288 with 1 Axes>"
            ]
          },
          "metadata": {
            "needs_background": "light"
          },
          "output_type": "display_data"
        }
      ]
    },
    {
      "cell_type": "markdown",
      "metadata": {
        "id": "KVh6PLMaq_wO"
      },
      "source": [
        "Calculation of cost for the new model"
      ]
    },
    {
      "cell_type": "markdown",
      "metadata": {
        "id": "GR80SPznq_wO"
      },
      "source": [
        "Ploting cost per threosld like the previous model, this time also we would select min and max of predict to select thresold"
      ]
    },
    {
      "cell_type": "code",
      "metadata": {
        "id": "cXpB09bfq_wP",
        "outputId": "85199f6d-8925-458d-c9de-cad35aa5d086"
      },
      "source": [
        "test_data['predict'].describe()\n",
        "test_data['predict'].max()"
      ],
      "execution_count": null,
      "outputs": [
        {
          "data": {
            "text/plain": [
              "0.9302745963283976"
            ]
          },
          "execution_count": 98,
          "metadata": {},
          "output_type": "execute_result"
        }
      ]
    },
    {
      "cell_type": "code",
      "metadata": {
        "id": "OYcE145Nq_wP",
        "outputId": "97a91771-c4bb-4b85-b620-9ec44ca921fb"
      },
      "source": [
        "thresholds = np.arange((test_data['predict'].min()+0.01), test_data['predict'].max(), 0.05)\n",
        "acc_curve = pd.DataFrame({'threshold': thresholds})\n",
        "acc_curve['cost'] = acc_curve['threshold'].apply(cost)\n",
        "acc_curve.head()"
      ],
      "execution_count": null,
      "outputs": [
        {
          "data": {
            "text/html": [
              "<div>\n",
              "<style scoped>\n",
              "    .dataframe tbody tr th:only-of-type {\n",
              "        vertical-align: middle;\n",
              "    }\n",
              "\n",
              "    .dataframe tbody tr th {\n",
              "        vertical-align: top;\n",
              "    }\n",
              "\n",
              "    .dataframe thead th {\n",
              "        text-align: right;\n",
              "    }\n",
              "</style>\n",
              "<table border=\"1\" class=\"dataframe\">\n",
              "  <thead>\n",
              "    <tr style=\"text-align: right;\">\n",
              "      <th></th>\n",
              "      <th>threshold</th>\n",
              "      <th>cost</th>\n",
              "    </tr>\n",
              "  </thead>\n",
              "  <tbody>\n",
              "    <tr>\n",
              "      <th>0</th>\n",
              "      <td>0.010964</td>\n",
              "      <td>283</td>\n",
              "    </tr>\n",
              "    <tr>\n",
              "      <th>1</th>\n",
              "      <td>0.060964</td>\n",
              "      <td>302</td>\n",
              "    </tr>\n",
              "    <tr>\n",
              "      <th>2</th>\n",
              "      <td>0.110964</td>\n",
              "      <td>201</td>\n",
              "    </tr>\n",
              "    <tr>\n",
              "      <th>3</th>\n",
              "      <td>0.160964</td>\n",
              "      <td>225</td>\n",
              "    </tr>\n",
              "    <tr>\n",
              "      <th>4</th>\n",
              "      <td>0.210964</td>\n",
              "      <td>233</td>\n",
              "    </tr>\n",
              "  </tbody>\n",
              "</table>\n",
              "</div>"
            ],
            "text/plain": [
              "   threshold  cost\n",
              "0   0.010964   283\n",
              "1   0.060964   302\n",
              "2   0.110964   201\n",
              "3   0.160964   225\n",
              "4   0.210964   233"
            ]
          },
          "execution_count": 99,
          "metadata": {},
          "output_type": "execute_result"
        }
      ]
    },
    {
      "cell_type": "code",
      "metadata": {
        "id": "y7dU-9mqq_wP",
        "outputId": "43e67830-f1e2-4b9b-902e-3d93b6bdf1fe"
      },
      "source": [
        "sns.lineplot('threshold', 'cost', data=acc_curve)"
      ],
      "execution_count": null,
      "outputs": [
        {
          "data": {
            "text/plain": [
              "<matplotlib.axes._subplots.AxesSubplot at 0x1ea211f1be0>"
            ]
          },
          "execution_count": 100,
          "metadata": {},
          "output_type": "execute_result"
        },
        {
          "data": {
            "image/png": "[encoded data removed]",
            "text/plain": [
              "<Figure size 432x288 with 1 Axes>"
            ]
          },
          "metadata": {
            "needs_background": "light"
          },
          "output_type": "display_data"
        }
      ]
    },
    {
      "cell_type": "markdown",
      "metadata": {
        "id": "Bam3FZB2q_wQ"
      },
      "source": [
        "By selecting new combination of variables the models accuracy increase a lot, the new accurcay is almost 0.9 and cost also reduces at maxm accuracy point"
      ]
    },
    {
      "cell_type": "code",
      "metadata": {
        "id": "k_lTMzG0q_wQ"
      },
      "source": [
        ""
      ],
      "execution_count": null,
      "outputs": []
    }
  ]
}