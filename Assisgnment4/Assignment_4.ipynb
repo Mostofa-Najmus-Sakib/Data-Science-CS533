{
  "nbformat": 4,
  "nbformat_minor": 0,
  "metadata": {
    "kernelspec": {
      "display_name": "Python 3",
      "language": "python",
      "name": "python3"
    },
    "language_info": {
      "codemirror_mode": {
        "name": "ipython",
        "version": 3
      },
      "file_extension": ".py",
      "mimetype": "text/x-python",
      "name": "python",
      "nbconvert_exporter": "python",
      "pygments_lexer": "ipython3",
      "version": "3.7.3"
    },
    "colab": {
      "name": "Assignment 4- Mostofa & Arash.ipynb",
      "provenance": [],
      "include_colab_link": true
    }
  },
  "cells": [
    {
      "cell_type": "markdown",
      "metadata": {
        "id": "view-in-github",
        "colab_type": "text"
      },
      "source": [
        "<a href=\"https://colab.research.google.com/github/Mostofa-Najmus-Sakib/Data-Science-CS533/blob/main/Assisgnment4/Assignment_4.ipynb\" target=\"_parent\"><img src=\"https://colab.research.google.com/assets/colab-badge.svg\" alt=\"Open In Colab\"/></a>"
      ]
    },
    {
      "cell_type": "markdown",
      "metadata": {
        "id": "C6oSTDdTrVmQ"
      },
      "source": [
        "# Assignment 4: Classification Fairness\n",
        "# CS 533 Fall 2019\n"
      ]
    },
    {
      "cell_type": "markdown",
      "metadata": {
        "id": "nsJIYx5WrVmb"
      },
      "source": [
        "## Requirements"
      ]
    },
    {
      "cell_type": "code",
      "metadata": {
        "id": "mS_BRzpZrVmd"
      },
      "source": [
        "import pandas as pd\n",
        "import numpy as np\n",
        "import seaborn as sns\n",
        "import matplotlib.pyplot as plt\n",
        "import statsmodels.api as sm\n",
        "import statsmodels.formula.api as smf\n",
        "import os\n",
        "import glob\n",
        "from sklearn import metrics\n",
        "import sklearn.metrics as metrics\n",
        "from sklearn.metrics import roc_curve"
      ],
      "execution_count": null,
      "outputs": []
    },
    {
      "cell_type": "code",
      "metadata": {
        "id": "DiFuQwZUrVmg"
      },
      "source": [
        "#conda install -c conda-forge scikit-plot"
      ],
      "execution_count": null,
      "outputs": []
    },
    {
      "cell_type": "markdown",
      "metadata": {
        "id": "hrrKdT8ErVmi"
      },
      "source": [
        "## Data Cleaning"
      ]
    },
    {
      "cell_type": "code",
      "metadata": {
        "id": "e6RqSq4drVmj",
        "outputId": "0324c35f-4a0a-402b-8a95-69ffe9765a49"
      },
      "source": [
        "data = pd.read_csv(\"compas-scores-two-years.csv\")\n",
        "data.head()"
      ],
      "execution_count": null,
      "outputs": [
        {
          "data": {
            "text/html": [
              "<div>\n",
              "<style scoped>\n",
              "    .dataframe tbody tr th:only-of-type {\n",
              "        vertical-align: middle;\n",
              "    }\n",
              "\n",
              "    .dataframe tbody tr th {\n",
              "        vertical-align: top;\n",
              "    }\n",
              "\n",
              "    .dataframe thead th {\n",
              "        text-align: right;\n",
              "    }\n",
              "</style>\n",
              "<table border=\"1\" class=\"dataframe\">\n",
              "  <thead>\n",
              "    <tr style=\"text-align: right;\">\n",
              "      <th></th>\n",
              "      <th>id</th>\n",
              "      <th>name</th>\n",
              "      <th>first</th>\n",
              "      <th>last</th>\n",
              "      <th>compas_screening_date</th>\n",
              "      <th>sex</th>\n",
              "      <th>dob</th>\n",
              "      <th>age</th>\n",
              "      <th>age_cat</th>\n",
              "      <th>race</th>\n",
              "      <th>...</th>\n",
              "      <th>v_decile_score</th>\n",
              "      <th>v_score_text</th>\n",
              "      <th>v_screening_date</th>\n",
              "      <th>in_custody</th>\n",
              "      <th>out_custody</th>\n",
              "      <th>priors_count.1</th>\n",
              "      <th>start</th>\n",
              "      <th>end</th>\n",
              "      <th>event</th>\n",
              "      <th>two_year_recid</th>\n",
              "    </tr>\n",
              "  </thead>\n",
              "  <tbody>\n",
              "    <tr>\n",
              "      <th>0</th>\n",
              "      <td>1</td>\n",
              "      <td>miguel hernandez</td>\n",
              "      <td>miguel</td>\n",
              "      <td>hernandez</td>\n",
              "      <td>2013-08-14</td>\n",
              "      <td>Male</td>\n",
              "      <td>1947-04-18</td>\n",
              "      <td>69</td>\n",
              "      <td>Greater than 45</td>\n",
              "      <td>Other</td>\n",
              "      <td>...</td>\n",
              "      <td>1</td>\n",
              "      <td>Low</td>\n",
              "      <td>2013-08-14</td>\n",
              "      <td>2014-07-07</td>\n",
              "      <td>2014-07-14</td>\n",
              "      <td>0</td>\n",
              "      <td>0</td>\n",
              "      <td>327</td>\n",
              "      <td>0</td>\n",
              "      <td>0</td>\n",
              "    </tr>\n",
              "    <tr>\n",
              "      <th>1</th>\n",
              "      <td>3</td>\n",
              "      <td>kevon dixon</td>\n",
              "      <td>kevon</td>\n",
              "      <td>dixon</td>\n",
              "      <td>2013-01-27</td>\n",
              "      <td>Male</td>\n",
              "      <td>1982-01-22</td>\n",
              "      <td>34</td>\n",
              "      <td>25 - 45</td>\n",
              "      <td>African-American</td>\n",
              "      <td>...</td>\n",
              "      <td>1</td>\n",
              "      <td>Low</td>\n",
              "      <td>2013-01-27</td>\n",
              "      <td>2013-01-26</td>\n",
              "      <td>2013-02-05</td>\n",
              "      <td>0</td>\n",
              "      <td>9</td>\n",
              "      <td>159</td>\n",
              "      <td>1</td>\n",
              "      <td>1</td>\n",
              "    </tr>\n",
              "    <tr>\n",
              "      <th>2</th>\n",
              "      <td>4</td>\n",
              "      <td>ed philo</td>\n",
              "      <td>ed</td>\n",
              "      <td>philo</td>\n",
              "      <td>2013-04-14</td>\n",
              "      <td>Male</td>\n",
              "      <td>1991-05-14</td>\n",
              "      <td>24</td>\n",
              "      <td>Less than 25</td>\n",
              "      <td>African-American</td>\n",
              "      <td>...</td>\n",
              "      <td>3</td>\n",
              "      <td>Low</td>\n",
              "      <td>2013-04-14</td>\n",
              "      <td>2013-06-16</td>\n",
              "      <td>2013-06-16</td>\n",
              "      <td>4</td>\n",
              "      <td>0</td>\n",
              "      <td>63</td>\n",
              "      <td>0</td>\n",
              "      <td>1</td>\n",
              "    </tr>\n",
              "    <tr>\n",
              "      <th>3</th>\n",
              "      <td>5</td>\n",
              "      <td>marcu brown</td>\n",
              "      <td>marcu</td>\n",
              "      <td>brown</td>\n",
              "      <td>2013-01-13</td>\n",
              "      <td>Male</td>\n",
              "      <td>1993-01-21</td>\n",
              "      <td>23</td>\n",
              "      <td>Less than 25</td>\n",
              "      <td>African-American</td>\n",
              "      <td>...</td>\n",
              "      <td>6</td>\n",
              "      <td>Medium</td>\n",
              "      <td>2013-01-13</td>\n",
              "      <td>NaN</td>\n",
              "      <td>NaN</td>\n",
              "      <td>1</td>\n",
              "      <td>0</td>\n",
              "      <td>1174</td>\n",
              "      <td>0</td>\n",
              "      <td>0</td>\n",
              "    </tr>\n",
              "    <tr>\n",
              "      <th>4</th>\n",
              "      <td>6</td>\n",
              "      <td>bouthy pierrelouis</td>\n",
              "      <td>bouthy</td>\n",
              "      <td>pierrelouis</td>\n",
              "      <td>2013-03-26</td>\n",
              "      <td>Male</td>\n",
              "      <td>1973-01-22</td>\n",
              "      <td>43</td>\n",
              "      <td>25 - 45</td>\n",
              "      <td>Other</td>\n",
              "      <td>...</td>\n",
              "      <td>1</td>\n",
              "      <td>Low</td>\n",
              "      <td>2013-03-26</td>\n",
              "      <td>NaN</td>\n",
              "      <td>NaN</td>\n",
              "      <td>2</td>\n",
              "      <td>0</td>\n",
              "      <td>1102</td>\n",
              "      <td>0</td>\n",
              "      <td>0</td>\n",
              "    </tr>\n",
              "  </tbody>\n",
              "</table>\n",
              "<p>5 rows × 53 columns</p>\n",
              "</div>"
            ],
            "text/plain": [
              "   id                name   first         last compas_screening_date   sex  \\\n",
              "0   1    miguel hernandez  miguel    hernandez            2013-08-14  Male   \n",
              "1   3         kevon dixon   kevon        dixon            2013-01-27  Male   \n",
              "2   4            ed philo      ed        philo            2013-04-14  Male   \n",
              "3   5         marcu brown   marcu        brown            2013-01-13  Male   \n",
              "4   6  bouthy pierrelouis  bouthy  pierrelouis            2013-03-26  Male   \n",
              "\n",
              "          dob  age          age_cat              race  ...  v_decile_score  \\\n",
              "0  1947-04-18   69  Greater than 45             Other  ...               1   \n",
              "1  1982-01-22   34          25 - 45  African-American  ...               1   \n",
              "2  1991-05-14   24     Less than 25  African-American  ...               3   \n",
              "3  1993-01-21   23     Less than 25  African-American  ...               6   \n",
              "4  1973-01-22   43          25 - 45             Other  ...               1   \n",
              "\n",
              "   v_score_text  v_screening_date  in_custody  out_custody  priors_count.1  \\\n",
              "0           Low        2013-08-14  2014-07-07   2014-07-14               0   \n",
              "1           Low        2013-01-27  2013-01-26   2013-02-05               0   \n",
              "2           Low        2013-04-14  2013-06-16   2013-06-16               4   \n",
              "3        Medium        2013-01-13         NaN          NaN               1   \n",
              "4           Low        2013-03-26         NaN          NaN               2   \n",
              "\n",
              "  start   end event two_year_recid  \n",
              "0     0   327     0              0  \n",
              "1     9   159     1              1  \n",
              "2     0    63     0              1  \n",
              "3     0  1174     0              0  \n",
              "4     0  1102     0              0  \n",
              "\n",
              "[5 rows x 53 columns]"
            ]
          },
          "execution_count": 3,
          "metadata": {},
          "output_type": "execute_result"
        }
      ]
    },
    {
      "cell_type": "code",
      "metadata": {
        "id": "f14OSIkorVmn"
      },
      "source": [
        "data1 = data[(data['days_b_screening_arrest'] <=30) & (data['days_b_screening_arrest'] >= -30)\n",
        "           & (data['is_recid'] != -1) & (data['c_charge_degree'] != 0) & (data['score_text'] != 'N/A')]"
      ],
      "execution_count": null,
      "outputs": []
    },
    {
      "cell_type": "code",
      "metadata": {
        "id": "iyNqxg5rrVmp",
        "outputId": "12b52482-2697-434d-95e7-1774edd1a8aa"
      },
      "source": [
        "def FPrate(score1, score2, xx):\n",
        "    fpr, tpr, _ = roc_curve(data1[score1], data1[score2], pos_label=xx)\n",
        "    return fpr\n",
        "def TPrate(score1, score2, xx):\n",
        "    fpr, tpr, _ = roc_curve(data1[score1], data1[score2], pos_label=xx)\n",
        "    return tpr\n",
        "fpr = []\n",
        "tpr = []\n",
        "ran = range(0, 12, 1)\n",
        "for x in range(1, 12, 1):\n",
        "    fpr.append(FPrate('decile_score', 'is_recid', x))\n",
        "    tpr.append(TPrate('decile_score', 'is_recid', x))\n",
        "fpr = pd.DataFrame(fpr)\n",
        "tpr = pd.DataFrame(tpr)\n",
        "tpData = pd.DataFrame()\n",
        "tpData['fpr'] = fpr.iloc[:,1]\n",
        "tpData['tpr'] = tpr.iloc[:,1]\n",
        "tpData"
      ],
      "execution_count": null,
      "outputs": [
        {
          "name": "stderr",
          "output_type": "stream",
          "text": [
            "C:\\Users\\Sajon_PC\\Anaconda3\\lib\\site-packages\\sklearn\\metrics\\ranking.py:659: UndefinedMetricWarning: No positive samples in y_true, true positive value should be meaningless\n",
            "  UndefinedMetricWarning)\n"
          ]
        },
        {
          "data": {
            "text/html": [
              "<div>\n",
              "<style scoped>\n",
              "    .dataframe tbody tr th:only-of-type {\n",
              "        vertical-align: middle;\n",
              "    }\n",
              "\n",
              "    .dataframe tbody tr th {\n",
              "        vertical-align: top;\n",
              "    }\n",
              "\n",
              "    .dataframe thead th {\n",
              "        text-align: right;\n",
              "    }\n",
              "</style>\n",
              "<table border=\"1\" class=\"dataframe\">\n",
              "  <thead>\n",
              "    <tr style=\"text-align: right;\">\n",
              "      <th></th>\n",
              "      <th>fpr</th>\n",
              "      <th>tpr</th>\n",
              "    </tr>\n",
              "  </thead>\n",
              "  <tbody>\n",
              "    <tr>\n",
              "      <th>0</th>\n",
              "      <td>0.550553</td>\n",
              "      <td>0.233281</td>\n",
              "    </tr>\n",
              "    <tr>\n",
              "      <th>1</th>\n",
              "      <td>0.504673</td>\n",
              "      <td>0.352798</td>\n",
              "    </tr>\n",
              "    <tr>\n",
              "      <th>2</th>\n",
              "      <td>0.492489</td>\n",
              "      <td>0.415765</td>\n",
              "    </tr>\n",
              "    <tr>\n",
              "      <th>3</th>\n",
              "      <td>0.486015</td>\n",
              "      <td>0.471471</td>\n",
              "    </tr>\n",
              "    <tr>\n",
              "      <th>4</th>\n",
              "      <td>0.481574</td>\n",
              "      <td>0.512027</td>\n",
              "    </tr>\n",
              "    <tr>\n",
              "      <th>5</th>\n",
              "      <td>0.472267</td>\n",
              "      <td>0.614367</td>\n",
              "    </tr>\n",
              "    <tr>\n",
              "      <th>6</th>\n",
              "      <td>0.470930</td>\n",
              "      <td>0.639113</td>\n",
              "    </tr>\n",
              "    <tr>\n",
              "      <th>7</th>\n",
              "      <td>0.464708</td>\n",
              "      <td>0.754762</td>\n",
              "    </tr>\n",
              "    <tr>\n",
              "      <th>8</th>\n",
              "      <td>0.465751</td>\n",
              "      <td>0.740476</td>\n",
              "    </tr>\n",
              "    <tr>\n",
              "      <th>9</th>\n",
              "      <td>0.467110</td>\n",
              "      <td>0.819079</td>\n",
              "    </tr>\n",
              "    <tr>\n",
              "      <th>10</th>\n",
              "      <td>0.484446</td>\n",
              "      <td>NaN</td>\n",
              "    </tr>\n",
              "  </tbody>\n",
              "</table>\n",
              "</div>"
            ],
            "text/plain": [
              "         fpr       tpr\n",
              "0   0.550553  0.233281\n",
              "1   0.504673  0.352798\n",
              "2   0.492489  0.415765\n",
              "3   0.486015  0.471471\n",
              "4   0.481574  0.512027\n",
              "5   0.472267  0.614367\n",
              "6   0.470930  0.639113\n",
              "7   0.464708  0.754762\n",
              "8   0.465751  0.740476\n",
              "9   0.467110  0.819079\n",
              "10  0.484446       NaN"
            ]
          },
          "execution_count": 5,
          "metadata": {},
          "output_type": "execute_result"
        }
      ]
    },
    {
      "cell_type": "markdown",
      "metadata": {
        "id": "9JWkCesSrVms"
      },
      "source": [
        "## Part 1: ProPublica Replication\n",
        "In the first part of this assignment, you will reproduce part of ProPublica’s analysis on racial disparities in the impact of the risk assessment tool.\n"
      ]
    },
    {
      "cell_type": "markdown",
      "metadata": {
        "id": "U8bMAgvdrVmu"
      },
      "source": [
        "### 1.3 — Basic Accuracy Analysis"
      ]
    },
    {
      "cell_type": "markdown",
      "metadata": {
        "id": "dag2YqqFrVmv"
      },
      "source": [
        "Start by doing some basic analysis of the accuracy of the COMPAS classifier:\n",
        "> 1.3.1 Plot ROC curves for recidivism and violent recidivism. Use the decile scores (decile_score and v_decile_score) as the predictor."
      ]
    },
    {
      "cell_type": "markdown",
      "metadata": {
        "id": "F4JDkkVHrVmw"
      },
      "source": [
        "The below code takes in the input of is_recid which is the whether the defendent recidiviated along with the defandants COMPAS decile score for recividism to setup the roc_curve fucntion to calculate the roc curve.\n",
        "Similar thing has been done for is_violent_recid which is the whether the defendent commited a violent crime along with the defandants COMPAS decile score for violent recividism.\n",
        "Later both for the general and the violent we prepared the ROC curve"
      ]
    },
    {
      "cell_type": "code",
      "metadata": {
        "id": "HHwbMgNkrVmx",
        "outputId": "6852b7ac-442a-45d0-aaf4-4c605d83bca8"
      },
      "source": [
        "data1.loc[:, ['is_recid', 'decile_score']]\n",
        "fig, axs = plt.subplots(figsize=(5, 5), constrained_layout=True)\n",
        "plt.xlim([0.0, 1.0])\n",
        "plt.ylim([0.0, 1.05])\n",
        "fpr, tpr, _ = metrics.roc_curve(data1['is_recid'], data1['decile_score'])\n",
        "sns.lineplot(fpr, tpr, drawstyle='default', ax=axs, label='General')\n",
        "plt.plot([0, 1], [0, 1], color='r', lw=2, linestyle='--', alpha=.8)\n",
        "axs.set(title = 'Recidism', xlabel = 'False Positive Rate', ylabel = 'True Positive Rate')\n",
        "fpr, tpr, _ = metrics.roc_curve(data['is_violent_recid'], data['v_decile_score'])\n",
        "sns.lineplot(fpr, tpr, drawstyle='default', ax=axs, label='Violent')\n",
        "\n",
        "plt.legend()\n",
        "plt.show();"
      ],
      "execution_count": null,
      "outputs": [
        {
          "data": {
            "image/png": "[encoded data removed]",
            "text/plain": [
              "<Figure size 360x360 with 1 Axes>"
            ]
          },
          "metadata": {
            "needs_background": "light"
          },
          "output_type": "display_data"
        }
      ]
    },
    {
      "cell_type": "markdown",
      "metadata": {
        "id": "lE7hoHkUrVmz"
      },
      "source": [
        "An incredibly useful tool in evaluating and comparing predictive models is the ROC curve. The above plot shows that General one can predict the model better in compare to the violent one. Because that one is more curved towards TP rate portion. This is because the sensitivity or recall value is higher compared to the false positive rate"
      ]
    },
    {
      "cell_type": "markdown",
      "metadata": {
        "id": "zUQMenvKrVm0"
      },
      "source": [
        "> 1.3.2 Compute the precision (Positive Predictive Value), recall, false positive rate, and false negative rate for predicting both recidivism and violent recidivism, using ‘High Risk’ as the threshold for ‘will recidivate’."
      ]
    },
    {
      "cell_type": "markdown",
      "metadata": {
        "id": "wlnXrsi_rVm1"
      },
      "source": [
        "**Calculation for general recividism**"
      ]
    },
    {
      "cell_type": "markdown",
      "metadata": {
        "id": "OsMCr5ncrVm1"
      },
      "source": [
        "We need to select from the dataset for score_text where the defandant compas risk score is only High"
      ]
    },
    {
      "cell_type": "code",
      "metadata": {
        "id": "XOjSX3F6rVm2"
      },
      "source": [
        "st = data1['score_text'] == 'High'\n",
        "st = st*1\n",
        "st = pd.DataFrame(st)"
      ],
      "execution_count": null,
      "outputs": []
    },
    {
      "cell_type": "markdown",
      "metadata": {
        "id": "n2qrfm-0rVm2"
      },
      "source": [
        "Lets take only the is_recid column data only in a seperate variable"
      ]
    },
    {
      "cell_type": "code",
      "metadata": {
        "id": "qrswIdZFrVm3"
      },
      "source": [
        "is_recid = pd.DataFrame(data1['is_recid'])"
      ],
      "execution_count": null,
      "outputs": []
    },
    {
      "cell_type": "markdown",
      "metadata": {
        "id": "DpXjVmNHrVm4"
      },
      "source": [
        "Calculation of consusion matrix using the above two varaibles for the General case "
      ]
    },
    {
      "cell_type": "code",
      "metadata": {
        "id": "SGWbNEmkrVm4",
        "outputId": "24160ff4-183c-4b05-fa2d-fe3a60e309d2"
      },
      "source": [
        "confusion_matrix = pd.crosstab(data1['is_recid'], st['score_text'], rownames=['Actual'], colnames=['Predicted'])\n",
        "confusion_matrix"
      ],
      "execution_count": null,
      "outputs": [
        {
          "data": {
            "text/html": [
              "<div>\n",
              "<style scoped>\n",
              "    .dataframe tbody tr th:only-of-type {\n",
              "        vertical-align: middle;\n",
              "    }\n",
              "\n",
              "    .dataframe tbody tr th {\n",
              "        vertical-align: top;\n",
              "    }\n",
              "\n",
              "    .dataframe thead th {\n",
              "        text-align: right;\n",
              "    }\n",
              "</style>\n",
              "<table border=\"1\" class=\"dataframe\">\n",
              "  <thead>\n",
              "    <tr style=\"text-align: right;\">\n",
              "      <th>Predicted</th>\n",
              "      <th>0</th>\n",
              "      <th>1</th>\n",
              "    </tr>\n",
              "    <tr>\n",
              "      <th>Actual</th>\n",
              "      <th></th>\n",
              "      <th></th>\n",
              "    </tr>\n",
              "  </thead>\n",
              "  <tbody>\n",
              "    <tr>\n",
              "      <th>0</th>\n",
              "      <td>2915</td>\n",
              "      <td>267</td>\n",
              "    </tr>\n",
              "    <tr>\n",
              "      <th>1</th>\n",
              "      <td>2113</td>\n",
              "      <td>877</td>\n",
              "    </tr>\n",
              "  </tbody>\n",
              "</table>\n",
              "</div>"
            ],
            "text/plain": [
              "Predicted     0    1\n",
              "Actual              \n",
              "0          2915  267\n",
              "1          2113  877"
            ]
          },
          "execution_count": 9,
          "metadata": {},
          "output_type": "execute_result"
        }
      ]
    },
    {
      "cell_type": "markdown",
      "metadata": {
        "id": "XpRv8PtxrVm6"
      },
      "source": [
        "From the confusion matrix calculation of Precision, recall, false positive rate and false negative rate for the general case"
      ]
    },
    {
      "cell_type": "code",
      "metadata": {
        "id": "pNqjeZnWrVm7",
        "outputId": "9756933c-4a3b-489d-a364-6044d9a3a880"
      },
      "source": [
        "TP = confusion_matrix.loc[1, 1]\n",
        "FP = confusion_matrix.loc[0, 1]\n",
        "FN = confusion_matrix.loc[1, 0]\n",
        "TN = confusion_matrix.loc[0, 0]\n",
        "recall = TP / (TP + FN)\n",
        "pre = TP / (TP + FP)\n",
        "FPR = FP / (FP + TN)\n",
        "FNR = FN / (FN + TP)\n",
        "print('Recall is: ', recall)\n",
        "print('precsiion is: ', pre)\n",
        "print('Fals Positive Rate is: ', FPR)\n",
        "print('False Negative Rate is: ', FNR)"
      ],
      "execution_count": null,
      "outputs": [
        {
          "name": "stdout",
          "output_type": "stream",
          "text": [
            "Recall is:  0.29331103678929765\n",
            "precsiion is:  0.7666083916083916\n",
            "Fals Positive Rate is:  0.08390949088623507\n",
            "False Negative Rate is:  0.7066889632107023\n"
          ]
        }
      ]
    },
    {
      "cell_type": "markdown",
      "metadata": {
        "id": "AEGljplorVm8"
      },
      "source": [
        "**Calculation for violent recividism**"
      ]
    },
    {
      "cell_type": "markdown",
      "metadata": {
        "id": "g50ng0nFrVm8"
      },
      "source": [
        "We need to select from the dataset for v_score_text where the defandant compas risk score is only High"
      ]
    },
    {
      "cell_type": "code",
      "metadata": {
        "id": "_xltU-2CrVm9"
      },
      "source": [
        "st2 = data1['v_score_text'] == 'High'\n",
        "st2 = st2*1\n",
        "st2 = pd.DataFrame(st2)\n",
        "st2.head(20)\n",
        "is_violent_recid = pd.DataFrame(data1['is_violent_recid'])"
      ],
      "execution_count": null,
      "outputs": []
    },
    {
      "cell_type": "code",
      "metadata": {
        "id": "03Yki21yrVm9",
        "outputId": "ecc2fcb5-58d7-4c49-9c7e-23f21948d9ff"
      },
      "source": [
        "confusion_matrix = pd.crosstab(data1['is_violent_recid'], st2['v_score_text'], rownames=['Actual'], colnames=['Predicted'])\n",
        "confusion_matrix"
      ],
      "execution_count": null,
      "outputs": [
        {
          "data": {
            "text/html": [
              "<div>\n",
              "<style scoped>\n",
              "    .dataframe tbody tr th:only-of-type {\n",
              "        vertical-align: middle;\n",
              "    }\n",
              "\n",
              "    .dataframe tbody tr th {\n",
              "        vertical-align: top;\n",
              "    }\n",
              "\n",
              "    .dataframe thead th {\n",
              "        text-align: right;\n",
              "    }\n",
              "</style>\n",
              "<table border=\"1\" class=\"dataframe\">\n",
              "  <thead>\n",
              "    <tr style=\"text-align: right;\">\n",
              "      <th>Predicted</th>\n",
              "      <th>0</th>\n",
              "      <th>1</th>\n",
              "    </tr>\n",
              "    <tr>\n",
              "      <th>Actual</th>\n",
              "      <th></th>\n",
              "      <th></th>\n",
              "    </tr>\n",
              "  </thead>\n",
              "  <tbody>\n",
              "    <tr>\n",
              "      <th>0</th>\n",
              "      <td>5038</td>\n",
              "      <td>442</td>\n",
              "    </tr>\n",
              "    <tr>\n",
              "      <th>1</th>\n",
              "      <td>550</td>\n",
              "      <td>142</td>\n",
              "    </tr>\n",
              "  </tbody>\n",
              "</table>\n",
              "</div>"
            ],
            "text/plain": [
              "Predicted     0    1\n",
              "Actual              \n",
              "0          5038  442\n",
              "1           550  142"
            ]
          },
          "execution_count": 12,
          "metadata": {},
          "output_type": "execute_result"
        }
      ]
    },
    {
      "cell_type": "code",
      "metadata": {
        "id": "HKcLMAyzrVm-",
        "outputId": "9cf5ad77-9b53-4cdc-b8e0-58fc0069d986"
      },
      "source": [
        "TP = confusion_matrix.loc[1, 1]\n",
        "FP = confusion_matrix.loc[0, 1]\n",
        "FN = confusion_matrix.loc[1, 0]\n",
        "TN = confusion_matrix.loc[0, 0]\n",
        "recall = TP / (TP + FN)\n",
        "pre = TP / (TP + FP)\n",
        "FPR = FP / (FP + TN)\n",
        "FNR = FN / (FN + TP)\n",
        "print('Recall is: ', recall)\n",
        "print('precsiion is: ', pre)\n",
        "print('Fals Positive Rate is: ', FPR)\n",
        "print('False Negative Rate is: ', FNR)"
      ],
      "execution_count": null,
      "outputs": [
        {
          "name": "stdout",
          "output_type": "stream",
          "text": [
            "Recall is:  0.20520231213872833\n",
            "precsiion is:  0.24315068493150685\n",
            "Fals Positive Rate is:  0.08065693430656934\n",
            "False Negative Rate is:  0.7947976878612717\n"
          ]
        }
      ]
    },
    {
      "cell_type": "markdown",
      "metadata": {
        "id": "tiegbIosrVm-"
      },
      "source": [
        "### 1.4 — Racial Disparity"
      ]
    },
    {
      "cell_type": "markdown",
      "metadata": {
        "id": "mO6azM6zrVm_"
      },
      "source": [
        "Now we want to look at racial disparities; we will consider Caucasian, Black, and Hispanic.\n",
        "\n"
      ]
    },
    {
      "cell_type": "markdown",
      "metadata": {
        "id": "_7a102aLrVm_"
      },
      "source": [
        "> 1.4.1 Draw a bar chart that shows, for each race, and separately for violent and non-violent scoring, the likelihood that a defendant with each of the three risk score levels recidivates. The X axis should be risk score, and the Y axis should be likelihood of recidivism; FacetGrid by race and whether we are looking at violent or general recidivism."
      ]
    },
    {
      "cell_type": "markdown",
      "metadata": {
        "id": "qKpGPvzYrVm_"
      },
      "source": [
        "**General recividism**"
      ]
    },
    {
      "cell_type": "markdown",
      "metadata": {
        "id": "ux-sE4WhrVm_"
      },
      "source": [
        "Lets first calculate for the general recividism case. To do that we need to group by the data for score_text and race and calculate the total value for each race. \n",
        "\n",
        "Once the number of person falls in each case we calculate the likelihood for all three races"
      ]
    },
    {
      "cell_type": "code",
      "metadata": {
        "scrolled": true,
        "id": "FiXIttAQrVnA",
        "outputId": "e69bcfbb-1564-469b-8a1a-e03bc91e8113"
      },
      "source": [
        "data1['value'] = 1\n",
        "data2 = data1.groupby(['score_text', 'race'])['value'].sum()\n",
        "data2_new = data1.groupby(['score_text', 'race', 'is_recid'])['value'].sum()\n",
        "data2_new = pd.DataFrame(data2_new)\n",
        "\n",
        "coc = data2.iloc[2] + data2.iloc[8] + data2.iloc[14]\n",
        "bla = data2.iloc[0] + data2.iloc[6] + data2.iloc[12]\n",
        "his = data2.iloc[3] + data2.iloc[9] + data2.iloc[15]\n",
        "\n",
        "p1 = pd.DataFrame()\n",
        "p1['probability'] = [(data2_new.loc['High'].loc['Caucasian'].loc[1]/(data2_new.loc['High'].loc['Caucasian'].loc[1] + data2_new.loc['High'].loc['Caucasian'].loc[0])), \n",
        "                     (data2_new.loc['Medium'].loc['Caucasian'].loc[1]/(data2_new.loc['Medium'].loc['Caucasian'].loc[1] + data2_new.loc['Medium'].loc['Caucasian'].loc[0])), \n",
        "                     (data2_new.loc['Low'].loc['Caucasian'].loc[1]/(data2_new.loc['Low'].loc['Caucasian'].loc[1] +data2_new.loc['Low'].loc['Caucasian'].loc[0]))]\n",
        "p1['col'] = 'Caucasian'\n",
        "p1['row'] = 'non violent'\n",
        "p1['rank'] = pd.DataFrame(['High', 'Medium', 'Low'])\n",
        "\n",
        "p2 = pd.DataFrame()\n",
        "p2['probability'] = [(data2_new.loc['High'].loc['African-American'].loc[1]/(data2_new.loc['High'].loc['African-American'].loc[1] + data2_new.loc['High'].loc['African-American'].loc[0])), \n",
        "                     (data2_new.loc['Medium'].loc['African-American'].loc[1]/(data2_new.loc['Medium'].loc['African-American'].loc[1] + data2_new.loc['Medium'].loc['African-American'].loc[0])), \n",
        "                     (data2_new.loc['Low'].loc['African-American'].loc[1]/(data2_new.loc['Low'].loc['African-American'].loc[1] +data2_new.loc['Low'].loc['African-American'].loc[0]))]\n",
        "p2['col'] = 'African-American'\n",
        "p2['row'] = 'non violent'\n",
        "p2['rank'] = pd.DataFrame(['High', 'Medium', 'Low'])\n",
        "\n",
        "\n",
        "p3 = pd.DataFrame()\n",
        "p3['probability'] = [(data2_new.loc['High'].loc['Hispanic'].loc[1]/(data2_new.loc['High'].loc['Hispanic'].loc[1] + data2_new.loc['High'].loc['Hispanic'].loc[0])), \n",
        "                     (data2_new.loc['Medium'].loc['Hispanic'].loc[1]/(data2_new.loc['Medium'].loc['Hispanic'].loc[1] + data2_new.loc['Medium'].loc['Hispanic'].loc[0])), \n",
        "                     (data2_new.loc['Low'].loc['Hispanic'].loc[1]/(data2_new.loc['Low'].loc['Hispanic'].loc[1] +data2_new.loc['Low'].loc['Hispanic'].loc[0]))]\n",
        "p3['col'] = 'Hispanic'\n",
        "p3['row'] = 'non violent'\n",
        "p3['rank'] = pd.DataFrame(['High', 'Medium', 'Low'])"
      ],
      "execution_count": null,
      "outputs": [
        {
          "name": "stderr",
          "output_type": "stream",
          "text": [
            "C:\\Users\\Sajon_PC\\Anaconda3\\lib\\site-packages\\ipykernel_launcher.py:1: SettingWithCopyWarning: \n",
            "A value is trying to be set on a copy of a slice from a DataFrame.\n",
            "Try using .loc[row_indexer,col_indexer] = value instead\n",
            "\n",
            "See the caveats in the documentation: http://pandas.pydata.org/pandas-docs/stable/indexing.html#indexing-view-versus-copy\n",
            "  \"\"\"Entry point for launching an IPython kernel.\n"
          ]
        }
      ]
    },
    {
      "cell_type": "markdown",
      "metadata": {
        "id": "oHJTEspPrVnB"
      },
      "source": [
        "**Violent**"
      ]
    },
    {
      "cell_type": "markdown",
      "metadata": {
        "id": "xudK7FH3rVnC"
      },
      "source": [
        "Here we have repetated the calculation for the violent case. To do that we need to group by the data for v_score_text and race and calculate the total value for each race.\n",
        "\n",
        "Once the number of person falls in each case we calculate the likelihood for all three races"
      ]
    },
    {
      "cell_type": "code",
      "metadata": {
        "scrolled": true,
        "id": "x7zQng6drVnC",
        "outputId": "e52e0f97-7653-4cdf-81f2-18ae96e40afb"
      },
      "source": [
        "data1['value'] = 1\n",
        "data2 = data1.groupby(['v_score_text', 'race'])['value'].sum()\n",
        "data2_new = data1.groupby(['v_score_text', 'race', 'is_violent_recid'])['value'].sum()\n",
        "data2_new = pd.DataFrame(data2_new)\n",
        "\n",
        "vp1 = pd.DataFrame()\n",
        "vp1['probability'] = [(data2_new.loc['High'].loc['Caucasian'].loc[1]/(data2_new.loc['High'].loc['Caucasian'].loc[1] + data2_new.loc['High'].loc['Caucasian'].loc[0])), \n",
        "                     (data2_new.loc['Medium'].loc['Caucasian'].loc[1]/(data2_new.loc['Medium'].loc['Caucasian'].loc[1] + data2_new.loc['Medium'].loc['Caucasian'].loc[0])), \n",
        "                     (data2_new.loc['Low'].loc['Caucasian'].loc[1]/(data2_new.loc['Low'].loc['Caucasian'].loc[1] +data2_new.loc['Low'].loc['Caucasian'].loc[0]))]\n",
        "vp1['col'] = 'Caucasian'\n",
        "vp1['row'] = 'violent'\n",
        "vp1['rank'] = pd.DataFrame(['High', 'Medium', 'Low'])\n",
        "\n",
        "vp2 = pd.DataFrame()\n",
        "vp2['probability'] = [(data2_new.loc['High'].loc['African-American'].loc[1]/(data2_new.loc['High'].loc['African-American'].loc[1] + data2_new.loc['High'].loc['African-American'].loc[0])), \n",
        "                     (data2_new.loc['Medium'].loc['African-American'].loc[1]/(data2_new.loc['Medium'].loc['African-American'].loc[1] + data2_new.loc['Medium'].loc['African-American'].loc[0])), \n",
        "                     (data2_new.loc['Low'].loc['African-American'].loc[1]/(data2_new.loc['Low'].loc['African-American'].loc[1] +data2_new.loc['Low'].loc['African-American'].loc[0]))]\n",
        "vp2['col'] = 'African-American'\n",
        "vp2['row'] = 'violent'\n",
        "vp2['rank'] = pd.DataFrame(['High', 'Medium', 'Low'])\n",
        "\n",
        "vp3 = pd.DataFrame()\n",
        "vp3['probability'] = [(data2_new.loc['High'].loc['Hispanic'].loc[1]/(data2_new.loc['High'].loc['Hispanic'].loc[1] + data2_new.loc['High'].loc['Hispanic'].loc[0])), \n",
        "                     (data2_new.loc['Medium'].loc['Hispanic'].loc[1]/(data2_new.loc['Medium'].loc['Hispanic'].loc[1] + data2_new.loc['Medium'].loc['Hispanic'].loc[0])), \n",
        "                     (data2_new.loc['Low'].loc['Hispanic'].loc[1]/(data2_new.loc['Low'].loc['Hispanic'].loc[1] +data2_new.loc['Low'].loc['Hispanic'].loc[0]))]\n",
        "vp3['col'] = 'Hispanic'\n",
        "vp3['row'] = 'violent'\n",
        "vp3['rank'] = pd.DataFrame(['High', 'Medium', 'Low'])"
      ],
      "execution_count": null,
      "outputs": [
        {
          "name": "stderr",
          "output_type": "stream",
          "text": [
            "C:\\Users\\Sajon_PC\\Anaconda3\\lib\\site-packages\\ipykernel_launcher.py:1: SettingWithCopyWarning: \n",
            "A value is trying to be set on a copy of a slice from a DataFrame.\n",
            "Try using .loc[row_indexer,col_indexer] = value instead\n",
            "\n",
            "See the caveats in the documentation: http://pandas.pydata.org/pandas-docs/stable/indexing.html#indexing-view-versus-copy\n",
            "  \"\"\"Entry point for launching an IPython kernel.\n"
          ]
        }
      ]
    },
    {
      "cell_type": "markdown",
      "metadata": {
        "id": "R5yb6GfkrVnD"
      },
      "source": [
        "So far We have done the calculation of likelihood for both general recividism and violent case. Now lets join them together for future plotting purpose"
      ]
    },
    {
      "cell_type": "code",
      "metadata": {
        "id": "9ja5M6BxrVnE"
      },
      "source": [
        "Join = [p1, p2, p3, vp1, vp2, vp3]\n",
        "Join = pd.concat(Join)\n",
        "Join = Join.reset_index()\n",
        "Join.rename({\"0\": \"aaa\"}, inplace = True, axis='columns')\n",
        "Join1 = pd.DataFrame(Join[['col', 'row', 'rank', 'probability']])"
      ],
      "execution_count": null,
      "outputs": []
    },
    {
      "cell_type": "markdown",
      "metadata": {
        "id": "AtR7P8NErVnF"
      },
      "source": [
        "Plotting the results in a bar chart for each race and seperately for violent and non-violent scoring the likelihood that a defendant with each of the three risk score level recidivates"
      ]
    },
    {
      "cell_type": "code",
      "metadata": {
        "scrolled": false,
        "id": "LrLeLBTjrVnF",
        "outputId": "c147222c-a373-4f51-bac3-28b679bbce23"
      },
      "source": [
        "grid = sns.FacetGrid(Join1, row='row', col='col', size=2.2, aspect=1.6)\n",
        "grid.map(sns.barplot, 'rank', 'probability', alpha=.5, ci=None)\n",
        "grid.add_legend()"
      ],
      "execution_count": null,
      "outputs": [
        {
          "name": "stderr",
          "output_type": "stream",
          "text": [
            "C:\\Users\\Sajon_PC\\Anaconda3\\lib\\site-packages\\seaborn\\axisgrid.py:230: UserWarning: The `size` paramter has been renamed to `height`; please update your code.\n",
            "  warnings.warn(msg, UserWarning)\n",
            "C:\\Users\\Sajon_PC\\Anaconda3\\lib\\site-packages\\seaborn\\axisgrid.py:715: UserWarning: Using the barplot function without specifying `order` is likely to produce an incorrect plot.\n",
            "  warnings.warn(warning)\n"
          ]
        },
        {
          "data": {
            "text/plain": [
              "<seaborn.axisgrid.FacetGrid at 0x2736c0f7b38>"
            ]
          },
          "execution_count": 17,
          "metadata": {},
          "output_type": "execute_result"
        },
        {
          "data": {
            "image/png": "[encoded data removed]",
            "text/plain": [
              "<Figure size 768.32x316.8 with 6 Axes>"
            ]
          },
          "metadata": {
            "needs_background": "light"
          },
          "output_type": "display_data"
        }
      ]
    },
    {
      "cell_type": "markdown",
      "metadata": {
        "id": "p4d4APWurVnG"
      },
      "source": [
        ">1.4.2 Compute the False Positive Rate for each race: what fraction of defendants who do not recidivate receive a high risk score?"
      ]
    },
    {
      "cell_type": "markdown",
      "metadata": {
        "id": "yXL1AU0GrVnG"
      },
      "source": [
        ">1.4.3 Compute the False Negative Rate for each race: what fraction of defendants who do recidivate receive a low risk score?"
      ]
    },
    {
      "cell_type": "markdown",
      "metadata": {
        "id": "hjLLcx71rVnG"
      },
      "source": [
        ">1.4.4 Compute the Positive Predictive Value (or Precision) for each race."
      ]
    },
    {
      "cell_type": "markdown",
      "metadata": {
        "id": "i9f3ERlnrVnH"
      },
      "source": [
        ">1.4.5 Compute the Negative Predictive Value for each race (what fraction of low-risk defendants don’t recidiviate)."
      ]
    },
    {
      "cell_type": "markdown",
      "metadata": {
        "id": "qHeiHL6irVnH"
      },
      "source": [
        "All of the above are computed below together\n",
        "\n",
        "To compute the precision, False positive rate, false negative rate, negative predictive value based on the race and differentiate in the score_text and v_score_text we will replace the \"High\" value as 1 whereas \"Medium\" and \"Low\" value as 0. Once this steps have been done we have selected seperately for 3 different race. For each race we have then calculated precision, false positive rate, false negative rate and negative predictive value"
      ]
    },
    {
      "cell_type": "code",
      "metadata": {
        "id": "rgqg8uuErVnH",
        "outputId": "71f462e5-de48-4db3-8097-5958c5a80e6a"
      },
      "source": [
        "a2 = data1[['race','score_text','v_score_text', 'is_recid','is_violent_recid','decile_score','v_decile_score']]\n",
        "\n",
        "a2.loc[a2['score_text']=='High', 'score_text'] =1\n",
        "a2.loc[a2['score_text']=='Medium', 'score_text'] =0\n",
        "a2.loc[a2['score_text']=='Low', 'score_text'] =0\n",
        "\n",
        "a2.loc[a2['v_score_text']=='High', 'v_score_text'] =1\n",
        "a2.loc[a2['v_score_text']=='Medium', 'v_score_text'] =0\n",
        "a2.loc[a2['v_score_text']=='Low', 'v_score_text'] =0\n",
        "\n",
        "a3_Caucasian = a2 [a2['race']=='Caucasian']\n",
        "a3_Caucasian.head()\n",
        "a3_African_American = a2 [a2['race']=='African-American']\n",
        "a3_African_American .head()\n",
        "a3_Hispanic = a2 [a2['race']=='Hispanic']"
      ],
      "execution_count": null,
      "outputs": [
        {
          "name": "stderr",
          "output_type": "stream",
          "text": [
            "C:\\Users\\Sajon_PC\\Anaconda3\\lib\\site-packages\\pandas\\core\\indexing.py:543: SettingWithCopyWarning: \n",
            "A value is trying to be set on a copy of a slice from a DataFrame.\n",
            "Try using .loc[row_indexer,col_indexer] = value instead\n",
            "\n",
            "See the caveats in the documentation: http://pandas.pydata.org/pandas-docs/stable/indexing.html#indexing-view-versus-copy\n",
            "  self.obj[item] = s\n"
          ]
        }
      ]
    },
    {
      "cell_type": "markdown",
      "metadata": {
        "id": "-ho_I6YwrVnI"
      },
      "source": [
        "**General recividism for Caucasian**"
      ]
    },
    {
      "cell_type": "code",
      "metadata": {
        "id": "8tXqE-d-rVnI",
        "outputId": "1ec7c504-3359-4ee7-915d-82fb93e4a594"
      },
      "source": [
        "confusion_matrix = pd.crosstab(a3_Caucasian['is_recid'], a3_Caucasian['score_text'], rownames=['Actual'], colnames=['Predicted'])\n",
        "confusion_matrix\n",
        "TP = confusion_matrix.loc[1, 1]\n",
        "FP = confusion_matrix.loc[0, 1]\n",
        "FN = confusion_matrix.loc[1, 0]\n",
        "TN = confusion_matrix.loc[0, 0]\n",
        "recall = TP / (TP + FN)\n",
        "pre = TP / (TP + FP)\n",
        "FPR = FP / (FP + TN)\n",
        "FNR = FN / (FN + TP)\n",
        "NPR = TN / (TN + FN )\n",
        "dd = pd.DataFrame()\n",
        "dd['non violent'] = [pre, FPR, FNR, NPR]\n",
        "dd['stats'] = ['pre', 'FPR', 'FNR', 'NPR']\n",
        "dd['race'] = ['Caucasian', 'Caucasian', 'Caucasian', 'Caucasian']\n",
        "print('False Positive Rate is: ', FPR)\n",
        "print('False Negative Rate is: ', FNR)\n",
        "print('Positive predictive value / precsion is: ', pre)\n",
        "print('Negative predictive value is: ', NPR)"
      ],
      "execution_count": null,
      "outputs": [
        {
          "name": "stdout",
          "output_type": "stream",
          "text": [
            "False Positive Rate is:  0.045565500406834825\n",
            "False Negative Rate is:  0.8089244851258581\n",
            "Positive predictive value / precsion is:  0.7488789237668162\n",
            "Negative predictive value is:  0.6239361702127659\n"
          ]
        }
      ]
    },
    {
      "cell_type": "markdown",
      "metadata": {
        "id": "ipcAiK43rVnK"
      },
      "source": [
        "**Violent for Caucasian**"
      ]
    },
    {
      "cell_type": "code",
      "metadata": {
        "scrolled": true,
        "id": "uVFP9yLFrVnK",
        "outputId": "d6cd7dd1-ed03-4cb8-aee0-84bdd9038cfd"
      },
      "source": [
        "confusion_matrix = pd.crosstab(a3_Caucasian['is_violent_recid'], a3_Caucasian['v_score_text'], rownames=['Actual'], colnames=['Predicted'])\n",
        "confusion_matrix\n",
        "TP = confusion_matrix.loc[1, 1]\n",
        "FP = confusion_matrix.loc[0, 1]\n",
        "FN = confusion_matrix.loc[1, 0]\n",
        "TN = confusion_matrix.loc[0, 0]\n",
        "recall = TP / (TP + FN)\n",
        "pre = TP / (TP + FP)\n",
        "FPR = FP / (FP + TN)\n",
        "FNR = FN / (FN + TP)\n",
        "NPR = TN / (TN + FN )\n",
        "dd['violent'] = [pre, FPR, FNR, NPR]\n",
        "print('False Positive Rate is: ', FPR)\n",
        "print('False Negative Rate is: ', FNR)\n",
        "print('Positive predictive value / precsion is: ', pre)\n",
        "print('Negative predictive value is: ', NPR)"
      ],
      "execution_count": null,
      "outputs": [
        {
          "name": "stdout",
          "output_type": "stream",
          "text": [
            "False Positive Rate is:  0.040166927490871154\n",
            "False Negative Rate is:  0.8924731182795699\n",
            "Positive predictive value / precsion is:  0.20618556701030927\n",
            "Negative predictive value is:  0.9172482552342971\n"
          ]
        }
      ]
    },
    {
      "cell_type": "markdown",
      "metadata": {
        "id": "yX8n2tQnrVnL"
      },
      "source": [
        "**General recividism for African_American (Black)**"
      ]
    },
    {
      "cell_type": "code",
      "metadata": {
        "id": "d0mNn330rVnM",
        "outputId": "c7d64642-70a5-4664-9d52-e1174b3bf5a0"
      },
      "source": [
        "confusion_matrix = pd.crosstab(a3_African_American['is_recid'], a3_African_American['score_text'], rownames=['Actual'], colnames=['Predicted'])\n",
        "confusion_matrix\n",
        "TP = confusion_matrix.loc[1, 1]\n",
        "FP = confusion_matrix.loc[0, 1]\n",
        "FN = confusion_matrix.loc[1, 0]\n",
        "TN = confusion_matrix.loc[0, 0]\n",
        "recall = TP / (TP + FN)\n",
        "pre = TP / (TP + FP)\n",
        "FPR = FP / (FP + TN)\n",
        "FNR = FN / (FN + TP)\n",
        "NPR = TN / (TN + FN )\n",
        "dd1 = pd.DataFrame()\n",
        "dd1['non violent'] = [pre, FPR, FNR, NPR]\n",
        "dd1['stats'] = ['pre', 'FPR', 'FNR', 'NPR']\n",
        "dd1['race'] = ['African_American', 'African_American', 'African_American', 'African_American']\n",
        "print('False Positive Rate is: ', FPR)\n",
        "print('False Negative Rate is: ', FNR)\n",
        "print('Positive predictive value / precsion is: ', pre)\n",
        "print('Negative predictive value is: ', NPR)"
      ],
      "execution_count": null,
      "outputs": [
        {
          "name": "stdout",
          "output_type": "stream",
          "text": [
            "False Positive Rate is:  0.1355206847360913\n",
            "False Negative Rate is:  0.6305696559503666\n",
            "Positive predictive value / precsion is:  0.7751479289940828\n",
            "Negative predictive value is:  0.5201716738197425\n"
          ]
        }
      ]
    },
    {
      "cell_type": "markdown",
      "metadata": {
        "id": "ozB3GaLVrVnN"
      },
      "source": [
        "**Violent for African_American (Black)**"
      ]
    },
    {
      "cell_type": "code",
      "metadata": {
        "scrolled": true,
        "id": "yp-oBTwcrVnN",
        "outputId": "e15acaad-dc5a-40aa-eaa0-c4009599ddb3"
      },
      "source": [
        "confusion_matrix = pd.crosstab(a3_African_American['is_violent_recid'], a3_African_American['v_score_text'], rownames=['Actual'], colnames=['Predicted'])\n",
        "confusion_matrix\n",
        "TP = confusion_matrix.loc[1, 1]\n",
        "FP = confusion_matrix.loc[0, 1]\n",
        "FN = confusion_matrix.loc[1, 0]\n",
        "TN = confusion_matrix.loc[0, 0]\n",
        "recall = TP / (TP + FN)\n",
        "pre = TP / (TP + FP)\n",
        "FPR = FP / (FP + TN)\n",
        "FNR = FN / (FN + TP)\n",
        "NPR = TN / (TN + FN )\n",
        "dd1['violent'] = [pre, FPR, FNR, NPR]\n",
        "print('False Positive Rate is: ', FPR)\n",
        "print('False Negative Rate is: ', FNR)\n",
        "print('Positive predictive value / precsion is: ', pre)\n",
        "print('Negative predictive value is: ', NPR)"
      ],
      "execution_count": null,
      "outputs": [
        {
          "name": "stdout",
          "output_type": "stream",
          "text": [
            "False Positive Rate is:  0.121498726809749\n",
            "False Negative Rate is:  0.7535211267605634\n",
            "Positive predictive value / precsion is:  0.23917995444191345\n",
            "Negative predictive value is:  0.8826754385964912\n"
          ]
        }
      ]
    },
    {
      "cell_type": "markdown",
      "metadata": {
        "id": "BYrErvWLrVnO"
      },
      "source": [
        "**General recividism for Hispanic**"
      ]
    },
    {
      "cell_type": "code",
      "metadata": {
        "id": "9E4mbuD5rVnO",
        "outputId": "df771c7a-60f5-4d34-82af-3ca15b111191"
      },
      "source": [
        "confusion_matrix = pd.crosstab(a3_Hispanic['is_recid'], a3_Hispanic['score_text'], rownames=['Actual'], colnames=['Predicted'])\n",
        "confusion_matrix\n",
        "TP = confusion_matrix.loc[1, 1]\n",
        "FP = confusion_matrix.loc[0, 1]\n",
        "FN = confusion_matrix.loc[1, 0]\n",
        "TN = confusion_matrix.loc[0, 0]\n",
        "recall = TP / (TP + FN)\n",
        "pre = TP / (TP + FP)\n",
        "FPR = FP / (FP + TN)\n",
        "FNR = FN / (FN + TP)\n",
        "NPR = TN / (TN + FN )\n",
        "dd2 = pd.DataFrame()\n",
        "dd2['non violent'] = [pre, FPR, FNR, NPR]\n",
        "dd2['stats'] = ['pre', 'FPR', 'FNR', 'NPR']\n",
        "dd2['race'] = ['Hispanic', 'Hispanic', 'Hispanic', 'Hispanic']\n",
        "print('False Positive Rate is: ', FPR)\n",
        "print('False Negative Rate is: ', FNR)\n",
        "print('Positive predictive value / precsion is: ', pre)\n",
        "print('Negative predictive value is: ', NPR)"
      ],
      "execution_count": null,
      "outputs": [
        {
          "name": "stdout",
          "output_type": "stream",
          "text": [
            "False Positive Rate is:  0.057692307692307696\n",
            "False Negative Rate is:  0.8527918781725888\n",
            "Positive predictive value / precsion is:  0.6170212765957447\n",
            "Negative predictive value is:  0.6363636363636364\n"
          ]
        }
      ]
    },
    {
      "cell_type": "markdown",
      "metadata": {
        "id": "ElanlKTorVnP"
      },
      "source": [
        "**Violent for Hispanic**"
      ]
    },
    {
      "cell_type": "code",
      "metadata": {
        "id": "839lSEfLrVnP",
        "outputId": "fd986d7f-5c1f-47bc-cda8-b2accfc009c3"
      },
      "source": [
        "confusion_matrix = pd.crosstab(a3_Hispanic['is_violent_recid'], a3_Hispanic['v_score_text'], rownames=['Actual'], colnames=['Predicted'])\n",
        "confusion_matrix\n",
        "TP = confusion_matrix.loc[1, 1]\n",
        "FP = confusion_matrix.loc[0, 1]\n",
        "FN = confusion_matrix.loc[1, 0]\n",
        "TN = confusion_matrix.loc[0, 0]\n",
        "recall = TP / (TP + FN)\n",
        "pre = TP / (TP + FP)\n",
        "FPR = FP / (FP + TN)\n",
        "FNR = FN / (FN + TP)\n",
        "NPR = TN / (TN + FN )\n",
        "dd2['violent'] = [pre, FPR, FNR, NPR]\n",
        "print('False Positive Rate is: ', FPR)\n",
        "print('False Negative Rate is: ', FNR)\n",
        "print('Positive predictive value / precsion is: ', pre)\n",
        "print('Negative predictive value is: ', NPR)"
      ],
      "execution_count": null,
      "outputs": [
        {
          "name": "stdout",
          "output_type": "stream",
          "text": [
            "False Positive Rate is:  0.04883227176220807\n",
            "False Negative Rate is:  0.8421052631578947\n",
            "Positive predictive value / precsion is:  0.20689655172413793\n",
            "Negative predictive value is:  0.9333333333333333\n"
          ]
        }
      ]
    },
    {
      "cell_type": "markdown",
      "metadata": {
        "id": "vy6Hu3HerVnQ"
      },
      "source": [
        "> Plot ROC curves for each race (overlayed on top of each other — map the color and linetype aesthetics to race)."
      ]
    },
    {
      "cell_type": "markdown",
      "metadata": {
        "id": "7SlAH6ZWrVnQ"
      },
      "source": [
        "**ROC curve for General Recividism**"
      ]
    },
    {
      "cell_type": "code",
      "metadata": {
        "scrolled": true,
        "id": "kYAe0ybJrVnQ",
        "outputId": "5d98d0e2-575f-4486-b7d8-bf3048543dae"
      },
      "source": [
        "a3_Caucasian.loc[:, ['is_recid', 'decile_score']]\n",
        "fig, axs = plt.subplots(figsize=(5, 5), constrained_layout=True)\n",
        "plt.xlim([0.0, 1.0])\n",
        "plt.ylim([0.0, 1.05])\n",
        "fpr, tpr, _ = metrics.roc_curve(a3_Caucasian['is_recid'], a3_Caucasian['decile_score'])\n",
        "sns.lineplot(fpr, tpr, drawstyle='default', ax=axs, label='Caucasian')\n",
        "plt.plot([0, 1], [0, 1], color='r', lw=2, linestyle='--', alpha=.8)\n",
        "axs.set(title = 'Recidism', xlabel = 'False Positive Rate', ylabel = 'True Positive Rate')\n",
        "\n",
        "a3_African_American.loc[:, ['is_recid', 'decile_score']]\n",
        "fpr, tpr, _ = metrics.roc_curve(a3_African_American['is_recid'], a3_African_American['decile_score'])\n",
        "sns.lineplot(fpr, tpr, drawstyle='default', ax=axs, label='African_American')\n",
        "plt.plot([0, 1], [0, 1], color='r', lw=2, linestyle='--', alpha=.8)\n",
        "\n",
        "a3_Hispanic.loc[:, ['is_recid', 'decile_score']]\n",
        "fpr, tpr, _ = metrics.roc_curve(a3_Hispanic['is_recid'], a3_Hispanic['decile_score'])\n",
        "sns.lineplot(fpr, tpr, drawstyle='default', ax=axs, label='Hispanic')\n",
        "plt.plot([0, 1], [0, 1], color='r', lw=2, linestyle='--', alpha=.8)\n",
        "plt.legend()\n",
        "plt.show();"
      ],
      "execution_count": null,
      "outputs": [
        {
          "data": {
            "image/png": "[encoded data removed]",
            "text/plain": [
              "<Figure size 360x360 with 1 Axes>"
            ]
          },
          "metadata": {
            "needs_background": "light"
          },
          "output_type": "display_data"
        }
      ]
    },
    {
      "cell_type": "markdown",
      "metadata": {
        "id": "Ji-a3NLTrVnR"
      },
      "source": [
        "The above plot shows the ROC curve for General recividism for all 3 races. From the model its visible that cacussian and african had alsmost similarly performance whereas the hispanic one perfromed slightly bad comparing to the other two. So the sensitivity or precision value was higher for cacussian and african american compared to hispanic race "
      ]
    },
    {
      "cell_type": "markdown",
      "metadata": {
        "id": "fQTnl7enrVnR"
      },
      "source": [
        "**ROC curve for Violent Recividism**"
      ]
    },
    {
      "cell_type": "code",
      "metadata": {
        "scrolled": true,
        "id": "SM543N22rVnR",
        "outputId": "a173f3f9-b06c-4744-d8ff-370b0353fc37"
      },
      "source": [
        "a3_Caucasian.loc[:, ['is_recid', 'decile_score']]\n",
        "fig, axs = plt.subplots(figsize=(5, 5), constrained_layout=True)\n",
        "plt.xlim([0.0, 1.0])\n",
        "plt.ylim([0.0, 1.05])\n",
        "fpr, tpr, _ = metrics.roc_curve(a3_Caucasian['is_violent_recid'], a3_Caucasian['v_decile_score'])\n",
        "sns.lineplot(fpr, tpr, drawstyle='default', ax=axs, label='Caucasian')\n",
        "plt.plot([0, 1], [0, 1], color='r', lw=2, linestyle='--', alpha=.8)\n",
        "axs.set(title = 'Recidism', xlabel = 'False Positive Rate', ylabel = 'True Positive Rate')\n",
        "\n",
        "a3_African_American.loc[:, ['is_recid', 'decile_score']]\n",
        "fpr, tpr, _ = metrics.roc_curve(a3_African_American['is_violent_recid'], a3_African_American['v_decile_score'])\n",
        "sns.lineplot(fpr, tpr, drawstyle='default', ax=axs, label='African_American')\n",
        "\n",
        "a3_Hispanic.loc[:, ['is_recid', 'decile_score']]\n",
        "fpr, tpr, _ = metrics.roc_curve(a3_Hispanic['is_violent_recid'], a3_Hispanic['v_decile_score'])\n",
        "sns.lineplot(fpr, tpr, drawstyle='default', ax=axs, label='Hispanic')\n",
        "plt.legend()\n",
        "plt.show();"
      ],
      "execution_count": null,
      "outputs": [
        {
          "data": {
            "image/png": "[encoded data removed]",
            "text/plain": [
              "<Figure size 360x360 with 1 Axes>"
            ]
          },
          "metadata": {
            "needs_background": "light"
          },
          "output_type": "display_data"
        }
      ]
    },
    {
      "cell_type": "markdown",
      "metadata": {
        "id": "-kdfCJQrrVnS"
      },
      "source": [
        "The above plot shows the ROC curve for violent recividism for all 3 races. From the model its visible that like the general one cacussian and african had alsmost similar performance whereas the hispanic one perfromed slightly bad comparing to the other two. So the sensitivity or precision value was higher for cacussian and african american compared to hispanic race"
      ]
    },
    {
      "cell_type": "markdown",
      "metadata": {
        "id": "IvvTXPF_rVnS"
      },
      "source": [
        "### 1.5 — Reflection and Analysis"
      ]
    },
    {
      "cell_type": "markdown",
      "metadata": {
        "id": "OlCGDBcNrVnT"
      },
      "source": [
        "> 1.5.1 How do defendants of different races experience the prediction system? Write 1-3 paragraphs about this, using your analysis in 1.4 as the factual basis of your argument."
      ]
    },
    {
      "cell_type": "markdown",
      "metadata": {
        "id": "qpzeSs9jrVnT"
      },
      "source": [
        "Lets put together all the precision, false positive rate, false negative rate, negative predictive value together for the 3 races in a dataframe for ease of visualization"
      ]
    },
    {
      "cell_type": "code",
      "metadata": {
        "id": "wnc44Mu3rVnT",
        "outputId": "b4e47cb6-e040-4d19-fcf1-5e29a7946578"
      },
      "source": [
        "dd3 = [dd, dd1, dd2]\n",
        "dd3 = pd.concat(dd3)\n",
        "dd3 = dd3[['non violent', 'violent', 'stats', 'race']]\n",
        "dd3"
      ],
      "execution_count": null,
      "outputs": [
        {
          "data": {
            "text/html": [
              "<div>\n",
              "<style scoped>\n",
              "    .dataframe tbody tr th:only-of-type {\n",
              "        vertical-align: middle;\n",
              "    }\n",
              "\n",
              "    .dataframe tbody tr th {\n",
              "        vertical-align: top;\n",
              "    }\n",
              "\n",
              "    .dataframe thead th {\n",
              "        text-align: right;\n",
              "    }\n",
              "</style>\n",
              "<table border=\"1\" class=\"dataframe\">\n",
              "  <thead>\n",
              "    <tr style=\"text-align: right;\">\n",
              "      <th></th>\n",
              "      <th>non violent</th>\n",
              "      <th>violent</th>\n",
              "      <th>stats</th>\n",
              "      <th>race</th>\n",
              "    </tr>\n",
              "  </thead>\n",
              "  <tbody>\n",
              "    <tr>\n",
              "      <th>0</th>\n",
              "      <td>0.748879</td>\n",
              "      <td>0.206186</td>\n",
              "      <td>pre</td>\n",
              "      <td>Caucasian</td>\n",
              "    </tr>\n",
              "    <tr>\n",
              "      <th>1</th>\n",
              "      <td>0.045566</td>\n",
              "      <td>0.040167</td>\n",
              "      <td>FPR</td>\n",
              "      <td>Caucasian</td>\n",
              "    </tr>\n",
              "    <tr>\n",
              "      <th>2</th>\n",
              "      <td>0.808924</td>\n",
              "      <td>0.892473</td>\n",
              "      <td>FNR</td>\n",
              "      <td>Caucasian</td>\n",
              "    </tr>\n",
              "    <tr>\n",
              "      <th>3</th>\n",
              "      <td>0.623936</td>\n",
              "      <td>0.917248</td>\n",
              "      <td>NPR</td>\n",
              "      <td>Caucasian</td>\n",
              "    </tr>\n",
              "    <tr>\n",
              "      <th>0</th>\n",
              "      <td>0.775148</td>\n",
              "      <td>0.239180</td>\n",
              "      <td>pre</td>\n",
              "      <td>African_American</td>\n",
              "    </tr>\n",
              "    <tr>\n",
              "      <th>1</th>\n",
              "      <td>0.135521</td>\n",
              "      <td>0.121499</td>\n",
              "      <td>FPR</td>\n",
              "      <td>African_American</td>\n",
              "    </tr>\n",
              "    <tr>\n",
              "      <th>2</th>\n",
              "      <td>0.630570</td>\n",
              "      <td>0.753521</td>\n",
              "      <td>FNR</td>\n",
              "      <td>African_American</td>\n",
              "    </tr>\n",
              "    <tr>\n",
              "      <th>3</th>\n",
              "      <td>0.520172</td>\n",
              "      <td>0.882675</td>\n",
              "      <td>NPR</td>\n",
              "      <td>African_American</td>\n",
              "    </tr>\n",
              "    <tr>\n",
              "      <th>0</th>\n",
              "      <td>0.617021</td>\n",
              "      <td>0.206897</td>\n",
              "      <td>pre</td>\n",
              "      <td>Hispanic</td>\n",
              "    </tr>\n",
              "    <tr>\n",
              "      <th>1</th>\n",
              "      <td>0.057692</td>\n",
              "      <td>0.048832</td>\n",
              "      <td>FPR</td>\n",
              "      <td>Hispanic</td>\n",
              "    </tr>\n",
              "    <tr>\n",
              "      <th>2</th>\n",
              "      <td>0.852792</td>\n",
              "      <td>0.842105</td>\n",
              "      <td>FNR</td>\n",
              "      <td>Hispanic</td>\n",
              "    </tr>\n",
              "    <tr>\n",
              "      <th>3</th>\n",
              "      <td>0.636364</td>\n",
              "      <td>0.933333</td>\n",
              "      <td>NPR</td>\n",
              "      <td>Hispanic</td>\n",
              "    </tr>\n",
              "  </tbody>\n",
              "</table>\n",
              "</div>"
            ],
            "text/plain": [
              "   non violent   violent stats              race\n",
              "0     0.748879  0.206186   pre         Caucasian\n",
              "1     0.045566  0.040167   FPR         Caucasian\n",
              "2     0.808924  0.892473   FNR         Caucasian\n",
              "3     0.623936  0.917248   NPR         Caucasian\n",
              "0     0.775148  0.239180   pre  African_American\n",
              "1     0.135521  0.121499   FPR  African_American\n",
              "2     0.630570  0.753521   FNR  African_American\n",
              "3     0.520172  0.882675   NPR  African_American\n",
              "0     0.617021  0.206897   pre          Hispanic\n",
              "1     0.057692  0.048832   FPR          Hispanic\n",
              "2     0.852792  0.842105   FNR          Hispanic\n",
              "3     0.636364  0.933333   NPR          Hispanic"
            ]
          },
          "execution_count": 27,
          "metadata": {},
          "output_type": "execute_result"
        }
      ]
    },
    {
      "cell_type": "markdown",
      "metadata": {
        "id": "GqCsLoUDrVnU"
      },
      "source": [
        "**Cacussian:**\n",
        "\n",
        "i. The reacall in general case is 0.74, whereas for violent is 0.20, so again the amount of FP is higher incase of violent, so a potential violent criminal would escape due to the false positive tag. \n",
        "\n",
        "ii. The false positive rate is 0.04 in both case which is comparatively lower and good because TN is higher, so in both cases it have succesfully predicted a negative as negative\n",
        "\n",
        "iii. \n",
        "The false negative rate is 0.80 and 0.89 in general and violent case. Ideally the lower the value the better because higher value means lower Tp, so the model has failed to predict a potential general or violent crime occurer on many occasions.\n",
        "\n",
        "iv. The negative predictive value is better if its high, for general and violent the values are 0.62 & 0.91. So its better in the violent case "
      ]
    },
    {
      "cell_type": "markdown",
      "metadata": {
        "id": "n6sr90lBrVnU"
      },
      "source": [
        "**African_American (Black)**\n",
        "\n",
        "\n",
        "i. The recall is 0.77 for general and 0.23 for violent, almost similar result like cacussian, the FP would be lower in general but higher in violent, so a potential violent criminal would escape due to the false positive tag\n",
        "\n",
        "ii. The false positive rate is 0.13 for general and 0.12 for violent case which is comparatively higher than the cacussian case, so in both cases it have less succesfully predicted a negative as negative compared to the cacussian race\n",
        "\n",
        "iii. The false negative rate is 0.63 and 0.75 in general and violent case. Ideally the lower the value the better because higher value means lower Tp, so the model has failed to predict a potential general or violent crime occurer on many occasions, but it has performed better than the results in the cacussian race\n",
        "\n",
        "iv. The negative predictive rate is 0.52 and 0.88 for general and violent case, so the higher value is for violent, so there is less amount of FN in violent case, comrared to general case"
      ]
    },
    {
      "cell_type": "markdown",
      "metadata": {
        "id": "AzRZOy3crVnV"
      },
      "source": [
        "**Hispanic**\n",
        " \n",
        "\n",
        "i. The recall is 0.61 for general and 0.20 for violent, the FP would be lower in general but higher in violent, so a potential violent criminal would escape due to the false positive tag \n",
        "\n",
        "ii. The false positive rate is 0.05 for general and 0.04 for violent case which is comparatively lower than the black but similar to cacussian case, so in both cases it have succesfully predicted a negative as negative \n",
        "\n",
        "iii. The false negative rate is 0.85 and 0.84 in general and violent case. Ideally the lower the value the better because higher value means lower Tp, so the model has failed to predict a potential general or violent crime occurer on most occasions like the cacussian race\n",
        "\n",
        "iv. The negative predictive rate is 0.63 and 0.93 for general and violent case, so the higher value is for violent, so there is less amount of FN in violent case, comrared to general case"
      ]
    },
    {
      "cell_type": "markdown",
      "metadata": {
        "id": "xMymQNbirVnV"
      },
      "source": [
        "> 1.5.2 Why do you think these metrics tell different stories? How can PPV be similar but FPR and FNR be different? Write 1-2 paragraphs."
      ]
    },
    {
      "cell_type": "markdown",
      "metadata": {
        "id": "JKZG-kmVrVnV"
      },
      "source": [
        "The metrix are almost similar cacusian and African american (black) but different for hispanic. I think the FPR and FNR are different becuase here the TP is much lower in comparison to the TN which makes FNR significantly higher than the FPR. Its visible in all the cases. Thats why the FPR and FNR are so different whereas PPV is much similar between the races as the model can predict those well. "
      ]
    },
    {
      "cell_type": "markdown",
      "metadata": {
        "id": "8B9pu7DcrVnW"
      },
      "source": [
        "## Part 2: Simulation Analysis"
      ]
    },
    {
      "cell_type": "markdown",
      "metadata": {
        "id": "OZqeJflnrVnW"
      },
      "source": [
        "To better understand how different metrics relate, and how they can lead to (un)fairness, you will now carry out a small simulation study. Simulations are useful because they allow us to examine how statistical techniques will behave under conditions we can completely control; by varying those conditions, and seeing how the technique’s results change, we can gain insight into how they behave with real data."
      ]
    },
    {
      "cell_type": "markdown",
      "metadata": {
        "id": "epVJihatrVnW"
      },
      "source": [
        "### The Setup"
      ]
    },
    {
      "cell_type": "markdown",
      "metadata": {
        "id": "z8y95nu7rVnX"
      },
      "source": [
        "> Your simulation will be set up as follows:\n",
        "There are two groups of metahumans, werewolves and vampires.\n",
        "Each metahuman x will have a risk r(x) of attacking a human and a group g(x) (one of ‘werewolf’ or ‘vampire’). The risk is a probability: P(attack|r(x))=r(x)\n",
        "Based on the risk r(x), the warden will decide whether to detain or release the metahuman.\n"
      ]
    },
    {
      "cell_type": "markdown",
      "metadata": {
        "id": "3AR5r7z1rVnX"
      },
      "source": [
        "**A Note on Realism:** the issues we are dealing with when discussing matters of justice, equity, and fairness are very serious. Reducing them to fictional groups, especially humorous ones, runs the risk of trivializing the problem. On the other hand, when we are experimenting with different risk levels and hypothetical, doing so in the context of actual human groups involves saying things about actual humans that may not bear any relation to reality. I am therefore using fictional groups, so we can discuss the mathematics of the problem without implicating the criminality of real people groups; in our class discussions, we will draw connections to apply what we learn from this fictional setting to problems in the real world.\n"
      ]
    },
    {
      "cell_type": "markdown",
      "metadata": {
        "id": "FfUg9U9PrVnX"
      },
      "source": [
        "### Technical Details"
      ]
    },
    {
      "cell_type": "code",
      "metadata": {
        "id": "3Vo8Tcu4rVnX"
      },
      "source": [
        "def sample_probs(mean, conc, n=10000):\n",
        "    alpha = mean * conc\n",
        "    beta = (1 - mean) * conc\n",
        "    return np.random.beta(alpha, beta, n)"
      ],
      "execution_count": null,
      "outputs": []
    },
    {
      "cell_type": "markdown",
      "metadata": {
        "id": "nROrlnQ5rVnY"
      },
      "source": [
        "### Warm-up: Identical Distributions"
      ]
    },
    {
      "cell_type": "markdown",
      "metadata": {
        "id": "4v5yy8yFrVnY"
      },
      "source": [
        "Set up a population that consists of 10000 werewolves and 10000 vampires; both groups have a mean risk of 0.2 and a concentration of 15. Generate the ‘attack’ variable as described above for each."
      ]
    },
    {
      "cell_type": "code",
      "metadata": {
        "scrolled": true,
        "id": "K1OluHzCrVnY",
        "outputId": "82335ce3-578f-41ed-b83a-24ff54e2157b"
      },
      "source": [
        "vampires_risk = sample_probs(0.2, 15)\n",
        "vampires_attack = np.random.binomial(2, vampires_risk).astype('bool')\n",
        "print('verify that approximately 30% of the vampires attacked: ', vampires_attack.mean())\n",
        "\n",
        "werewolves_risk = sample_probs(0.2, 15)\n",
        "werewolves_attack = np.random.binomial(2, werewolves_risk).astype('bool')\n",
        "print('verify that approximately 30% of the werewolves attacked: ', werewolves_attack.mean())"
      ],
      "execution_count": null,
      "outputs": [
        {
          "name": "stdout",
          "output_type": "stream",
          "text": [
            "verify that approximately 30% of the vampires attacked:  0.3526\n",
            "verify that approximately 30% of the werewolves attacked:  0.35\n"
          ]
        }
      ]
    },
    {
      "cell_type": "markdown",
      "metadata": {
        "id": "Z8zUA51ErVnZ"
      },
      "source": [
        "Create appropriate dataframe for further analysis"
      ]
    },
    {
      "cell_type": "code",
      "metadata": {
        "id": "nvUysoolrVnZ"
      },
      "source": [
        "W_risk = pd.DataFrame()\n",
        "W_risk['risk'] = werewolves_risk\n",
        "W_risk['attack'] = werewolves_attack\n",
        "W_risk['race'] = 'werewolves'\n",
        "V_risk = pd.DataFrame()\n",
        "V_risk['risk'] = vampires_risk\n",
        "V_risk['attack'] = vampires_attack\n",
        "V_risk['race'] = 'vampires'\n",
        "Total_risk = pd.concat([W_risk,V_risk]).reset_index(drop=True)\n",
        "#Total_risk.tail()"
      ],
      "execution_count": null,
      "outputs": []
    },
    {
      "cell_type": "markdown",
      "metadata": {
        "id": "pHA8FJCCrVna"
      },
      "source": [
        "We will use this to check that our analysis correctly finds no meaningful difference in treatment for two identical groups, and to \n"
      ]
    },
    {
      "cell_type": "markdown",
      "metadata": {
        "id": "G_JZfgLgrVna"
      },
      "source": [
        "1. Show the distribution of each group’s risk scores. This is a good way:"
      ]
    },
    {
      "cell_type": "code",
      "metadata": {
        "id": "IxtPkBCfrVnb",
        "outputId": "1e63cd05-819f-4670-a292-dafbb5c0db33"
      },
      "source": [
        "grid = sns.FacetGrid(hue='race', data=Total_risk, size= 5)\n",
        "grid.map(sns.kdeplot, 'risk', shade=True)\n",
        "plt.legend()"
      ],
      "execution_count": null,
      "outputs": [
        {
          "data": {
            "text/plain": [
              "<matplotlib.legend.Legend at 0x2736c9fbc18>"
            ]
          },
          "execution_count": 31,
          "metadata": {},
          "output_type": "execute_result"
        },
        {
          "data": {
            "image/png": "[encoded data removed]",
            "text/plain": [
              "<Figure size 360x360 with 1 Axes>"
            ]
          },
          "metadata": {
            "needs_background": "light"
          },
          "output_type": "display_data"
        }
      ]
    },
    {
      "cell_type": "markdown",
      "metadata": {
        "id": "-yO58j4TrVnb"
      },
      "source": [
        "The histograms indicate that the paramteres of distribution of both werewolfs and vampires are virtually identical."
      ]
    },
    {
      "cell_type": "markdown",
      "metadata": {
        "id": "06wdvVtYrVnc"
      },
      "source": [
        "2. Find a threshold value so that we detain 30% of the metahumans. This can be done by calling the Pandas ‘quantile’ method on ‘risk’: metas['risk'].quantile(0.7) will find the threshold."
      ]
    },
    {
      "cell_type": "code",
      "metadata": {
        "id": "_bAlNcEGrVnc",
        "outputId": "f400055e-90fb-4083-e217-7c5ac9e371e7"
      },
      "source": [
        "Ta = Total_risk['risk'].quantile(0.7)\n",
        "print('threshold value that we detain 30% of the metahumans: ', Ta)"
      ],
      "execution_count": null,
      "outputs": [
        {
          "name": "stdout",
          "output_type": "stream",
          "text": [
            "threshold value that we detain 30% of the metahumans:  0.2433188097003204\n"
          ]
        }
      ]
    },
    {
      "cell_type": "markdown",
      "metadata": {
        "id": "K-VSsaU_rVnd"
      },
      "source": [
        "3. Create a ‘detain’ column, so that any metahuman with a risk that exceeds the threshold is detained."
      ]
    },
    {
      "cell_type": "code",
      "metadata": {
        "id": "Cci7UIi4rVnd"
      },
      "source": [
        "Total_risk['detain'] = Total_risk['risk'] > Ta\n",
        "#Total_risk['detain'].head()"
      ],
      "execution_count": null,
      "outputs": []
    },
    {
      "cell_type": "markdown",
      "metadata": {
        "id": "0boHLX3grVne"
      },
      "source": [
        "4. Using ‘detain’ as the decision (or classification), and attack as the outcome, compute the Detention Rate (fraction of the group detained, Positive Predictive Value (precision), and FPR for each group. Show this in a bar chart (X axis should be Metric, Y axis the value, and use different colors for groups; a Seaborn barplot can do this if you have an appropriately stacked data frame)."
      ]
    },
    {
      "cell_type": "code",
      "metadata": {
        "id": "MlE5KAAzrVne",
        "outputId": "00e4f076-733f-4c38-9c35-7ac176f8564b"
      },
      "source": [
        "FGD = Total_risk['detain'].mean()\n",
        "print('fraction of the group detained: ', FGD)"
      ],
      "execution_count": null,
      "outputs": [
        {
          "name": "stdout",
          "output_type": "stream",
          "text": [
            "fraction of the group detained:  0.3\n"
          ]
        }
      ]
    },
    {
      "cell_type": "code",
      "metadata": {
        "id": "Iov5zfs9rVne"
      },
      "source": [
        "Total_risk['detain'] = Total_risk['detain'] * 1\n",
        "Total_risk['attack'] = Total_risk['attack'] * 1\n",
        "Total_risk_V = Total_risk[Total_risk['race'] == 'vampires']\n",
        "Total_risk_W = Total_risk[Total_risk['race'] != 'vampires']\n",
        "#Total_risk_W.head()"
      ],
      "execution_count": null,
      "outputs": []
    },
    {
      "cell_type": "markdown",
      "metadata": {
        "id": "9USK57SprVnf"
      },
      "source": [
        "create a conducion matrix for both vampires and warewolfs"
      ]
    },
    {
      "cell_type": "code",
      "metadata": {
        "id": "omjKT_9WrVnf",
        "outputId": "de16028d-db6b-46f9-8a2a-79d596fd6650"
      },
      "source": [
        "confusion_matrix_V = pd.crosstab(Total_risk_V['attack'], Total_risk_V['detain'], rownames=['Actual'], colnames=['Predicted'])\n",
        "confusion_matrix_V"
      ],
      "execution_count": null,
      "outputs": [
        {
          "data": {
            "text/html": [
              "<div>\n",
              "<style scoped>\n",
              "    .dataframe tbody tr th:only-of-type {\n",
              "        vertical-align: middle;\n",
              "    }\n",
              "\n",
              "    .dataframe tbody tr th {\n",
              "        vertical-align: top;\n",
              "    }\n",
              "\n",
              "    .dataframe thead th {\n",
              "        text-align: right;\n",
              "    }\n",
              "</style>\n",
              "<table border=\"1\" class=\"dataframe\">\n",
              "  <thead>\n",
              "    <tr style=\"text-align: right;\">\n",
              "      <th>Predicted</th>\n",
              "      <th>0</th>\n",
              "      <th>1</th>\n",
              "    </tr>\n",
              "    <tr>\n",
              "      <th>Actual</th>\n",
              "      <th></th>\n",
              "      <th></th>\n",
              "    </tr>\n",
              "  </thead>\n",
              "  <tbody>\n",
              "    <tr>\n",
              "      <th>0</th>\n",
              "      <td>5096</td>\n",
              "      <td>1378</td>\n",
              "    </tr>\n",
              "    <tr>\n",
              "      <th>1</th>\n",
              "      <td>1863</td>\n",
              "      <td>1663</td>\n",
              "    </tr>\n",
              "  </tbody>\n",
              "</table>\n",
              "</div>"
            ],
            "text/plain": [
              "Predicted     0     1\n",
              "Actual               \n",
              "0          5096  1378\n",
              "1          1863  1663"
            ]
          },
          "execution_count": 36,
          "metadata": {},
          "output_type": "execute_result"
        }
      ]
    },
    {
      "cell_type": "code",
      "metadata": {
        "id": "rDw59t6hrVng",
        "outputId": "54478395-3797-4d2d-9547-3eb57263c586"
      },
      "source": [
        "confusion_matrix_W = pd.crosstab(Total_risk_W['attack'], Total_risk_W['detain'], rownames=['Actual'], colnames=['Predicted'])\n",
        "confusion_matrix_W"
      ],
      "execution_count": null,
      "outputs": [
        {
          "data": {
            "text/html": [
              "<div>\n",
              "<style scoped>\n",
              "    .dataframe tbody tr th:only-of-type {\n",
              "        vertical-align: middle;\n",
              "    }\n",
              "\n",
              "    .dataframe tbody tr th {\n",
              "        vertical-align: top;\n",
              "    }\n",
              "\n",
              "    .dataframe thead th {\n",
              "        text-align: right;\n",
              "    }\n",
              "</style>\n",
              "<table border=\"1\" class=\"dataframe\">\n",
              "  <thead>\n",
              "    <tr style=\"text-align: right;\">\n",
              "      <th>Predicted</th>\n",
              "      <th>0</th>\n",
              "      <th>1</th>\n",
              "    </tr>\n",
              "    <tr>\n",
              "      <th>Actual</th>\n",
              "      <th></th>\n",
              "      <th></th>\n",
              "    </tr>\n",
              "  </thead>\n",
              "  <tbody>\n",
              "    <tr>\n",
              "      <th>0</th>\n",
              "      <td>5126</td>\n",
              "      <td>1374</td>\n",
              "    </tr>\n",
              "    <tr>\n",
              "      <th>1</th>\n",
              "      <td>1915</td>\n",
              "      <td>1585</td>\n",
              "    </tr>\n",
              "  </tbody>\n",
              "</table>\n",
              "</div>"
            ],
            "text/plain": [
              "Predicted     0     1\n",
              "Actual               \n",
              "0          5126  1374\n",
              "1          1915  1585"
            ]
          },
          "execution_count": 37,
          "metadata": {},
          "output_type": "execute_result"
        }
      ]
    },
    {
      "cell_type": "markdown",
      "metadata": {
        "id": "6Bj8NljRrVnk"
      },
      "source": [
        "A function to calculate the stats"
      ]
    },
    {
      "cell_type": "code",
      "metadata": {
        "id": "uQUn7w56rVnk"
      },
      "source": [
        "def Stats101(confusion_matrix):\n",
        "    TP = confusion_matrix.loc[1, 1]\n",
        "    FP = confusion_matrix.loc[0, 1]\n",
        "    FN = confusion_matrix.loc[1, 0]\n",
        "    TN = confusion_matrix.loc[0, 0]\n",
        "    recall = TP / (TP + FN)\n",
        "    pre = TP / (TP + FP)\n",
        "    FPR = FP / (FP + TN)\n",
        "    FNR = FN / (FN + TP)\n",
        "    print('Recall is: ', recall)\n",
        "    print('precsiion is: ', pre)\n",
        "    print('Fals Positive Rate is: ', FPR)\n",
        "    print('False Negative Rate is: ', FNR)\n",
        "    return [recall, pre, FPR, FNR]"
      ],
      "execution_count": null,
      "outputs": []
    },
    {
      "cell_type": "markdown",
      "metadata": {
        "id": "dOAz9Sn5rVnk"
      },
      "source": [
        "The Vampire stats:"
      ]
    },
    {
      "cell_type": "code",
      "metadata": {
        "scrolled": true,
        "id": "vTqIs2dgrVnl",
        "outputId": "d17b64fd-9402-4045-b544-5b0197f858bf"
      },
      "source": [
        "Vstat = Stats101(confusion_matrix_V)"
      ],
      "execution_count": null,
      "outputs": [
        {
          "name": "stdout",
          "output_type": "stream",
          "text": [
            "Recall is:  0.4716392512762337\n",
            "precsiion is:  0.546859585662611\n",
            "Fals Positive Rate is:  0.21285140562248997\n",
            "False Negative Rate is:  0.5283607487237663\n"
          ]
        }
      ]
    },
    {
      "cell_type": "markdown",
      "metadata": {
        "id": "nchMXdx0rVnl"
      },
      "source": [
        "The Warewolf stats:"
      ]
    },
    {
      "cell_type": "code",
      "metadata": {
        "id": "FEZWBDcFrVnl",
        "outputId": "887daaac-51ca-4280-ce4a-4f5fa785cacc"
      },
      "source": [
        "Wstat = Stats101(confusion_matrix_W)"
      ],
      "execution_count": null,
      "outputs": [
        {
          "name": "stdout",
          "output_type": "stream",
          "text": [
            "Recall is:  0.45285714285714285\n",
            "precsiion is:  0.535653937140926\n",
            "Fals Positive Rate is:  0.2113846153846154\n",
            "False Negative Rate is:  0.5471428571428572\n"
          ]
        }
      ]
    },
    {
      "cell_type": "markdown",
      "metadata": {
        "id": "FuuWW0jJrVnm"
      },
      "source": [
        "create a new dataframe for bar plot"
      ]
    },
    {
      "cell_type": "code",
      "metadata": {
        "id": "Yw7w-CmbrVnm"
      },
      "source": [
        "st= pd.DataFrame()\n",
        "st1 = pd.Series(Vstat)\n",
        "st2 = pd.Series(Wstat)\n",
        "st['values'] = pd.concat([st1, st2]).reset_index(drop=True)\n",
        "st['stats'] = ['Recall ', 'precsiion ', 'Fals Positive Rate', 'False Negative Rate', 'Recall ', 'precsiion ', 'Fals Positive Rate', 'False Negative Rate']\n",
        "st['race'] = ['vampires', 'vampires', 'vampires', 'vampires', 'werewolves', 'werewolves', 'werewolves', 'werewolves']"
      ],
      "execution_count": null,
      "outputs": []
    },
    {
      "cell_type": "code",
      "metadata": {
        "scrolled": true,
        "id": "HOAhaOVMrVnm",
        "outputId": "df50ea3d-7e4e-4f32-869e-55647ac6ef3b"
      },
      "source": [
        "plt.figure(figsize=(16, 6))\n",
        "ax = sns.barplot(x=\"stats\", y=\"values\", hue=\"race\", data=st)"
      ],
      "execution_count": null,
      "outputs": [
        {
          "data": {
            "image/png": "[encoded data removed]",
            "text/plain": [
              "<Figure size 1152x432 with 1 Axes>"
            ]
          },
          "metadata": {
            "needs_background": "light"
          },
          "output_type": "display_data"
        }
      ]
    },
    {
      "cell_type": "markdown",
      "metadata": {
        "id": "XZPR9VksrVnn"
      },
      "source": [
        "As expected the stats (e.g., Recall, percision, FPR, and FNR) of the two metahumans are vertually identical because of haveing the same distribution with identical parameters. Furthemore it can be seen that the precision is near 50% which is equavilant to random guesing and that means our predictions are not accurate at all. False Positive Rate is low on the other hand therefore, the probability that false alerts will be raised is low. "
      ]
    },
    {
      "cell_type": "markdown",
      "metadata": {
        "id": "ar5pgYgmrVnn"
      },
      "source": [
        "### Scenario 1: Different Means"
      ]
    },
    {
      "cell_type": "markdown",
      "metadata": {
        "id": "g--yAe2erVnn"
      },
      "source": [
        "> Re-run the simulation and analysis where werewolves have a mean risk of 0.25 and vampires have a mean risk of 0.15, and both groups have a concentration of 15.\n"
      ]
    },
    {
      "cell_type": "markdown",
      "metadata": {
        "id": "2_vhNePYrVno"
      },
      "source": [
        "What do you observe about the relationships of different metrics? What does this mean for metahumans?"
      ]
    },
    {
      "cell_type": "code",
      "metadata": {
        "scrolled": true,
        "id": "kkBbWiZnrVno",
        "outputId": "0fd68fff-d239-40fc-dfec-febc3d7f5d20"
      },
      "source": [
        "vampires_risk = sample_probs(0.15, 15)\n",
        "vampires_attack = np.random.binomial(3, vampires_risk).astype('bool')\n",
        "print('verify that approximately 30% of the vampires attacked: ', vampires_attack.mean())\n",
        "\n",
        "werewolves_risk = sample_probs(0.25, 15)\n",
        "werewolves_attack = np.random.binomial(2, werewolves_risk).astype('bool')\n",
        "print('verify that approximately 30% of the werewolves attacked: ', werewolves_attack.mean())"
      ],
      "execution_count": null,
      "outputs": [
        {
          "name": "stdout",
          "output_type": "stream",
          "text": [
            "verify that approximately 30% of the vampires attacked:  0.3659\n",
            "verify that approximately 30% of the werewolves attacked:  0.4422\n"
          ]
        }
      ]
    },
    {
      "cell_type": "markdown",
      "metadata": {
        "id": "aRZgfQgFrVno"
      },
      "source": [
        "Create appropriate dataframe for further analysis"
      ]
    },
    {
      "cell_type": "code",
      "metadata": {
        "id": "6dNmMChDrVno"
      },
      "source": [
        "W_risk = pd.DataFrame()\n",
        "W_risk['risk'] = werewolves_risk\n",
        "W_risk['attack'] = werewolves_attack\n",
        "W_risk['race'] = 'werewolves'\n",
        "V_risk = pd.DataFrame()\n",
        "V_risk['risk'] = vampires_risk\n",
        "V_risk['attack'] = vampires_attack\n",
        "V_risk['race'] = 'vampires'\n",
        "Total_risk = pd.concat([W_risk,V_risk]).reset_index(drop=True)\n",
        "#Total_risk.tail()"
      ],
      "execution_count": null,
      "outputs": []
    },
    {
      "cell_type": "markdown",
      "metadata": {
        "id": "AdPI25JDrVno"
      },
      "source": [
        "1. Show the distribution of each group’s risk scores. This is a good way:"
      ]
    },
    {
      "cell_type": "code",
      "metadata": {
        "id": "bxbLZQT0rVnp",
        "outputId": "e680a6c4-d345-46cb-b24c-51a8ad644081"
      },
      "source": [
        "grid = sns.FacetGrid(hue='race', data=Total_risk, size= 5)\n",
        "grid.map(sns.kdeplot, 'risk', shade=True)\n",
        "plt.legend()"
      ],
      "execution_count": null,
      "outputs": [
        {
          "data": {
            "text/plain": [
              "<matplotlib.legend.Legend at 0x2736caff5c0>"
            ]
          },
          "execution_count": 45,
          "metadata": {},
          "output_type": "execute_result"
        },
        {
          "data": {
            "image/png": "[encoded data removed]",
            "text/plain": [
              "<Figure size 360x360 with 1 Axes>"
            ]
          },
          "metadata": {
            "needs_background": "light"
          },
          "output_type": "display_data"
        }
      ]
    },
    {
      "cell_type": "markdown",
      "metadata": {
        "id": "esDxr9YsrVnp"
      },
      "source": [
        "So here, wareWolfs distribution has a higher mean compared to vampires therefore the distribution is more spread"
      ]
    },
    {
      "cell_type": "markdown",
      "metadata": {
        "id": "NcHhJWH4rVnq"
      },
      "source": [
        "2. Find a threshold value so that we detain 30% of the metahumans. This can be done by calling the Pandas ‘quantile’ method on ‘risk’: metas['risk'].quantile(0.7) will find the threshold."
      ]
    },
    {
      "cell_type": "code",
      "metadata": {
        "id": "iU3-qF4HrVnq",
        "outputId": "8f3cf093-13b8-4aab-9a2e-9e6fe8a250f1"
      },
      "source": [
        "Ta = Total_risk['risk'].quantile(0.7)\n",
        "print('threshold value that we detain 30% of the metahumans: ', Ta)"
      ],
      "execution_count": null,
      "outputs": [
        {
          "name": "stdout",
          "output_type": "stream",
          "text": [
            "threshold value that we detain 30% of the metahumans:  0.2484429306173603\n"
          ]
        }
      ]
    },
    {
      "cell_type": "markdown",
      "metadata": {
        "id": "jcZOPvQPrVnr"
      },
      "source": [
        "3. Create a ‘detain’ column, so that any metahuman with a risk that exceeds the threshold is detained."
      ]
    },
    {
      "cell_type": "code",
      "metadata": {
        "id": "JqD0dlaZrVns"
      },
      "source": [
        "Total_risk['detain'] = Total_risk['risk'] > Ta\n",
        "#Total_risk['detain'].head()"
      ],
      "execution_count": null,
      "outputs": []
    },
    {
      "cell_type": "markdown",
      "metadata": {
        "id": "sL1P6eWorVns"
      },
      "source": [
        "4. Using ‘detain’ as the decision (or classification), and attack as the outcome, compute the Detention Rate (fraction of the group detained, Positive Predictive Value (precision), and FPR for each group. Show this in a bar chart (X axis should be Metric, Y axis the value, and use different colors for groups; a Seaborn barplot can do this if you have an appropriately stacked data frame)."
      ]
    },
    {
      "cell_type": "code",
      "metadata": {
        "id": "9FLW2JFarVnt",
        "outputId": "80e43c64-c868-4450-bfb7-9b2e60995e1e"
      },
      "source": [
        "FGD = Total_risk['detain'].mean()\n",
        "print('fraction of the group detained: ', FGD)"
      ],
      "execution_count": null,
      "outputs": [
        {
          "name": "stdout",
          "output_type": "stream",
          "text": [
            "fraction of the group detained:  0.3\n"
          ]
        }
      ]
    },
    {
      "cell_type": "markdown",
      "metadata": {
        "id": "fveI5-1HrVnt"
      },
      "source": [
        "create a conducion matrix for both vampires and warewolfs"
      ]
    },
    {
      "cell_type": "code",
      "metadata": {
        "id": "9e1EIjqqrVnu",
        "outputId": "9a143819-6f6d-4817-8522-1ecb99e1b2e3"
      },
      "source": [
        "Total_risk['detain'] = Total_risk['detain'] * 1\n",
        "Total_risk['attack'] = Total_risk['attack'] * 1\n",
        "Total_risk_V = Total_risk[Total_risk['race'] == 'vampires']\n",
        "Total_risk_W = Total_risk[Total_risk['race'] != 'vampires']\n",
        "confusion_matrix_V = pd.crosstab(Total_risk_V['attack'], Total_risk_V['detain'], rownames=['Actual'], colnames=['Predicted'])\n",
        "confusion_matrix_V"
      ],
      "execution_count": null,
      "outputs": [
        {
          "data": {
            "text/html": [
              "<div>\n",
              "<style scoped>\n",
              "    .dataframe tbody tr th:only-of-type {\n",
              "        vertical-align: middle;\n",
              "    }\n",
              "\n",
              "    .dataframe tbody tr th {\n",
              "        vertical-align: top;\n",
              "    }\n",
              "\n",
              "    .dataframe thead th {\n",
              "        text-align: right;\n",
              "    }\n",
              "</style>\n",
              "<table border=\"1\" class=\"dataframe\">\n",
              "  <thead>\n",
              "    <tr style=\"text-align: right;\">\n",
              "      <th>Predicted</th>\n",
              "      <th>0</th>\n",
              "      <th>1</th>\n",
              "    </tr>\n",
              "    <tr>\n",
              "      <th>Actual</th>\n",
              "      <th></th>\n",
              "      <th></th>\n",
              "    </tr>\n",
              "  </thead>\n",
              "  <tbody>\n",
              "    <tr>\n",
              "      <th>0</th>\n",
              "      <td>5901</td>\n",
              "      <td>440</td>\n",
              "    </tr>\n",
              "    <tr>\n",
              "      <th>1</th>\n",
              "      <td>2786</td>\n",
              "      <td>873</td>\n",
              "    </tr>\n",
              "  </tbody>\n",
              "</table>\n",
              "</div>"
            ],
            "text/plain": [
              "Predicted     0    1\n",
              "Actual              \n",
              "0          5901  440\n",
              "1          2786  873"
            ]
          },
          "execution_count": 49,
          "metadata": {},
          "output_type": "execute_result"
        }
      ]
    },
    {
      "cell_type": "code",
      "metadata": {
        "id": "ltC1XGJSrVnu",
        "outputId": "c199c219-43a9-45fd-9e10-8ac838a47820"
      },
      "source": [
        "confusion_matrix_W = pd.crosstab(Total_risk_W['attack'], Total_risk_W['detain'], rownames=['Actual'], colnames=['Predicted'])\n",
        "confusion_matrix_W"
      ],
      "execution_count": null,
      "outputs": [
        {
          "data": {
            "text/html": [
              "<div>\n",
              "<style scoped>\n",
              "    .dataframe tbody tr th:only-of-type {\n",
              "        vertical-align: middle;\n",
              "    }\n",
              "\n",
              "    .dataframe tbody tr th {\n",
              "        vertical-align: top;\n",
              "    }\n",
              "\n",
              "    .dataframe thead th {\n",
              "        text-align: right;\n",
              "    }\n",
              "</style>\n",
              "<table border=\"1\" class=\"dataframe\">\n",
              "  <thead>\n",
              "    <tr style=\"text-align: right;\">\n",
              "      <th>Predicted</th>\n",
              "      <th>0</th>\n",
              "      <th>1</th>\n",
              "    </tr>\n",
              "    <tr>\n",
              "      <th>Actual</th>\n",
              "      <th></th>\n",
              "      <th></th>\n",
              "    </tr>\n",
              "  </thead>\n",
              "  <tbody>\n",
              "    <tr>\n",
              "      <th>0</th>\n",
              "      <td>3595</td>\n",
              "      <td>1983</td>\n",
              "    </tr>\n",
              "    <tr>\n",
              "      <th>1</th>\n",
              "      <td>1718</td>\n",
              "      <td>2704</td>\n",
              "    </tr>\n",
              "  </tbody>\n",
              "</table>\n",
              "</div>"
            ],
            "text/plain": [
              "Predicted     0     1\n",
              "Actual               \n",
              "0          3595  1983\n",
              "1          1718  2704"
            ]
          },
          "execution_count": 50,
          "metadata": {},
          "output_type": "execute_result"
        }
      ]
    },
    {
      "cell_type": "markdown",
      "metadata": {
        "id": "zJaH0RibrVnv"
      },
      "source": [
        "The Vampire stats:"
      ]
    },
    {
      "cell_type": "code",
      "metadata": {
        "scrolled": true,
        "id": "PWd2WrSLrVnv",
        "outputId": "839197ff-dd84-4b97-b911-cbce3adebe5d"
      },
      "source": [
        "Vstat = Stats101(confusion_matrix_V)"
      ],
      "execution_count": null,
      "outputs": [
        {
          "name": "stdout",
          "output_type": "stream",
          "text": [
            "Recall is:  0.23858977862804046\n",
            "precsiion is:  0.6648895658796649\n",
            "Fals Positive Rate is:  0.06938968616937391\n",
            "False Negative Rate is:  0.7614102213719596\n"
          ]
        }
      ]
    },
    {
      "cell_type": "markdown",
      "metadata": {
        "id": "QX8jlhnrrVnw"
      },
      "source": [
        "The Warewolfs stats:"
      ]
    },
    {
      "cell_type": "code",
      "metadata": {
        "scrolled": true,
        "id": "mXCnxE58rVnw",
        "outputId": "708af362-996f-4362-e6a3-4307383c763f"
      },
      "source": [
        "Wstat = Stats101(confusion_matrix_W)"
      ],
      "execution_count": null,
      "outputs": [
        {
          "name": "stdout",
          "output_type": "stream",
          "text": [
            "Recall is:  0.6114880144730891\n",
            "precsiion is:  0.5769148709195647\n",
            "Fals Positive Rate is:  0.3555037647902474\n",
            "False Negative Rate is:  0.3885119855269109\n"
          ]
        }
      ]
    },
    {
      "cell_type": "markdown",
      "metadata": {
        "id": "6fne-HMkrVnw"
      },
      "source": [
        "create a new dataframe for bar plot"
      ]
    },
    {
      "cell_type": "code",
      "metadata": {
        "id": "6gk8bvUcrVnx"
      },
      "source": [
        "st= pd.DataFrame()\n",
        "st1 = pd.Series(Vstat)\n",
        "st2 = pd.Series(Wstat)\n",
        "st['values'] = pd.concat([st1, st2]).reset_index(drop=True)\n",
        "st['stats'] = ['Recall ', 'precsiion ', 'Fals Positive Rate', 'False Negative Rate', 'Recall ', 'precsiion ', 'Fals Positive Rate', 'False Negative Rate']\n",
        "st['race'] = ['vampires', 'vampires', 'vampires', 'vampires', 'werewolves', 'werewolves', 'werewolves', 'werewolves']"
      ],
      "execution_count": null,
      "outputs": []
    },
    {
      "cell_type": "code",
      "metadata": {
        "id": "DFgTC7xkrVnx",
        "outputId": "eefca3f1-1a48-4ccb-de17-1166f28ce3c7"
      },
      "source": [
        "plt.figure(figsize=(16, 6))\n",
        "ax = sns.barplot(x=\"stats\", y=\"values\", hue=\"race\", data=st)"
      ],
      "execution_count": null,
      "outputs": [
        {
          "data": {
            "image/png": "[encoded data removed]",
            "text/plain": [
              "<Figure size 1152x432 with 1 Axes>"
            ]
          },
          "metadata": {
            "needs_background": "light"
          },
          "output_type": "display_data"
        }
      ]
    },
    {
      "cell_type": "markdown",
      "metadata": {
        "id": "ci1GWJDRrVnx"
      },
      "source": [
        "recall is low and precision is high for vapmires and this shows that our classifier is very picky, and does not think many cases are vampires attacks and it also misses a lot of actual attacks. in case of warewolfs oOur classifier is very good, it is very picky, but still it gets almost all of the attacks so it does a better job. False Positive Rate is lower in vampires compared to warewolfs therefore, the probability that false alerts will be raised is lower in vampires but fase negative rates is the exact reverse. "
      ]
    },
    {
      "cell_type": "markdown",
      "metadata": {
        "id": "fLjpDSN8rVny"
      },
      "source": [
        "### Scenario 2: Same Mean"
      ]
    },
    {
      "cell_type": "markdown",
      "metadata": {
        "id": "mBHl-360rVny"
      },
      "source": [
        "> Re-run the simulation and analysis where both groups have a mean risk of 0.2, but werewolves have a concentration of 20 and vampires have a concentration of 5.\n"
      ]
    },
    {
      "cell_type": "markdown",
      "metadata": {
        "id": "plWtp5q3rVny"
      },
      "source": [
        "What do you observe about the relationships of risk distributions and metrics between the groups? What does this mean for metahumans?"
      ]
    },
    {
      "cell_type": "code",
      "metadata": {
        "scrolled": true,
        "id": "q5t-QoYfrVnz",
        "outputId": "ffb24770-8aca-4b33-dcd7-2e5a5a3bf0db"
      },
      "source": [
        "vampires_risk = sample_probs(0.2, 5)\n",
        "vampires_attack = np.random.binomial(2, vampires_risk).astype('bool')\n",
        "print('verify that approximately 30% of the vampires attacked: ', vampires_attack.mean())\n",
        "\n",
        "werewolves_risk = sample_probs(0.2, 20)\n",
        "werewolves_attack = np.random.binomial(2, werewolves_risk).astype('bool')\n",
        "print('verify that approximately 30% of the werewolves attacked: ', werewolves_attack.mean())"
      ],
      "execution_count": null,
      "outputs": [
        {
          "name": "stdout",
          "output_type": "stream",
          "text": [
            "verify that approximately 30% of the vampires attacked:  0.3368\n",
            "verify that approximately 30% of the werewolves attacked:  0.3498\n"
          ]
        }
      ]
    },
    {
      "cell_type": "markdown",
      "metadata": {
        "id": "xF-IGX_jrVnz"
      },
      "source": [
        "Create appropriate dataframe for further analysis"
      ]
    },
    {
      "cell_type": "code",
      "metadata": {
        "id": "Byun33rPrVn0"
      },
      "source": [
        "W_risk = pd.DataFrame()\n",
        "W_risk['risk'] = werewolves_risk\n",
        "W_risk['attack'] = werewolves_attack\n",
        "W_risk['race'] = 'werewolves'\n",
        "V_risk = pd.DataFrame()\n",
        "V_risk['risk'] = vampires_risk\n",
        "V_risk['attack'] = vampires_attack\n",
        "V_risk['race'] = 'vampires'\n",
        "Total_risk = pd.concat([W_risk,V_risk]).reset_index(drop=True)\n",
        "#Total_risk.tail()"
      ],
      "execution_count": null,
      "outputs": []
    },
    {
      "cell_type": "markdown",
      "metadata": {
        "id": "HigpLbHZrVn0"
      },
      "source": [
        "1. Show the distribution of each group’s risk scores. This is a good way:"
      ]
    },
    {
      "cell_type": "code",
      "metadata": {
        "scrolled": true,
        "id": "y47N6DDfrVn1",
        "outputId": "faa02d89-b504-4d28-b5c8-e7172c9ab26c"
      },
      "source": [
        "grid = sns.FacetGrid(hue='race', data=Total_risk, size= 5)\n",
        "grid.map(sns.kdeplot, 'risk', shade=True)\n",
        "plt.legend()"
      ],
      "execution_count": null,
      "outputs": [
        {
          "data": {
            "text/plain": [
              "<matplotlib.legend.Legend at 0x2736dde1c18>"
            ]
          },
          "execution_count": 57,
          "metadata": {},
          "output_type": "execute_result"
        },
        {
          "data": {
            "image/png": "[encoded data removed]",
            "text/plain": [
              "<Figure size 360x360 with 1 Axes>"
            ]
          },
          "metadata": {
            "needs_background": "light"
          },
          "output_type": "display_data"
        }
      ]
    },
    {
      "cell_type": "markdown",
      "metadata": {
        "id": "H1jwLlJ3rVn1"
      },
      "source": [
        "So here, wareWolfs distribution has a higher number of concentration compared to vampires therefore the distribution is more spread"
      ]
    },
    {
      "cell_type": "markdown",
      "metadata": {
        "id": "AZPAFboarVn1"
      },
      "source": [
        "2. Find a threshold value so that we detain 30% of the metahumans. This can be done by calling the Pandas ‘quantile’ method on ‘risk’: metas['risk'].quantile(0.7) will find the threshold."
      ]
    },
    {
      "cell_type": "code",
      "metadata": {
        "id": "oPrB5ntyrVn2",
        "outputId": "f7aefb8d-551d-4805-869f-8ca49d749fee"
      },
      "source": [
        "Ta = Total_risk['risk'].quantile(0.7)\n",
        "print('threshold value that we detain 30% of the metahumans: ', Ta)"
      ],
      "execution_count": null,
      "outputs": [
        {
          "name": "stdout",
          "output_type": "stream",
          "text": [
            "threshold value that we detain 30% of the metahumans:  0.2449932300116177\n"
          ]
        }
      ]
    },
    {
      "cell_type": "markdown",
      "metadata": {
        "id": "5n597erjrVn2"
      },
      "source": [
        "3. Create a ‘detain’ column, so that any metahuman with a risk that exceeds the threshold is detained."
      ]
    },
    {
      "cell_type": "code",
      "metadata": {
        "id": "P9krMqgPrVn2"
      },
      "source": [
        "Total_risk['detain'] = Total_risk['risk'] > Ta\n",
        "#Total_risk['detain'].head()"
      ],
      "execution_count": null,
      "outputs": []
    },
    {
      "cell_type": "markdown",
      "metadata": {
        "id": "jRngUYYdrVn3"
      },
      "source": [
        "4. Using ‘detain’ as the decision (or classification), and attack as the outcome, compute the Detention Rate (fraction of the group detained, Positive Predictive Value (precision), and FPR for each group. Show this in a bar chart (X axis should be Metric, Y axis the value, and use different colors for groups; a Seaborn barplot can do this if you have an appropriately stacked data frame)."
      ]
    },
    {
      "cell_type": "code",
      "metadata": {
        "id": "Wj1Egr8XrVn3",
        "outputId": "9e28e598-f1a1-4534-d366-54cc85cf2857"
      },
      "source": [
        "FGD = Total_risk['detain'].mean()\n",
        "print('fraction of the group detained: ', FGD)"
      ],
      "execution_count": null,
      "outputs": [
        {
          "name": "stdout",
          "output_type": "stream",
          "text": [
            "fraction of the group detained:  0.3\n"
          ]
        }
      ]
    },
    {
      "cell_type": "markdown",
      "metadata": {
        "id": "pd0pyzz9rVn3"
      },
      "source": [
        "create a conducion matrix for both vampires and warewolfs"
      ]
    },
    {
      "cell_type": "code",
      "metadata": {
        "id": "PzKSItEgrVn3",
        "outputId": "c7bb47ca-602e-47b1-eac3-e63043bd9963"
      },
      "source": [
        "Total_risk['detain'] = Total_risk['detain'] * 1\n",
        "Total_risk['attack'] = Total_risk['attack'] * 1\n",
        "Total_risk_V = Total_risk[Total_risk['race'] == 'vampires']\n",
        "Total_risk_W = Total_risk[Total_risk['race'] != 'vampires']\n",
        "confusion_matrix_V = pd.crosstab(Total_risk_V['attack'], Total_risk_V['detain'], rownames=['Actual'], colnames=['Predicted'])\n",
        "confusion_matrix_V"
      ],
      "execution_count": null,
      "outputs": [
        {
          "data": {
            "text/html": [
              "<div>\n",
              "<style scoped>\n",
              "    .dataframe tbody tr th:only-of-type {\n",
              "        vertical-align: middle;\n",
              "    }\n",
              "\n",
              "    .dataframe tbody tr th {\n",
              "        vertical-align: top;\n",
              "    }\n",
              "\n",
              "    .dataframe thead th {\n",
              "        text-align: right;\n",
              "    }\n",
              "</style>\n",
              "<table border=\"1\" class=\"dataframe\">\n",
              "  <thead>\n",
              "    <tr style=\"text-align: right;\">\n",
              "      <th>Predicted</th>\n",
              "      <th>0</th>\n",
              "      <th>1</th>\n",
              "    </tr>\n",
              "    <tr>\n",
              "      <th>Actual</th>\n",
              "      <th></th>\n",
              "      <th></th>\n",
              "    </tr>\n",
              "  </thead>\n",
              "  <tbody>\n",
              "    <tr>\n",
              "      <th>0</th>\n",
              "      <td>5386</td>\n",
              "      <td>1246</td>\n",
              "    </tr>\n",
              "    <tr>\n",
              "      <th>1</th>\n",
              "      <td>1330</td>\n",
              "      <td>2038</td>\n",
              "    </tr>\n",
              "  </tbody>\n",
              "</table>\n",
              "</div>"
            ],
            "text/plain": [
              "Predicted     0     1\n",
              "Actual               \n",
              "0          5386  1246\n",
              "1          1330  2038"
            ]
          },
          "execution_count": 61,
          "metadata": {},
          "output_type": "execute_result"
        }
      ]
    },
    {
      "cell_type": "code",
      "metadata": {
        "id": "4YIdQKafrVn4",
        "outputId": "688c5411-e1cd-4ec1-a2f1-59fe5b411e84"
      },
      "source": [
        "confusion_matrix_W = pd.crosstab(Total_risk_W['attack'], Total_risk_W['detain'], rownames=['Actual'], colnames=['Predicted'])\n",
        "confusion_matrix_W"
      ],
      "execution_count": null,
      "outputs": [
        {
          "data": {
            "text/html": [
              "<div>\n",
              "<style scoped>\n",
              "    .dataframe tbody tr th:only-of-type {\n",
              "        vertical-align: middle;\n",
              "    }\n",
              "\n",
              "    .dataframe tbody tr th {\n",
              "        vertical-align: top;\n",
              "    }\n",
              "\n",
              "    .dataframe thead th {\n",
              "        text-align: right;\n",
              "    }\n",
              "</style>\n",
              "<table border=\"1\" class=\"dataframe\">\n",
              "  <thead>\n",
              "    <tr style=\"text-align: right;\">\n",
              "      <th>Predicted</th>\n",
              "      <th>0</th>\n",
              "      <th>1</th>\n",
              "    </tr>\n",
              "    <tr>\n",
              "      <th>Actual</th>\n",
              "      <th></th>\n",
              "      <th></th>\n",
              "    </tr>\n",
              "  </thead>\n",
              "  <tbody>\n",
              "    <tr>\n",
              "      <th>0</th>\n",
              "      <td>5221</td>\n",
              "      <td>1281</td>\n",
              "    </tr>\n",
              "    <tr>\n",
              "      <th>1</th>\n",
              "      <td>2063</td>\n",
              "      <td>1435</td>\n",
              "    </tr>\n",
              "  </tbody>\n",
              "</table>\n",
              "</div>"
            ],
            "text/plain": [
              "Predicted     0     1\n",
              "Actual               \n",
              "0          5221  1281\n",
              "1          2063  1435"
            ]
          },
          "execution_count": 62,
          "metadata": {},
          "output_type": "execute_result"
        }
      ]
    },
    {
      "cell_type": "markdown",
      "metadata": {
        "id": "HcLObr1_rVn4"
      },
      "source": [
        "The Vampire stats:"
      ]
    },
    {
      "cell_type": "code",
      "metadata": {
        "scrolled": true,
        "id": "js_jDO_HrVn4",
        "outputId": "90969e9a-cd4d-4abf-ebfa-e62297c6587c"
      },
      "source": [
        "Vstat = Stats101(confusion_matrix_V)"
      ],
      "execution_count": null,
      "outputs": [
        {
          "name": "stdout",
          "output_type": "stream",
          "text": [
            "Recall is:  0.6051068883610451\n",
            "precsiion is:  0.620584652862363\n",
            "Fals Positive Rate is:  0.18787696019300362\n",
            "False Negative Rate is:  0.39489311163895485\n"
          ]
        }
      ]
    },
    {
      "cell_type": "markdown",
      "metadata": {
        "id": "Y55GrjGorVn5"
      },
      "source": [
        "The Warewolfs stats:"
      ]
    },
    {
      "cell_type": "code",
      "metadata": {
        "id": "OQeYMHsKrVn5",
        "outputId": "0a6643b4-8f8e-40a9-9a98-1c2e3f53e396"
      },
      "source": [
        "Wstat = Stats101(confusion_matrix_W)"
      ],
      "execution_count": null,
      "outputs": [
        {
          "name": "stdout",
          "output_type": "stream",
          "text": [
            "Recall is:  0.4102344196683819\n",
            "precsiion is:  0.5283505154639175\n",
            "Fals Positive Rate is:  0.19701630267609965\n",
            "False Negative Rate is:  0.5897655803316181\n"
          ]
        }
      ]
    },
    {
      "cell_type": "markdown",
      "metadata": {
        "id": "66gqA6QmrVn6"
      },
      "source": [
        "create a new dataframe for bar plot"
      ]
    },
    {
      "cell_type": "code",
      "metadata": {
        "id": "gv8CLvWMrVn6"
      },
      "source": [
        "st= pd.DataFrame()\n",
        "st1 = pd.Series(Vstat)\n",
        "st2 = pd.Series(Wstat)\n",
        "st['values'] = pd.concat([st1, st2]).reset_index(drop=True)\n",
        "st['stats'] = ['Recall ', 'precsiion ', 'Fals Positive Rate', 'False Negative Rate', 'Recall ', 'precsiion ', 'Fals Positive Rate', 'False Negative Rate']\n",
        "st['race'] = ['vampires', 'vampires', 'vampires', 'vampires', 'werewolves', 'werewolves', 'werewolves', 'werewolves']"
      ],
      "execution_count": null,
      "outputs": []
    },
    {
      "cell_type": "code",
      "metadata": {
        "id": "_I3zzV8zrVn6",
        "outputId": "44678e03-668b-4a8f-c8bd-9af73c12a2a7"
      },
      "source": [
        "plt.figure(figsize=(16, 6))\n",
        "ax = sns.barplot(x=\"stats\", y=\"values\", hue=\"race\", data=st)"
      ],
      "execution_count": null,
      "outputs": [
        {
          "data": {
            "image/png": "[encoded data removed]",
            "text/plain": [
              "<Figure size 1152x432 with 1 Axes>"
            ]
          },
          "metadata": {
            "needs_background": "light"
          },
          "output_type": "display_data"
        }
      ]
    },
    {
      "cell_type": "markdown",
      "metadata": {
        "id": "3mjUdw5trVn8"
      },
      "source": [
        "recall and precision is high for both vapmires and werewolfs and this shows that our classifier is very picky and classifier is very good. But in general vampires in this case has higher values of precision and recall while having lower values of FPR and FNR, therefore indicating that these two parameters of binomial distribution are much more suited for our classifier."
      ]
    },
    {
      "cell_type": "markdown",
      "metadata": {
        "id": "YhKVuDgfrVn8"
      },
      "source": [
        "### Scenario 3: Different Sample Sizes"
      ]
    },
    {
      "cell_type": "markdown",
      "metadata": {
        "id": "DMNqIF3irVn9"
      },
      "source": [
        "> Re-run the simulation and analysis where both groups have a concentration of 10, but there are 5000 werewolves with mean risk of 0.2 and 20000 vampires with mean risk of 0.15."
      ]
    },
    {
      "cell_type": "markdown",
      "metadata": {
        "id": "_s5LDj-KrVn9"
      },
      "source": [
        "What do you observe about the relationships of risk distributions and metrics between the groups? What does this mean for metahumans?"
      ]
    },
    {
      "cell_type": "code",
      "metadata": {
        "id": "ziuVMV6drVn-",
        "outputId": "7461ef3a-41d8-4d01-db0a-5d6e714efa6f"
      },
      "source": [
        "vampires_risk = sample_probs(0.15, 10, n=20000)\n",
        "vampires_attack = np.random.binomial(3, vampires_risk).astype('bool')\n",
        "print('verify that approximately 30% of the vampires attacked: ', vampires_attack.mean())\n",
        "\n",
        "werewolves_risk = sample_probs(0.2, 10, n=5000)\n",
        "werewolves_attack = np.random.binomial(2, werewolves_risk).astype('bool')\n",
        "print('verify that approximately 30% of the werewolves attacked: ', werewolves_attack.mean())"
      ],
      "execution_count": null,
      "outputs": [
        {
          "name": "stdout",
          "output_type": "stream",
          "text": [
            "verify that approximately 30% of the vampires attacked:  0.355\n",
            "verify that approximately 30% of the werewolves attacked:  0.3564\n"
          ]
        }
      ]
    },
    {
      "cell_type": "markdown",
      "metadata": {
        "id": "KwNsvL_5rVn_"
      },
      "source": [
        "Create appropriate dataframe for further analysis"
      ]
    },
    {
      "cell_type": "code",
      "metadata": {
        "id": "jy4r3aCzrVoA"
      },
      "source": [
        "W_risk = pd.DataFrame()\n",
        "W_risk['risk'] = werewolves_risk\n",
        "W_risk['attack'] = werewolves_attack\n",
        "W_risk['race'] = 'werewolves'\n",
        "V_risk = pd.DataFrame()\n",
        "V_risk['risk'] = vampires_risk\n",
        "V_risk['attack'] = vampires_attack\n",
        "V_risk['race'] = 'vampires'\n",
        "Total_risk = pd.concat([W_risk,V_risk]).reset_index(drop=True)\n",
        "#Total_risk.tail()"
      ],
      "execution_count": null,
      "outputs": []
    },
    {
      "cell_type": "markdown",
      "metadata": {
        "id": "ZfZUQAU7rVoA"
      },
      "source": [
        "1. Show the distribution of each group’s risk scores. This is a good way:"
      ]
    },
    {
      "cell_type": "code",
      "metadata": {
        "id": "KHWh8szUrVoA",
        "outputId": "100a12f2-e5b6-4029-ecc1-286aa6f3f1f9"
      },
      "source": [
        "grid = sns.FacetGrid(hue='race', data=Total_risk, size = 5)\n",
        "grid.map(sns.kdeplot, 'risk', shade=True)\n",
        "plt.legend()"
      ],
      "execution_count": null,
      "outputs": [
        {
          "data": {
            "text/plain": [
              "<matplotlib.legend.Legend at 0x2736ddc7da0>"
            ]
          },
          "execution_count": 69,
          "metadata": {},
          "output_type": "execute_result"
        },
        {
          "data": {
            "image/png": "[encoded data removed]",
            "text/plain": [
              "<Figure size 360x360 with 1 Axes>"
            ]
          },
          "metadata": {
            "needs_background": "light"
          },
          "output_type": "display_data"
        }
      ]
    },
    {
      "cell_type": "markdown",
      "metadata": {
        "id": "SStiThfOrVoB"
      },
      "source": [
        "2. Find a threshold value so that we detain 30% of the metahumans. This can be done by calling the Pandas ‘quantile’ method on ‘risk’: metas['risk'].quantile(0.7) will find the threshold."
      ]
    },
    {
      "cell_type": "code",
      "metadata": {
        "id": "gYyiZP1NrVoC",
        "outputId": "2663300a-9441-4f7b-ee1c-58e107a218b2"
      },
      "source": [
        "Ta = Total_risk['risk'].quantile(0.7)\n",
        "print('threshold value that we detain 30% of the metahumans: ', Ta)"
      ],
      "execution_count": null,
      "outputs": [
        {
          "name": "stdout",
          "output_type": "stream",
          "text": [
            "threshold value that we detain 30% of the metahumans:  0.20011568701123128\n"
          ]
        }
      ]
    },
    {
      "cell_type": "markdown",
      "metadata": {
        "id": "69awaeJPrVoC"
      },
      "source": [
        "3. Create a ‘detain’ column, so that any metahuman with a risk that exceeds the threshold is detained."
      ]
    },
    {
      "cell_type": "code",
      "metadata": {
        "id": "WI09Z1VCrVoC"
      },
      "source": [
        "Total_risk['detain'] = Total_risk['risk'] > Ta\n",
        "#Total_risk['detain'].head()"
      ],
      "execution_count": null,
      "outputs": []
    },
    {
      "cell_type": "markdown",
      "metadata": {
        "id": "kVsdXOoSrVoC"
      },
      "source": [
        "4. Using ‘detain’ as the decision (or classification), and attack as the outcome, compute the Detention Rate (fraction of the group detained, Positive Predictive Value (precision), and FPR for each group. Show this in a bar chart (X axis should be Metric, Y axis the value, and use different colors for groups; a Seaborn barplot can do this if you have an appropriately stacked data frame)."
      ]
    },
    {
      "cell_type": "code",
      "metadata": {
        "scrolled": true,
        "id": "HAiJ4jLjrVoD",
        "outputId": "158d9ff8-18fe-4ce2-96e1-324f7dac1bed"
      },
      "source": [
        "FGD = Total_risk['detain'].mean()\n",
        "print('fraction of the group detained: ', FGD)"
      ],
      "execution_count": null,
      "outputs": [
        {
          "name": "stdout",
          "output_type": "stream",
          "text": [
            "fraction of the group detained:  0.3\n"
          ]
        }
      ]
    },
    {
      "cell_type": "markdown",
      "metadata": {
        "id": "C5u8BEtirVoD"
      },
      "source": [
        "create a conducion matrix for both vampires and warewolfs"
      ]
    },
    {
      "cell_type": "code",
      "metadata": {
        "id": "Pr-Xlz5crVoF",
        "outputId": "97c7a4f9-51f9-4790-f337-dd38b589d2ab"
      },
      "source": [
        "Total_risk['detain'] = Total_risk['detain'] * 1\n",
        "Total_risk['attack'] = Total_risk['attack'] * 1\n",
        "Total_risk_V = Total_risk[Total_risk['race'] == 'vampires']\n",
        "Total_risk_W = Total_risk[Total_risk['race'] != 'vampires']\n",
        "confusion_matrix_V = pd.crosstab(Total_risk_V['attack'], Total_risk_V['detain'], rownames=['Actual'], colnames=['Predicted'])\n",
        "confusion_matrix_V"
      ],
      "execution_count": null,
      "outputs": [
        {
          "data": {
            "text/html": [
              "<div>\n",
              "<style scoped>\n",
              "    .dataframe tbody tr th:only-of-type {\n",
              "        vertical-align: middle;\n",
              "    }\n",
              "\n",
              "    .dataframe tbody tr th {\n",
              "        vertical-align: top;\n",
              "    }\n",
              "\n",
              "    .dataframe thead th {\n",
              "        text-align: right;\n",
              "    }\n",
              "</style>\n",
              "<table border=\"1\" class=\"dataframe\">\n",
              "  <thead>\n",
              "    <tr style=\"text-align: right;\">\n",
              "      <th>Predicted</th>\n",
              "      <th>0</th>\n",
              "      <th>1</th>\n",
              "    </tr>\n",
              "    <tr>\n",
              "      <th>Actual</th>\n",
              "      <th></th>\n",
              "      <th></th>\n",
              "    </tr>\n",
              "  </thead>\n",
              "  <tbody>\n",
              "    <tr>\n",
              "      <th>0</th>\n",
              "      <td>10965</td>\n",
              "      <td>1935</td>\n",
              "    </tr>\n",
              "    <tr>\n",
              "      <th>1</th>\n",
              "      <td>3724</td>\n",
              "      <td>3376</td>\n",
              "    </tr>\n",
              "  </tbody>\n",
              "</table>\n",
              "</div>"
            ],
            "text/plain": [
              "Predicted      0     1\n",
              "Actual                \n",
              "0          10965  1935\n",
              "1           3724  3376"
            ]
          },
          "execution_count": 73,
          "metadata": {},
          "output_type": "execute_result"
        }
      ]
    },
    {
      "cell_type": "code",
      "metadata": {
        "scrolled": true,
        "id": "V7xaffyPrVoG",
        "outputId": "7739e574-a2c6-4753-8ace-e4cea550b130"
      },
      "source": [
        "confusion_matrix_W = pd.crosstab(Total_risk_W['attack'], Total_risk_W['detain'], rownames=['Actual'], colnames=['Predicted'])\n",
        "confusion_matrix_W"
      ],
      "execution_count": null,
      "outputs": [
        {
          "data": {
            "text/html": [
              "<div>\n",
              "<style scoped>\n",
              "    .dataframe tbody tr th:only-of-type {\n",
              "        vertical-align: middle;\n",
              "    }\n",
              "\n",
              "    .dataframe tbody tr th {\n",
              "        vertical-align: top;\n",
              "    }\n",
              "\n",
              "    .dataframe thead th {\n",
              "        text-align: right;\n",
              "    }\n",
              "</style>\n",
              "<table border=\"1\" class=\"dataframe\">\n",
              "  <thead>\n",
              "    <tr style=\"text-align: right;\">\n",
              "      <th>Predicted</th>\n",
              "      <th>0</th>\n",
              "      <th>1</th>\n",
              "    </tr>\n",
              "    <tr>\n",
              "      <th>Actual</th>\n",
              "      <th></th>\n",
              "      <th></th>\n",
              "    </tr>\n",
              "  </thead>\n",
              "  <tbody>\n",
              "    <tr>\n",
              "      <th>0</th>\n",
              "      <td>2177</td>\n",
              "      <td>1041</td>\n",
              "    </tr>\n",
              "    <tr>\n",
              "      <th>1</th>\n",
              "      <td>634</td>\n",
              "      <td>1148</td>\n",
              "    </tr>\n",
              "  </tbody>\n",
              "</table>\n",
              "</div>"
            ],
            "text/plain": [
              "Predicted     0     1\n",
              "Actual               \n",
              "0          2177  1041\n",
              "1           634  1148"
            ]
          },
          "execution_count": 74,
          "metadata": {},
          "output_type": "execute_result"
        }
      ]
    },
    {
      "cell_type": "markdown",
      "metadata": {
        "id": "VxxR5lEMrVoG"
      },
      "source": [
        "The Vampire stats:"
      ]
    },
    {
      "cell_type": "code",
      "metadata": {
        "scrolled": true,
        "id": "nGlR4FYrrVoG",
        "outputId": "854ec1d8-5a24-4c77-8e11-6348f6a22247"
      },
      "source": [
        "Vstat = Stats101(confusion_matrix_V)"
      ],
      "execution_count": null,
      "outputs": [
        {
          "name": "stdout",
          "output_type": "stream",
          "text": [
            "Recall is:  0.4754929577464789\n",
            "precsiion is:  0.6356618339295801\n",
            "Fals Positive Rate is:  0.15\n",
            "False Negative Rate is:  0.5245070422535211\n"
          ]
        }
      ]
    },
    {
      "cell_type": "markdown",
      "metadata": {
        "id": "MbmybxamrVoH"
      },
      "source": [
        "The Warewolfs stats:"
      ]
    },
    {
      "cell_type": "code",
      "metadata": {
        "id": "x3a_eROtrVoH",
        "outputId": "818d08d4-abfa-44bb-f447-bf57a801d0aa"
      },
      "source": [
        "Wstat = Stats101(confusion_matrix_W)"
      ],
      "execution_count": null,
      "outputs": [
        {
          "name": "stdout",
          "output_type": "stream",
          "text": [
            "Recall is:  0.6442199775533108\n",
            "precsiion is:  0.5244403837368662\n",
            "Fals Positive Rate is:  0.32349285270354255\n",
            "False Negative Rate is:  0.3557800224466891\n"
          ]
        }
      ]
    },
    {
      "cell_type": "markdown",
      "metadata": {
        "id": "0N0tFaBxrVoH"
      },
      "source": [
        "create a new dataframe for bar plot"
      ]
    },
    {
      "cell_type": "code",
      "metadata": {
        "id": "1xTlTPmFrVoI"
      },
      "source": [
        "st= pd.DataFrame()\n",
        "st1 = pd.Series(Vstat)\n",
        "st2 = pd.Series(Wstat)\n",
        "st['values'] = pd.concat([st1, st2]).reset_index(drop=True)\n",
        "st['stats'] = ['Recall ', 'precsiion ', 'Fals Positive Rate', 'False Negative Rate', 'Recall ', 'precsiion ', 'Fals Positive Rate', 'False Negative Rate']\n",
        "st['race'] = ['vampires', 'vampires', 'vampires', 'vampires', 'werewolves', 'werewolves', 'werewolves', 'werewolves']"
      ],
      "execution_count": null,
      "outputs": []
    },
    {
      "cell_type": "code",
      "metadata": {
        "scrolled": true,
        "id": "tCjF_NqDrVoI",
        "outputId": "f51bd0af-68d4-4904-926d-bef3b663b211"
      },
      "source": [
        "plt.figure(figsize=(16, 6))\n",
        "ax = sns.barplot(x=\"stats\", y=\"values\", hue=\"race\", data=st)"
      ],
      "execution_count": null,
      "outputs": [
        {
          "data": {
            "image/png": "[encoded data removed]",
            "text/plain": [
              "<Figure size 1152x432 with 1 Axes>"
            ]
          },
          "metadata": {
            "needs_background": "light"
          },
          "output_type": "display_data"
        }
      ]
    },
    {
      "cell_type": "markdown",
      "metadata": {
        "id": "04oPSWV4rVoI"
      },
      "source": [
        "Here we can see a tradeoff between [recall, precision] and [FPR, FNR] in both cases one has a higher recall whereas the other has higher precission. So in our case we want to currectly identify attacks so having a higher precision is prefered therefore the calssifier does a better job for  werewolfs and FPR and FNR are more balanced."
      ]
    },
    {
      "cell_type": "markdown",
      "metadata": {
        "id": "FSWZgZVyrVoJ"
      },
      "source": [
        "## Part 3: Conclusion"
      ]
    },
    {
      "cell_type": "markdown",
      "metadata": {
        "id": "TWmvqDsDrVoJ"
      },
      "source": [
        "Write a paragraph about what you have learned through this exercise."
      ]
    },
    {
      "cell_type": "markdown",
      "metadata": {
        "id": "Arr4ylaprVoJ"
      },
      "source": [
        "Through the exercise we have focused on couple of things\n",
        "\n",
        "The first part actually tell us about different part of the confusion matrix and how we can use the values from the confusion matrix several parameters which finally gives us a idea about how our model is performing. For example we know that Presion is the ratio of TP/(TP+FP), so the higher value of precison indicates that an example labeled as positive is indeed positive. Similarly for Negative predictive rate should also be higher, because its the ratio of TN/(TN+FN), so the higher value of Negative predictive rate indicates that an example labeled as negative is indeed negative. Its also indicating the less amount of FN. Ideal value for both case should be 1 indicating FP & FN are 0 in the above 2 parameters\n",
        "The scenario changes when we talk about False positive rate and False negative rate. In both cases best possible value is 0 and the worst value is 1. In Machine Learning, performance measurement is an essential task. Through the exercise we have got a strong understanding about how this parameters actually can be a strong indicator of model performances. \n",
        "\n",
        "Similarly ROC curve also gives a strong idea about the model by comparing the sensitivity (precsion) and false psoitive rate. Through the analysis we have also learnt about this curves and how more precision otherwise the curve to be more closer to the left and top corner of the plot indicates better performing model and curve closer to the bottom and right corner indicates bad model\n",
        "\n"
      ]
    },
    {
      "cell_type": "markdown",
      "metadata": {
        "id": "4pjNhGFUrVoK"
      },
      "source": [
        "So from the simulation classification analysis we found situations were a classification had the following results: \n",
        "Low recall, low precision where it indicated poor classification\n",
        "Low recall, high precision where our classifier is very picky, and does not identify most attacks. However it also misses a lot of actual atacks, because it is so very picky.\n",
        "High recall, high precision where our classifier is very good, it is very picky, but still it gets almost all of the attacks.\n",
        "Therefore having both high prevision and recall indicates a better calssification and is more prefered "
      ]
    },
    {
      "cell_type": "code",
      "metadata": {
        "id": "XMk6YPrFrVoK"
      },
      "source": [
        ""
      ],
      "execution_count": null,
      "outputs": []
    }
  ]
}